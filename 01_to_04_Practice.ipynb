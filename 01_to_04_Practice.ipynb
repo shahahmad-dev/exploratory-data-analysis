{
 "cells": [
  {
   "cell_type": "markdown",
   "id": "3c90359b",
   "metadata": {},
   "source": [
    "# **01_To_04_All_Lecture_Covered**"
   ]
  },
  {
   "cell_type": "code",
   "execution_count": null,
   "id": "d6c4b574",
   "metadata": {},
   "outputs": [],
   "source": [
    "#impot library \n",
    "import pandas as pd\n",
    "import numpy as np\n",
    "import seaborn as sns"
   ]
  },
  {
   "cell_type": "markdown",
   "id": "1fe1a1a7",
   "metadata": {},
   "source": [
    "# **01_Notebook**"
   ]
  },
  {
   "cell_type": "code",
   "execution_count": null,
   "id": "e2e962ae",
   "metadata": {},
   "outputs": [],
   "source": [
    "df = pd.read_csv('./Data_files/titanic.xlsx')"
   ]
  },
  {
   "cell_type": "code",
   "execution_count": null,
   "id": "767cfd51",
   "metadata": {},
   "outputs": [],
   "source": [
    "df.info()"
   ]
  },
  {
   "cell_type": "code",
   "execution_count": null,
   "id": "613a66b8",
   "metadata": {},
   "outputs": [],
   "source": [
    "df.head()"
   ]
  },
  {
   "cell_type": "code",
   "execution_count": null,
   "id": "26487b75",
   "metadata": {},
   "outputs": [],
   "source": [
    "df.tail()"
   ]
  },
  {
   "cell_type": "code",
   "execution_count": null,
   "id": "8d45d074",
   "metadata": {},
   "outputs": [],
   "source": [
    "df.describe()"
   ]
  },
  {
   "cell_type": "code",
   "execution_count": null,
   "id": "4603b7c4",
   "metadata": {},
   "outputs": [],
   "source": [
    "len(df)"
   ]
  },
  {
   "cell_type": "code",
   "execution_count": null,
   "id": "65c81bb7",
   "metadata": {},
   "outputs": [],
   "source": [
    "df.isnull().sum()"
   ]
  },
  {
   "cell_type": "code",
   "execution_count": null,
   "id": "848f2d0f",
   "metadata": {},
   "outputs": [],
   "source": [
    "df.isnull().sum() / len(df) * 100"
   ]
  },
  {
   "cell_type": "code",
   "execution_count": null,
   "id": "b190bc07",
   "metadata": {},
   "outputs": [],
   "source": [
    "sns.heatmap(df.isnull())"
   ]
  },
  {
   "cell_type": "code",
   "execution_count": null,
   "id": "5dd912ad",
   "metadata": {},
   "outputs": [],
   "source": [
    "df['sex'] # 1 columns\n",
    "df[['sex', 'age', 'fare']] # 3 columns"
   ]
  },
  {
   "cell_type": "code",
   "execution_count": null,
   "id": "1f05e19c",
   "metadata": {},
   "outputs": [],
   "source": [
    "df['sex'].unique() # check unique values in sex cloumns\n",
    "df.sex.nunique() # check unique values in number"
   ]
  },
  {
   "cell_type": "code",
   "execution_count": null,
   "id": "157d1bce",
   "metadata": {},
   "outputs": [],
   "source": [
    "df.embark_town.unique()"
   ]
  },
  {
   "cell_type": "code",
   "execution_count": null,
   "id": "bd051e19",
   "metadata": {},
   "outputs": [],
   "source": [
    "df.describe()"
   ]
  },
  {
   "cell_type": "code",
   "execution_count": null,
   "id": "a254496b",
   "metadata": {},
   "outputs": [],
   "source": [
    "# Group by function\n",
    "df.groupby(['survived', 'who']).size()"
   ]
  },
  {
   "cell_type": "code",
   "execution_count": null,
   "id": "c25bbf6a",
   "metadata": {},
   "outputs": [],
   "source": [
    "df.groupby(['sex', 'survived']).size()"
   ]
  },
  {
   "cell_type": "code",
   "execution_count": null,
   "id": "984a8bb3",
   "metadata": {},
   "outputs": [],
   "source": [
    "# Select just female who dead\n",
    "df.groupby(['survived','sex']).size().loc[ 0, 'female']"
   ]
  },
  {
   "cell_type": "code",
   "execution_count": null,
   "id": "e2647ba5",
   "metadata": {},
   "outputs": [],
   "source": [
    "# Select just female who both dead or survived\n",
    "df.groupby(['sex','survived']).size().loc['female']"
   ]
  },
  {
   "cell_type": "code",
   "execution_count": null,
   "id": "963dacaf",
   "metadata": {},
   "outputs": [],
   "source": [
    "df.groupby(['survived' ,'who']).size()"
   ]
  },
  {
   "cell_type": "code",
   "execution_count": null,
   "id": "3bf4ea83",
   "metadata": {},
   "outputs": [],
   "source": [
    "df.groupby([ 'who','survived']).size().loc[ 'man'] "
   ]
  },
  {
   "cell_type": "code",
   "execution_count": null,
   "id": "93f87f35",
   "metadata": {},
   "outputs": [],
   "source": [
    "df.groupby(['who', 'survived']).size().loc['child']"
   ]
  },
  {
   "cell_type": "code",
   "execution_count": null,
   "id": "eb5069a6",
   "metadata": {},
   "outputs": [],
   "source": [
    "correction_df = df[['fare', 'age', 'sibsp', 'parch']].corr()"
   ]
  },
  {
   "cell_type": "code",
   "execution_count": null,
   "id": "662d523d",
   "metadata": {},
   "outputs": [],
   "source": [
    "sns.heatmap(correction_df)"
   ]
  },
  {
   "cell_type": "code",
   "execution_count": null,
   "id": "a4e4b7e6",
   "metadata": {},
   "outputs": [],
   "source": [
    "sns.pairplot(df)"
   ]
  },
  {
   "cell_type": "code",
   "execution_count": null,
   "id": "b4297217",
   "metadata": {},
   "outputs": [],
   "source": [
    "df.drop('deck', axis=1, inplace=True)"
   ]
  },
  {
   "cell_type": "code",
   "execution_count": null,
   "id": "df68c595",
   "metadata": {},
   "outputs": [],
   "source": [
    "df.age.mean()"
   ]
  },
  {
   "cell_type": "code",
   "execution_count": null,
   "id": "b50bdfe9",
   "metadata": {},
   "outputs": [],
   "source": [
    "df.age.median()"
   ]
  },
  {
   "cell_type": "code",
   "execution_count": null,
   "id": "3359fef2",
   "metadata": {},
   "outputs": [],
   "source": [
    "df.age.mode() [0]"
   ]
  },
  {
   "cell_type": "code",
   "execution_count": null,
   "id": "483651b5",
   "metadata": {},
   "outputs": [],
   "source": [
    "df.survived.mode()[0]"
   ]
  },
  {
   "cell_type": "code",
   "execution_count": null,
   "id": "2f8c629b",
   "metadata": {},
   "outputs": [],
   "source": [
    "df.age.isnull().sum()"
   ]
  },
  {
   "cell_type": "code",
   "execution_count": null,
   "id": "20037bb1",
   "metadata": {},
   "outputs": [],
   "source": [
    "df.isnull().sum()"
   ]
  },
  {
   "cell_type": "code",
   "execution_count": null,
   "id": "8717c590",
   "metadata": {},
   "outputs": [],
   "source": [
    "df.head()"
   ]
  },
  {
   "cell_type": "code",
   "execution_count": null,
   "id": "91ec535d",
   "metadata": {},
   "outputs": [],
   "source": []
  },
  {
   "cell_type": "code",
   "execution_count": null,
   "id": "2118aaaf",
   "metadata": {},
   "outputs": [],
   "source": [
    "df.embark_town.isnull().sum()"
   ]
  },
  {
   "cell_type": "code",
   "execution_count": null,
   "id": "655a5126",
   "metadata": {},
   "outputs": [],
   "source": [
    "sns.heatmap(df.isnull())"
   ]
  },
  {
   "cell_type": "code",
   "execution_count": null,
   "id": "c6cd2e5f",
   "metadata": {},
   "outputs": [],
   "source": [
    "df['age'].fillna(df['age'].mean(), inplace=True)"
   ]
  },
  {
   "cell_type": "code",
   "execution_count": null,
   "id": "c2a29dc6",
   "metadata": {},
   "outputs": [],
   "source": [
    "df['embark_town'].fillna(df['embark_town'].mode() [0], inplace=True)"
   ]
  },
  {
   "cell_type": "code",
   "execution_count": null,
   "id": "f9ef2850",
   "metadata": {},
   "outputs": [],
   "source": [
    "df['embarked'].fillna(df['embarked'].median, inplace=True)"
   ]
  },
  {
   "cell_type": "code",
   "execution_count": null,
   "id": "7624933f",
   "metadata": {},
   "outputs": [],
   "source": [
    "df.sample(10)"
   ]
  },
  {
   "cell_type": "code",
   "execution_count": null,
   "id": "46f0bce9",
   "metadata": {},
   "outputs": [],
   "source": [
    "df.head()"
   ]
  },
  {
   "cell_type": "markdown",
   "id": "510601bc",
   "metadata": {},
   "source": [
    "# Binning"
   ]
  },
  {
   "cell_type": "code",
   "execution_count": null,
   "id": "20dcc251",
   "metadata": {},
   "outputs": [],
   "source": [
    "labels  = ['Under_Age', 'Audult', 'old', 'oldest' ]\n",
    "bins = [0, 18, 30,60,100  ]\n",
    "\n",
    "\n",
    "df['New_age'] = pd.cut(df['age'], bins = bins, labels = labels, right=False)"
   ]
  },
  {
   "cell_type": "code",
   "execution_count": null,
   "id": "c204e430",
   "metadata": {},
   "outputs": [],
   "source": [
    "df.New_age"
   ]
  },
  {
   "cell_type": "code",
   "execution_count": null,
   "id": "24981a2d",
   "metadata": {},
   "outputs": [],
   "source": [
    "bins = [0, 50, 150, 600 ]\n",
    "labels = ['Firts_Class', 'Second_Class', 'Third_Class']\n",
    "df['New_fare'] = pd.cut(df['fare'], bins = bins, labels=labels)"
   ]
  },
  {
   "cell_type": "code",
   "execution_count": null,
   "id": "c043e801",
   "metadata": {},
   "outputs": [],
   "source": [
    "df.head()"
   ]
  },
  {
   "cell_type": "code",
   "execution_count": null,
   "id": "1bd68a51",
   "metadata": {},
   "outputs": [],
   "source": [
    "bins = [ -0.1, 0, 1]\n",
    "labels = ['Murda', 'Zinda']\n",
    "df['New_survived'] = pd.cut(df['survived'], bins=bins, labels=labels)"
   ]
  },
  {
   "cell_type": "code",
   "execution_count": null,
   "id": "753e59e6",
   "metadata": {},
   "outputs": [],
   "source": [
    "df.head()"
   ]
  },
  {
   "cell_type": "markdown",
   "id": "aa88fef7",
   "metadata": {},
   "source": [
    "# Rename a columns  "
   ]
  },
  {
   "cell_type": "code",
   "execution_count": null,
   "id": "941aaae0",
   "metadata": {},
   "outputs": [],
   "source": [
    "# df.rename(columns={'New_age': ' New_age_B'}, inplace=True)"
   ]
  },
  {
   "cell_type": "code",
   "execution_count": null,
   "id": "4fdb710f",
   "metadata": {},
   "outputs": [],
   "source": [
    "# df.rename(columns={'New_age_B': 'New_age'}, inplace=True)"
   ]
  },
  {
   "cell_type": "markdown",
   "id": "b47e6ccb",
   "metadata": {},
   "source": [
    "# Filtering "
   ]
  },
  {
   "cell_type": "code",
   "execution_count": null,
   "id": "1ade7fc5",
   "metadata": {},
   "outputs": [],
   "source": [
    "# df_First = df[df['class']=='First']\n",
    "df_First = df[df['class'] == 'First']\n"
   ]
  },
  {
   "cell_type": "code",
   "execution_count": null,
   "id": "6a8ead1a",
   "metadata": {},
   "outputs": [],
   "source": [
    "df.head()"
   ]
  },
  {
   "cell_type": "code",
   "execution_count": null,
   "id": "1a0a48f8",
   "metadata": {},
   "outputs": [],
   "source": [
    "df[df['fare']> 500]"
   ]
  },
  {
   "cell_type": "code",
   "execution_count": null,
   "id": "ccaea9dc",
   "metadata": {},
   "outputs": [],
   "source": [
    "df[(df['fare']> 70) & (df['class']== 'Second')]"
   ]
  },
  {
   "cell_type": "code",
   "execution_count": null,
   "id": "9e44b41d",
   "metadata": {},
   "outputs": [],
   "source": [
    "df[(df['fare'] > 80)& (df['class']=='First')].sort_values(by='fare') "
   ]
  },
  {
   "cell_type": "code",
   "execution_count": null,
   "id": "e86c41b2",
   "metadata": {},
   "outputs": [],
   "source": [
    "len(df[(df['survived']== 1) & (df['who']=='woman') ])"
   ]
  },
  {
   "cell_type": "code",
   "execution_count": null,
   "id": "18f12eda",
   "metadata": {},
   "outputs": [],
   "source": [
    "len(df[(df['survived']== 1) & (df['who'] == 'man')])"
   ]
  },
  {
   "cell_type": "code",
   "execution_count": null,
   "id": "0254bc85",
   "metadata": {},
   "outputs": [],
   "source": [
    "len(df[(df['survived'] == 1) & (df['who']== 'child')])"
   ]
  },
  {
   "cell_type": "code",
   "execution_count": null,
   "id": "356a6bde",
   "metadata": {},
   "outputs": [],
   "source": [
    "df.survived.value_counts()"
   ]
  },
  {
   "cell_type": "markdown",
   "id": "b56e904e",
   "metadata": {},
   "source": [
    "# **Pakistani Population Analysis**"
   ]
  },
  {
   "cell_type": "markdown",
   "id": "6521793e",
   "metadata": {},
   "source": [
    "# **02_Notebook**"
   ]
  },
  {
   "cell_type": "code",
   "execution_count": null,
   "id": "d99a6653",
   "metadata": {},
   "outputs": [],
   "source": [
    "# Import the libraries\n",
    "import pandas as pd\n",
    "import numpy as np\n",
    "import matplotlib.pyplot as plt\n",
    "import seaborn as sns"
   ]
  },
  {
   "cell_type": "code",
   "execution_count": null,
   "id": "422ec7d2",
   "metadata": {},
   "outputs": [],
   "source": [
    "df = pd.read_csv('./Data_files/pak_pop.csv')"
   ]
  },
  {
   "cell_type": "code",
   "execution_count": null,
   "id": "61653f72",
   "metadata": {},
   "outputs": [],
   "source": [
    "df.head()"
   ]
  },
  {
   "cell_type": "code",
   "execution_count": null,
   "id": "ff5de2f4",
   "metadata": {},
   "outputs": [],
   "source": [
    "pd.set_option('display.max_columns', None)\n",
    "pd.set_option('display.max_rows', None)"
   ]
  },
  {
   "cell_type": "code",
   "execution_count": null,
   "id": "24437aae",
   "metadata": {},
   "outputs": [],
   "source": [
    "df.head()"
   ]
  },
  {
   "cell_type": "code",
   "execution_count": null,
   "id": "60510644",
   "metadata": {},
   "outputs": [],
   "source": [
    "df.dtypes"
   ]
  },
  {
   "cell_type": "code",
   "execution_count": null,
   "id": "2bf44b86",
   "metadata": {},
   "outputs": [],
   "source": [
    "df.isnull().sum()"
   ]
  },
  {
   "cell_type": "code",
   "execution_count": null,
   "id": "872de949",
   "metadata": {},
   "outputs": [],
   "source": [
    "#boxplot\n",
    "sns.histplot(df,x='FEMALE (RURAL)')"
   ]
  },
  {
   "cell_type": "code",
   "execution_count": null,
   "id": "31c07e87",
   "metadata": {},
   "outputs": [],
   "source": [
    "sns.boxplot(df,x = 'MALE (RURAL)', y = 'FEMALE (RURAL)' )"
   ]
  },
  {
   "cell_type": "code",
   "execution_count": null,
   "id": "d50dcd52",
   "metadata": {},
   "outputs": [],
   "source": [
    "df.groupby(['DIVISION']).size().sort_values()"
   ]
  },
  {
   "cell_type": "code",
   "execution_count": null,
   "id": "163b421f",
   "metadata": {},
   "outputs": [],
   "source": [
    "df.groupby(['PROVINCE','DIVISION']) ['AREA (sq.km)'].mean()"
   ]
  },
  {
   "cell_type": "code",
   "execution_count": null,
   "id": "67015e95",
   "metadata": {},
   "outputs": [],
   "source": [
    "df.describe().T"
   ]
  },
  {
   "cell_type": "code",
   "execution_count": null,
   "id": "581319e7",
   "metadata": {},
   "outputs": [],
   "source": [
    "pop_17 = df['ALL SEXES (RURAL)'].sum() # total population in 2017"
   ]
  },
  {
   "cell_type": "code",
   "execution_count": null,
   "id": "43d7864d",
   "metadata": {},
   "outputs": [],
   "source": [
    "pop_98 = df['POPULATION 1998 (URBAN)'].sum() # total population in 1998"
   ]
  },
  {
   "cell_type": "code",
   "execution_count": null,
   "id": "ff2022f6",
   "metadata": {},
   "outputs": [],
   "source": [
    "pop_17 - pop_98"
   ]
  },
  {
   "cell_type": "code",
   "execution_count": null,
   "id": "48f73d40",
   "metadata": {},
   "outputs": [],
   "source": [
    "pop_98 / pop_17 * 100"
   ]
  },
  {
   "cell_type": "markdown",
   "id": "08ea2460",
   "metadata": {},
   "source": [
    "# Automatic EDA using  `ydata_profilig`"
   ]
  },
  {
   "cell_type": "code",
   "execution_count": null,
   "id": "08363c9d",
   "metadata": {},
   "outputs": [],
   "source": [
    "import pandas as pd\n",
    "import seaborn as sns\n",
    "import ydata_profiling as yd\n"
   ]
  },
  {
   "cell_type": "code",
   "execution_count": null,
   "id": "fcdcec7a",
   "metadata": {},
   "outputs": [],
   "source": [
    "df = pd.read_csv('./Data_files/titanic.xlsx')"
   ]
  },
  {
   "cell_type": "code",
   "execution_count": null,
   "id": "ca772526",
   "metadata": {},
   "outputs": [],
   "source": [
    "profile = yd.ProfileReport(df)\n",
    "profile.to_file('./Data_files/01_to_04.html')"
   ]
  },
  {
   "cell_type": "code",
   "execution_count": null,
   "id": "979bdefa",
   "metadata": {},
   "outputs": [],
   "source": [
    "df = pd.read_csv('./Data_files/pak_pop.csv')"
   ]
  },
  {
   "cell_type": "code",
   "execution_count": 8,
   "id": "eb695821",
   "metadata": {},
   "outputs": [
    {
     "name": "stderr",
     "output_type": "stream",
     "text": [
      "100%|██████████| 21/21 [00:00<00:00, 479.18it/s]<00:00, 43.52it/s, Describe variable: ANNUAL GROWTH RATE (URBAN)]\n",
      "Summarize dataset: 100%|██████████| 319/319 [00:44<00:00,  7.17it/s, Completed]                                                     \n",
      "Generate report structure: 100%|██████████| 1/1 [00:08<00:00,  8.31s/it]\n",
      "Render HTML: 100%|██████████| 1/1 [00:10<00:00, 10.85s/it]\n",
      "Export report to file: 100%|██████████| 1/1 [00:00<00:00, 14.38it/s]\n"
     ]
    }
   ],
   "source": [
    "\n",
    "profile = yd.ProfileReport(df)\n",
    "profile.to_file('./Data_files/01_to_04_pak_pop.html')"
   ]
  },
  {
   "cell_type": "code",
   "execution_count": null,
   "id": "ee06389f",
   "metadata": {},
   "outputs": [],
   "source": []
  }
 ],
 "metadata": {
  "kernelspec": {
   "display_name": "ydata_profiling",
   "language": "python",
   "name": "python3"
  },
  "language_info": {
   "codemirror_mode": {
    "name": "ipython",
    "version": 3
   },
   "file_extension": ".py",
   "mimetype": "text/x-python",
   "name": "python",
   "nbconvert_exporter": "python",
   "pygments_lexer": "ipython3",
   "version": "3.10.0"
  }
 },
 "nbformat": 4,
 "nbformat_minor": 5
}
