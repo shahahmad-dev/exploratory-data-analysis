{
 "cells": [
  {
   "cell_type": "markdown",
   "id": "3c90359b",
   "metadata": {},
   "source": [
    "# **01_To_04_All_Lecture_Covered**"
   ]
  },
  {
   "cell_type": "code",
   "execution_count": null,
   "id": "d6c4b574",
   "metadata": {},
   "outputs": [],
   "source": [
    "#impot library \n",
    "import pandas as pd\n",
    "import numpy as np\n",
    "import seaborn as sns"
   ]
  },
  {
   "cell_type": "markdown",
   "id": "1fe1a1a7",
   "metadata": {},
   "source": [
    "# **01_Notebook**"
   ]
  },
  {
   "cell_type": "code",
   "execution_count": null,
   "id": "e2e962ae",
   "metadata": {},
   "outputs": [],
   "source": [
    "df = pd.read_csv('./Data_files/titanic.xlsx')"
   ]
  },
  {
   "cell_type": "code",
   "execution_count": null,
   "id": "767cfd51",
   "metadata": {},
   "outputs": [],
   "source": [
    "df.info()"
   ]
  },
  {
   "cell_type": "code",
   "execution_count": null,
   "id": "613a66b8",
   "metadata": {},
   "outputs": [],
   "source": [
    "df.head()"
   ]
  },
  {
   "cell_type": "code",
   "execution_count": null,
   "id": "26487b75",
   "metadata": {},
   "outputs": [],
   "source": [
    "df.tail()"
   ]
  },
  {
   "cell_type": "code",
   "execution_count": null,
   "id": "8d45d074",
   "metadata": {},
   "outputs": [],
   "source": [
    "df.describe()"
   ]
  },
  {
   "cell_type": "code",
   "execution_count": null,
   "id": "4603b7c4",
   "metadata": {},
   "outputs": [],
   "source": [
    "len(df)"
   ]
  },
  {
   "cell_type": "code",
   "execution_count": null,
   "id": "65c81bb7",
   "metadata": {},
   "outputs": [],
   "source": [
    "df.isnull().sum()"
   ]
  },
  {
   "cell_type": "code",
   "execution_count": null,
   "id": "848f2d0f",
   "metadata": {},
   "outputs": [],
   "source": [
    "df.isnull().sum() / len(df) * 100"
   ]
  },
  {
   "cell_type": "code",
   "execution_count": null,
   "id": "b190bc07",
   "metadata": {},
   "outputs": [],
   "source": [
    "sns.heatmap(df.isnull())"
   ]
  },
  {
   "cell_type": "code",
   "execution_count": null,
   "id": "5dd912ad",
   "metadata": {},
   "outputs": [],
   "source": [
    "df['sex'] # 1 columns\n",
    "df[['sex', 'age', 'fare']] # 3 columns"
   ]
  },
  {
   "cell_type": "code",
   "execution_count": null,
   "id": "1f05e19c",
   "metadata": {},
   "outputs": [],
   "source": [
    "df['sex'].unique() # check unique values in sex cloumns\n",
    "df.sex.nunique() # check unique values in number"
   ]
  },
  {
   "cell_type": "code",
   "execution_count": null,
   "id": "157d1bce",
   "metadata": {},
   "outputs": [],
   "source": [
    "df.embark_town.unique()"
   ]
  },
  {
   "cell_type": "code",
   "execution_count": null,
   "id": "bd051e19",
   "metadata": {},
   "outputs": [],
   "source": [
    "df.describe()"
   ]
  },
  {
   "cell_type": "code",
   "execution_count": null,
   "id": "a254496b",
   "metadata": {},
   "outputs": [],
   "source": [
    "# Group by function\n",
    "df.groupby(['survived', 'who']).size()"
   ]
  },
  {
   "cell_type": "code",
   "execution_count": null,
   "id": "c25bbf6a",
   "metadata": {},
   "outputs": [],
   "source": [
    "df.groupby(['sex', 'survived']).size()"
   ]
  },
  {
   "cell_type": "code",
   "execution_count": null,
   "id": "984a8bb3",
   "metadata": {},
   "outputs": [],
   "source": [
    "# Select just female who dead\n",
    "df.groupby(['survived','sex']).size().loc[ 0, 'female']"
   ]
  },
  {
   "cell_type": "code",
   "execution_count": null,
   "id": "e2647ba5",
   "metadata": {},
   "outputs": [],
   "source": [
    "# Select just female who both dead or survived\n",
    "df.groupby(['sex','survived']).size().loc['female']"
   ]
  },
  {
   "cell_type": "code",
   "execution_count": null,
   "id": "963dacaf",
   "metadata": {},
   "outputs": [],
   "source": [
    "df.groupby(['survived' ,'who']).size()"
   ]
  },
  {
   "cell_type": "code",
   "execution_count": null,
   "id": "3bf4ea83",
   "metadata": {},
   "outputs": [],
   "source": [
    "df.groupby([ 'who','survived']).size().loc[ 'man'] "
   ]
  },
  {
   "cell_type": "code",
   "execution_count": null,
   "id": "93f87f35",
   "metadata": {},
   "outputs": [],
   "source": [
    "df.groupby(['who', 'survived']).size().loc['child']"
   ]
  },
  {
   "cell_type": "code",
   "execution_count": null,
   "id": "eb5069a6",
   "metadata": {},
   "outputs": [],
   "source": [
    "correction_df = df[['fare', 'age', 'sibsp', 'parch']].corr()"
   ]
  },
  {
   "cell_type": "code",
   "execution_count": null,
   "id": "662d523d",
   "metadata": {},
   "outputs": [],
   "source": [
    "sns.heatmap(correction_df)"
   ]
  },
  {
   "cell_type": "code",
   "execution_count": null,
   "id": "a4e4b7e6",
   "metadata": {},
   "outputs": [],
   "source": [
    "sns.pairplot(df)"
   ]
  },
  {
   "cell_type": "code",
   "execution_count": null,
   "id": "b4297217",
   "metadata": {},
   "outputs": [],
   "source": [
    "df.drop('deck', axis=1, inplace=True)"
   ]
  },
  {
   "cell_type": "code",
   "execution_count": null,
   "id": "df68c595",
   "metadata": {},
   "outputs": [],
   "source": [
    "df.age.mean()"
   ]
  },
  {
   "cell_type": "code",
   "execution_count": null,
   "id": "b50bdfe9",
   "metadata": {},
   "outputs": [],
   "source": [
    "df.age.median()"
   ]
  },
  {
   "cell_type": "code",
   "execution_count": null,
   "id": "3359fef2",
   "metadata": {},
   "outputs": [],
   "source": [
    "df.age.mode() [0]"
   ]
  },
  {
   "cell_type": "code",
   "execution_count": null,
   "id": "483651b5",
   "metadata": {},
   "outputs": [],
   "source": [
    "df.survived.mode()[0]"
   ]
  },
  {
   "cell_type": "code",
   "execution_count": null,
   "id": "2f8c629b",
   "metadata": {},
   "outputs": [],
   "source": [
    "df.age.isnull().sum()"
   ]
  },
  {
   "cell_type": "code",
   "execution_count": null,
   "id": "20037bb1",
   "metadata": {},
   "outputs": [],
   "source": [
    "df.isnull().sum()"
   ]
  },
  {
   "cell_type": "code",
   "execution_count": null,
   "id": "8717c590",
   "metadata": {},
   "outputs": [],
   "source": [
    "df.head()"
   ]
  },
  {
   "cell_type": "code",
   "execution_count": null,
   "id": "91ec535d",
   "metadata": {},
   "outputs": [],
   "source": []
  },
  {
   "cell_type": "code",
   "execution_count": null,
   "id": "2118aaaf",
   "metadata": {},
   "outputs": [],
   "source": [
    "df.embark_town.isnull().sum()"
   ]
  },
  {
   "cell_type": "code",
   "execution_count": null,
   "id": "655a5126",
   "metadata": {},
   "outputs": [],
   "source": [
    "sns.heatmap(df.isnull())"
   ]
  },
  {
   "cell_type": "code",
   "execution_count": null,
   "id": "c6cd2e5f",
   "metadata": {},
   "outputs": [],
   "source": [
    "df['age'].fillna(df['age'].mean(), inplace=True)"
   ]
  },
  {
   "cell_type": "code",
   "execution_count": null,
   "id": "c2a29dc6",
   "metadata": {},
   "outputs": [],
   "source": [
    "df['embark_town'].fillna(df['embark_town'].mode() [0], inplace=True)"
   ]
  },
  {
   "cell_type": "code",
   "execution_count": null,
   "id": "f9ef2850",
   "metadata": {},
   "outputs": [],
   "source": [
    "df['embarked'].fillna(df['embarked'].median, inplace=True)"
   ]
  },
  {
   "cell_type": "code",
   "execution_count": null,
   "id": "7624933f",
   "metadata": {},
   "outputs": [],
   "source": [
    "df.sample(10)"
   ]
  },
  {
   "cell_type": "code",
   "execution_count": null,
   "id": "46f0bce9",
   "metadata": {},
   "outputs": [],
   "source": [
    "df.head()"
   ]
  },
  {
   "cell_type": "markdown",
   "id": "510601bc",
   "metadata": {},
   "source": [
    "# Binning"
   ]
  },
  {
   "cell_type": "code",
   "execution_count": null,
   "id": "20dcc251",
   "metadata": {},
   "outputs": [],
   "source": [
    "labels  = ['Under_Age', 'Audult', 'old', 'oldest' ]\n",
    "bins = [0, 18, 30,60,100  ]\n",
    "\n",
    "\n",
    "df['New_age'] = pd.cut(df['age'], bins = bins, labels = labels, right=False)"
   ]
  },
  {
   "cell_type": "code",
   "execution_count": null,
   "id": "c204e430",
   "metadata": {},
   "outputs": [],
   "source": [
    "df.New_age"
   ]
  },
  {
   "cell_type": "code",
   "execution_count": null,
   "id": "24981a2d",
   "metadata": {},
   "outputs": [],
   "source": [
    "bins = [0, 50, 150, 600 ]\n",
    "labels = ['Firts_Class', 'Second_Class', 'Third_Class']\n",
    "df['New_fare'] = pd.cut(df['fare'], bins = bins, labels=labels)"
   ]
  },
  {
   "cell_type": "code",
   "execution_count": null,
   "id": "c043e801",
   "metadata": {},
   "outputs": [],
   "source": [
    "df.head()"
   ]
  },
  {
   "cell_type": "code",
   "execution_count": null,
   "id": "1bd68a51",
   "metadata": {},
   "outputs": [],
   "source": [
    "bins = [ -0.1, 0, 1]\n",
    "labels = ['Murda', 'Zinda']\n",
    "df['New_survived'] = pd.cut(df['survived'], bins=bins, labels=labels)"
   ]
  },
  {
   "cell_type": "code",
   "execution_count": null,
   "id": "753e59e6",
   "metadata": {},
   "outputs": [],
   "source": [
    "df.head()"
   ]
  },
  {
   "cell_type": "markdown",
   "id": "aa88fef7",
   "metadata": {},
   "source": [
    "# Rename a columns  "
   ]
  },
  {
   "cell_type": "code",
   "execution_count": null,
   "id": "941aaae0",
   "metadata": {},
   "outputs": [],
   "source": [
    "# df.rename(columns={'New_age': ' New_age_B'}, inplace=True)"
   ]
  },
  {
   "cell_type": "code",
   "execution_count": null,
   "id": "4fdb710f",
   "metadata": {},
   "outputs": [],
   "source": [
    "# df.rename(columns={'New_age_B': 'New_age'}, inplace=True)"
   ]
  },
  {
   "cell_type": "markdown",
   "id": "b47e6ccb",
   "metadata": {},
   "source": [
    "# Filtering "
   ]
  },
  {
   "cell_type": "code",
   "execution_count": null,
   "id": "1ade7fc5",
   "metadata": {},
   "outputs": [],
   "source": [
    "# df_First = df[df['class']=='First']\n",
    "df_First = df[df['class'] == 'First']\n"
   ]
  },
  {
   "cell_type": "code",
   "execution_count": null,
   "id": "6a8ead1a",
   "metadata": {},
   "outputs": [],
   "source": [
    "df.head()"
   ]
  },
  {
   "cell_type": "code",
   "execution_count": null,
   "id": "1a0a48f8",
   "metadata": {},
   "outputs": [],
   "source": [
    "df[df['fare']> 500]"
   ]
  },
  {
   "cell_type": "code",
   "execution_count": null,
   "id": "ccaea9dc",
   "metadata": {},
   "outputs": [],
   "source": [
    "df[(df['fare']> 70) & (df['class']== 'Second')]"
   ]
  },
  {
   "cell_type": "code",
   "execution_count": null,
   "id": "9e44b41d",
   "metadata": {},
   "outputs": [],
   "source": [
    "df[(df['fare'] > 80)& (df['class']=='First')].sort_values(by='fare') "
   ]
  },
  {
   "cell_type": "code",
   "execution_count": null,
   "id": "e86c41b2",
   "metadata": {},
   "outputs": [],
   "source": [
    "len(df[(df['survived']== 1) & (df['who']=='woman') ])"
   ]
  },
  {
   "cell_type": "code",
   "execution_count": null,
   "id": "18f12eda",
   "metadata": {},
   "outputs": [],
   "source": [
    "len(df[(df['survived']== 1) & (df['who'] == 'man')])"
   ]
  },
  {
   "cell_type": "code",
   "execution_count": null,
   "id": "0254bc85",
   "metadata": {},
   "outputs": [],
   "source": [
    "len(df[(df['survived'] == 1) & (df['who']== 'child')])"
   ]
  },
  {
   "cell_type": "code",
   "execution_count": null,
   "id": "356a6bde",
   "metadata": {},
   "outputs": [],
   "source": [
    "df.survived.value_counts()"
   ]
  },
  {
   "cell_type": "markdown",
   "id": "b56e904e",
   "metadata": {},
   "source": [
    "# **Pakistani Population Analysis**"
   ]
  },
  {
   "cell_type": "markdown",
   "id": "6521793e",
   "metadata": {},
   "source": [
    "# **02_Notebook**"
   ]
  },
  {
   "cell_type": "code",
   "execution_count": null,
   "id": "d99a6653",
   "metadata": {},
   "outputs": [],
   "source": [
    "# Import the libraries\n",
    "import pandas as pd\n",
    "import numpy as np\n",
    "import matplotlib.pyplot as plt\n",
    "import seaborn as sns"
   ]
  },
  {
   "cell_type": "code",
   "execution_count": null,
   "id": "422ec7d2",
   "metadata": {},
   "outputs": [],
   "source": [
    "df = pd.read_csv('./Data_files/pak_pop.csv')"
   ]
  },
  {
   "cell_type": "code",
   "execution_count": null,
   "id": "61653f72",
   "metadata": {},
   "outputs": [],
   "source": [
    "df.head()"
   ]
  },
  {
   "cell_type": "code",
   "execution_count": null,
   "id": "ff5de2f4",
   "metadata": {},
   "outputs": [],
   "source": [
    "pd.set_option('display.max_columns', None)\n",
    "pd.set_option('display.max_rows', None)"
   ]
  },
  {
   "cell_type": "code",
   "execution_count": null,
   "id": "24437aae",
   "metadata": {},
   "outputs": [],
   "source": [
    "df.head()"
   ]
  },
  {
   "cell_type": "code",
   "execution_count": null,
   "id": "60510644",
   "metadata": {},
   "outputs": [],
   "source": [
    "df.dtypes"
   ]
  },
  {
   "cell_type": "code",
   "execution_count": null,
   "id": "2bf44b86",
   "metadata": {},
   "outputs": [],
   "source": [
    "df.isnull().sum()"
   ]
  },
  {
   "cell_type": "code",
   "execution_count": null,
   "id": "872de949",
   "metadata": {},
   "outputs": [],
   "source": [
    "#boxplot\n",
    "sns.histplot(df,x='FEMALE (RURAL)')"
   ]
  },
  {
   "cell_type": "code",
   "execution_count": null,
   "id": "31c07e87",
   "metadata": {},
   "outputs": [],
   "source": [
    "sns.boxplot(df,x = 'MALE (RURAL)', y = 'FEMALE (RURAL)' )"
   ]
  },
  {
   "cell_type": "code",
   "execution_count": null,
   "id": "d50dcd52",
   "metadata": {},
   "outputs": [],
   "source": [
    "df.groupby(['DIVISION']).size().sort_values()"
   ]
  },
  {
   "cell_type": "code",
   "execution_count": null,
   "id": "163b421f",
   "metadata": {},
   "outputs": [],
   "source": [
    "df.groupby(['PROVINCE','DIVISION']) ['AREA (sq.km)'].mean()"
   ]
  },
  {
   "cell_type": "code",
   "execution_count": null,
   "id": "67015e95",
   "metadata": {},
   "outputs": [],
   "source": [
    "df.describe().T"
   ]
  },
  {
   "cell_type": "code",
   "execution_count": null,
   "id": "581319e7",
   "metadata": {},
   "outputs": [],
   "source": [
    "pop_17 = df['ALL SEXES (RURAL)'].sum() # total population in 2017"
   ]
  },
  {
   "cell_type": "code",
   "execution_count": null,
   "id": "43d7864d",
   "metadata": {},
   "outputs": [],
   "source": [
    "pop_98 = df['POPULATION 1998 (URBAN)'].sum() # total population in 1998"
   ]
  },
  {
   "cell_type": "code",
   "execution_count": null,
   "id": "ff2022f6",
   "metadata": {},
   "outputs": [],
   "source": [
    "pop_17 - pop_98"
   ]
  },
  {
   "cell_type": "code",
   "execution_count": null,
   "id": "48f73d40",
   "metadata": {},
   "outputs": [],
   "source": [
    "pop_98 / pop_17 * 100"
   ]
  },
  {
   "cell_type": "markdown",
   "id": "08ea2460",
   "metadata": {},
   "source": [
    "# Automatic EDA using  `ydata_profilig`"
   ]
  },
  {
   "cell_type": "code",
   "execution_count": 5,
   "id": "08363c9d",
   "metadata": {},
   "outputs": [
    {
     "name": "stderr",
     "output_type": "stream",
     "text": [
      "/opt/miniconda3/envs/ydata_profiling/lib/python3.10/site-packages/tqdm/auto.py:21: TqdmWarning: IProgress not found. Please update jupyter and ipywidgets. See https://ipywidgets.readthedocs.io/en/stable/user_install.html\n",
      "  from .autonotebook import tqdm as notebook_tqdm\n"
     ]
    },
    {
     "data": {
      "text/html": [
       "\n",
       "            <div>\n",
       "                <ins><a href=\"https://ydata.ai/register\">Upgrade to ydata-sdk</a></ins>\n",
       "                <p>\n",
       "                    Improve your data and profiling with ydata-sdk, featuring data quality scoring, redundancy detection, outlier identification, text validation, and synthetic data generation.\n",
       "                </p>\n",
       "            </div>\n",
       "            "
      ],
      "text/plain": [
       "<IPython.core.display.HTML object>"
      ]
     },
     "metadata": {},
     "output_type": "display_data"
    }
   ],
   "source": [
    "import pandas as pd\n",
    "import seaborn as sns\n",
    "import ydata_profiling as yd\n"
   ]
  },
  {
   "cell_type": "code",
   "execution_count": null,
   "id": "fcdcec7a",
   "metadata": {},
   "outputs": [],
   "source": [
    "df = pd.read_csv('./Data_files/titanic.xlsx')"
   ]
  },
  {
   "cell_type": "code",
   "execution_count": null,
   "id": "ca772526",
   "metadata": {},
   "outputs": [],
   "source": [
    "profile = yd.ProfileReport(df)\n",
    "profile.to_file('./Data_files/01_to_04.html')"
   ]
  },
  {
   "cell_type": "code",
   "execution_count": null,
   "id": "979bdefa",
   "metadata": {},
   "outputs": [],
   "source": [
    "df = pd.read_csv('./Data_files/pak_pop.csv')"
   ]
  },
  {
   "cell_type": "code",
   "execution_count": null,
   "id": "eb695821",
   "metadata": {},
   "outputs": [],
   "source": [
    "\n",
    "profile.to_file('./Data_files/01_to_04_pak_pop.html')\n",
    "profile = yd.ProfileReport(df)"
   ]
  },
  {
   "cell_type": "markdown",
   "id": "6470aa21",
   "metadata": {},
   "source": [
    "# Skimpy library"
   ]
  },
  {
   "cell_type": "code",
   "execution_count": null,
   "id": "ee06389f",
   "metadata": {},
   "outputs": [],
   "source": [
    "import pandas as pd\n",
    "from skimpy import skim"
   ]
  },
  {
   "cell_type": "code",
   "execution_count": null,
   "id": "088f5086",
   "metadata": {},
   "outputs": [],
   "source": [
    "df = pd.read_csv('./Data_files/pak_pop.csv')"
   ]
  },
  {
   "cell_type": "code",
   "execution_count": null,
   "id": "1d0fff7f",
   "metadata": {},
   "outputs": [],
   "source": [
    "skim(df)"
   ]
  },
  {
   "cell_type": "markdown",
   "id": "1517c799",
   "metadata": {},
   "source": [
    "# Google App Store EDA"
   ]
  },
  {
   "cell_type": "markdown",
   "id": "28d024ee",
   "metadata": {},
   "source": [
    "# **04**"
   ]
  },
  {
   "cell_type": "code",
   "execution_count": 2,
   "id": "df9d4196",
   "metadata": {},
   "outputs": [],
   "source": [
    "\n",
    "# import libraries\n",
    "import pandas as pd\n",
    "import numpy as np\n",
    "import matplotlib.pyplot as plt\n",
    "import seaborn as sns"
   ]
  },
  {
   "cell_type": "code",
   "execution_count": null,
   "id": "e7159787",
   "metadata": {},
   "outputs": [],
   "source": [
    "df = pd.read_csv('./Data_files/googleplaystore.csv')"
   ]
  },
  {
   "cell_type": "markdown",
   "id": "5757ba1d",
   "metadata": {},
   "source": [
    "# Assignment: write down all the numeric variables and make them numeric?\n",
    "1. size\n",
    "2. install\n",
    "3. price\n"
   ]
  },
  {
   "cell_type": "code",
   "execution_count": null,
   "id": "96e3b517",
   "metadata": {},
   "outputs": [],
   "source": [
    "df['Size'].value_counts()"
   ]
  },
  {
   "cell_type": "code",
   "execution_count": null,
   "id": "103c9e5e",
   "metadata": {},
   "outputs": [],
   "source": [
    "def convert_size(Size):\n",
    "\n",
    "    if isinstance(Size, str):\n",
    "\n",
    "        Size = Size.strip()\n",
    "        if Size.endswith('M'):\n",
    "            return float(Size.replace('M', '')) * 1024 * 1024\n",
    "        \n",
    "        elif Size.endswith('k'):\n",
    "            return float(Size.replace('k', '')) * 1024\n",
    "        \n",
    "        elif Size.endswith('G'):\n",
    "            return float(Size.replace('G' , '')) * 1024 * 1024 * 1024\n",
    "        \n",
    "    return None\n",
    "df['Size'] = df['Size'].apply(convert_size)\n",
    "df['Size'] = df['Size'].fillna(0)\n"
   ]
  },
  {
   "cell_type": "code",
   "execution_count": null,
   "id": "61a4d287",
   "metadata": {},
   "outputs": [],
   "source": [
    "# bins = [0 , 100, 1000, 10000, 100000, 1000000, \n",
    "#         10000000, 100000000, 1000000000]\n",
    "# labels = ['1hundred', 'Thousand', 'Ten_Thousand', 'Hundred_Thousand',\n",
    "#            'Million', 'Ten_Million', 'Hundred_Million', 'Billion']\n",
    "# df['Modified_installs']=pd.cut(['installs'], bins=bins, labels=labels)\n",
    "\n"
   ]
  },
  {
   "cell_type": "code",
   "execution_count": 23,
   "id": "c989e7c4",
   "metadata": {},
   "outputs": [
    {
     "data": {
      "application/vnd.microsoft.datawrangler.viewer.v0+json": {
       "columns": [
        {
         "name": "index",
         "rawType": "int64",
         "type": "integer"
        },
        {
         "name": "App",
         "rawType": "object",
         "type": "string"
        },
        {
         "name": "Category",
         "rawType": "object",
         "type": "string"
        },
        {
         "name": "Rating",
         "rawType": "float64",
         "type": "float"
        },
        {
         "name": "Reviews",
         "rawType": "object",
         "type": "string"
        },
        {
         "name": "Size",
         "rawType": "int64",
         "type": "integer"
        },
        {
         "name": "Installs",
         "rawType": "object",
         "type": "string"
        },
        {
         "name": "Type",
         "rawType": "object",
         "type": "string"
        },
        {
         "name": "Price",
         "rawType": "object",
         "type": "string"
        },
        {
         "name": "Content Rating",
         "rawType": "object",
         "type": "string"
        },
        {
         "name": "Genres",
         "rawType": "object",
         "type": "string"
        },
        {
         "name": "Last Updated",
         "rawType": "object",
         "type": "string"
        },
        {
         "name": "Current Ver",
         "rawType": "object",
         "type": "string"
        },
        {
         "name": "Android Ver",
         "rawType": "object",
         "type": "string"
        }
       ],
       "ref": "5c47201b-12fc-4066-bc6c-1c3dce0393e1",
       "rows": [
        [
         "808",
         "busuu: Learn Languages - Spanish, English & More",
         "EDUCATION",
         "4.3",
         "206527",
         "0",
         "10,000,000+",
         "Free",
         "0",
         "Everyone 10+",
         "Education",
         "August 1, 2018",
         "13.9.0.161",
         "5.0 and up"
        ],
        [
         "417",
         "Opera Mini - fast web browser",
         "COMMUNICATION",
         "4.5",
         "5150471",
         "0",
         "100,000,000+",
         "Free",
         "0",
         "Everyone",
         "Communication",
         "July 19, 2018",
         "Varies with device",
         "Varies with device"
        ],
        [
         "9248",
         "ECナビ×シュフー",
         "LIFESTYLE",
         "4.0",
         "576",
         "0",
         "50,000+",
         "Free",
         "0",
         "Everyone",
         "Lifestyle",
         "June 7, 2018",
         "1.0.2",
         "4.0 and up"
        ],
        [
         "8227",
         "DB Customer Connect",
         "BUSINESS",
         "4.2",
         "100",
         "0",
         "10,000+",
         "Free",
         "0",
         "Everyone",
         "Business",
         "July 21, 2018",
         "2.0.0",
         "4.1 and up"
        ],
        [
         "2301",
         "A Manual of Acupuncture",
         "MEDICAL",
         "3.5",
         "214",
         "0",
         "1,000+",
         "Paid",
         "$33.99",
         "Everyone",
         "Medical",
         "October 2, 2017",
         "2.1.35",
         "4.0 and up"
        ],
        [
         "9820",
         "ES-1",
         "COMMUNICATION",
         null,
         "6",
         "0",
         "500+",
         "Free",
         "0",
         "Everyone",
         "Communication",
         "July 5, 2016",
         "1.0",
         "1.6 and up"
        ],
        [
         "7130",
         "CB Mobile",
         "BUSINESS",
         null,
         "3",
         "0",
         "100+",
         "Free",
         "0",
         "Everyone",
         "Business",
         "April 26, 2018",
         "10",
         "4.0 and up"
        ],
        [
         "3988",
         "C Programming",
         "FAMILY",
         "4.3",
         "22248",
         "0",
         "1,000,000+",
         "Free",
         "0",
         "Everyone",
         "Education",
         "June 28, 2015",
         "3.0",
         "2.3 and up"
        ],
        [
         "9457",
         "Rope Superhero Unlimited",
         "GAME",
         "4.4",
         "6735",
         "0",
         "1,000,000+",
         "Free",
         "0",
         "Mature 17+",
         "Action",
         "May 10, 2017",
         "1.1",
         "2.3 and up"
        ],
        [
         "4604",
         "T-Mobile Content Transfer",
         "PRODUCTIVITY",
         "4.1",
         "370",
         "0",
         "500,000+",
         "Free",
         "0",
         "Everyone",
         "Productivity",
         "January 25, 2018",
         "2.1.5",
         "4.0 and up"
        ]
       ],
       "shape": {
        "columns": 13,
        "rows": 10
       }
      },
      "text/html": [
       "<div>\n",
       "<style scoped>\n",
       "    .dataframe tbody tr th:only-of-type {\n",
       "        vertical-align: middle;\n",
       "    }\n",
       "\n",
       "    .dataframe tbody tr th {\n",
       "        vertical-align: top;\n",
       "    }\n",
       "\n",
       "    .dataframe thead th {\n",
       "        text-align: right;\n",
       "    }\n",
       "</style>\n",
       "<table border=\"1\" class=\"dataframe\">\n",
       "  <thead>\n",
       "    <tr style=\"text-align: right;\">\n",
       "      <th></th>\n",
       "      <th>App</th>\n",
       "      <th>Category</th>\n",
       "      <th>Rating</th>\n",
       "      <th>Reviews</th>\n",
       "      <th>Size</th>\n",
       "      <th>Installs</th>\n",
       "      <th>Type</th>\n",
       "      <th>Price</th>\n",
       "      <th>Content Rating</th>\n",
       "      <th>Genres</th>\n",
       "      <th>Last Updated</th>\n",
       "      <th>Current Ver</th>\n",
       "      <th>Android Ver</th>\n",
       "    </tr>\n",
       "  </thead>\n",
       "  <tbody>\n",
       "    <tr>\n",
       "      <th>808</th>\n",
       "      <td>busuu: Learn Languages - Spanish, English &amp; More</td>\n",
       "      <td>EDUCATION</td>\n",
       "      <td>4.3</td>\n",
       "      <td>206527</td>\n",
       "      <td>0</td>\n",
       "      <td>10,000,000+</td>\n",
       "      <td>Free</td>\n",
       "      <td>0</td>\n",
       "      <td>Everyone 10+</td>\n",
       "      <td>Education</td>\n",
       "      <td>August 1, 2018</td>\n",
       "      <td>13.9.0.161</td>\n",
       "      <td>5.0 and up</td>\n",
       "    </tr>\n",
       "    <tr>\n",
       "      <th>417</th>\n",
       "      <td>Opera Mini - fast web browser</td>\n",
       "      <td>COMMUNICATION</td>\n",
       "      <td>4.5</td>\n",
       "      <td>5150471</td>\n",
       "      <td>0</td>\n",
       "      <td>100,000,000+</td>\n",
       "      <td>Free</td>\n",
       "      <td>0</td>\n",
       "      <td>Everyone</td>\n",
       "      <td>Communication</td>\n",
       "      <td>July 19, 2018</td>\n",
       "      <td>Varies with device</td>\n",
       "      <td>Varies with device</td>\n",
       "    </tr>\n",
       "    <tr>\n",
       "      <th>9248</th>\n",
       "      <td>ECナビ×シュフー</td>\n",
       "      <td>LIFESTYLE</td>\n",
       "      <td>4.0</td>\n",
       "      <td>576</td>\n",
       "      <td>0</td>\n",
       "      <td>50,000+</td>\n",
       "      <td>Free</td>\n",
       "      <td>0</td>\n",
       "      <td>Everyone</td>\n",
       "      <td>Lifestyle</td>\n",
       "      <td>June 7, 2018</td>\n",
       "      <td>1.0.2</td>\n",
       "      <td>4.0 and up</td>\n",
       "    </tr>\n",
       "    <tr>\n",
       "      <th>8227</th>\n",
       "      <td>DB Customer Connect</td>\n",
       "      <td>BUSINESS</td>\n",
       "      <td>4.2</td>\n",
       "      <td>100</td>\n",
       "      <td>0</td>\n",
       "      <td>10,000+</td>\n",
       "      <td>Free</td>\n",
       "      <td>0</td>\n",
       "      <td>Everyone</td>\n",
       "      <td>Business</td>\n",
       "      <td>July 21, 2018</td>\n",
       "      <td>2.0.0</td>\n",
       "      <td>4.1 and up</td>\n",
       "    </tr>\n",
       "    <tr>\n",
       "      <th>2301</th>\n",
       "      <td>A Manual of Acupuncture</td>\n",
       "      <td>MEDICAL</td>\n",
       "      <td>3.5</td>\n",
       "      <td>214</td>\n",
       "      <td>0</td>\n",
       "      <td>1,000+</td>\n",
       "      <td>Paid</td>\n",
       "      <td>$33.99</td>\n",
       "      <td>Everyone</td>\n",
       "      <td>Medical</td>\n",
       "      <td>October 2, 2017</td>\n",
       "      <td>2.1.35</td>\n",
       "      <td>4.0 and up</td>\n",
       "    </tr>\n",
       "    <tr>\n",
       "      <th>9820</th>\n",
       "      <td>ES-1</td>\n",
       "      <td>COMMUNICATION</td>\n",
       "      <td>NaN</td>\n",
       "      <td>6</td>\n",
       "      <td>0</td>\n",
       "      <td>500+</td>\n",
       "      <td>Free</td>\n",
       "      <td>0</td>\n",
       "      <td>Everyone</td>\n",
       "      <td>Communication</td>\n",
       "      <td>July 5, 2016</td>\n",
       "      <td>1.0</td>\n",
       "      <td>1.6 and up</td>\n",
       "    </tr>\n",
       "    <tr>\n",
       "      <th>7130</th>\n",
       "      <td>CB Mobile</td>\n",
       "      <td>BUSINESS</td>\n",
       "      <td>NaN</td>\n",
       "      <td>3</td>\n",
       "      <td>0</td>\n",
       "      <td>100+</td>\n",
       "      <td>Free</td>\n",
       "      <td>0</td>\n",
       "      <td>Everyone</td>\n",
       "      <td>Business</td>\n",
       "      <td>April 26, 2018</td>\n",
       "      <td>10</td>\n",
       "      <td>4.0 and up</td>\n",
       "    </tr>\n",
       "    <tr>\n",
       "      <th>3988</th>\n",
       "      <td>C Programming</td>\n",
       "      <td>FAMILY</td>\n",
       "      <td>4.3</td>\n",
       "      <td>22248</td>\n",
       "      <td>0</td>\n",
       "      <td>1,000,000+</td>\n",
       "      <td>Free</td>\n",
       "      <td>0</td>\n",
       "      <td>Everyone</td>\n",
       "      <td>Education</td>\n",
       "      <td>June 28, 2015</td>\n",
       "      <td>3.0</td>\n",
       "      <td>2.3 and up</td>\n",
       "    </tr>\n",
       "    <tr>\n",
       "      <th>9457</th>\n",
       "      <td>Rope Superhero Unlimited</td>\n",
       "      <td>GAME</td>\n",
       "      <td>4.4</td>\n",
       "      <td>6735</td>\n",
       "      <td>0</td>\n",
       "      <td>1,000,000+</td>\n",
       "      <td>Free</td>\n",
       "      <td>0</td>\n",
       "      <td>Mature 17+</td>\n",
       "      <td>Action</td>\n",
       "      <td>May 10, 2017</td>\n",
       "      <td>1.1</td>\n",
       "      <td>2.3 and up</td>\n",
       "    </tr>\n",
       "    <tr>\n",
       "      <th>4604</th>\n",
       "      <td>T-Mobile Content Transfer</td>\n",
       "      <td>PRODUCTIVITY</td>\n",
       "      <td>4.1</td>\n",
       "      <td>370</td>\n",
       "      <td>0</td>\n",
       "      <td>500,000+</td>\n",
       "      <td>Free</td>\n",
       "      <td>0</td>\n",
       "      <td>Everyone</td>\n",
       "      <td>Productivity</td>\n",
       "      <td>January 25, 2018</td>\n",
       "      <td>2.1.5</td>\n",
       "      <td>4.0 and up</td>\n",
       "    </tr>\n",
       "  </tbody>\n",
       "</table>\n",
       "</div>"
      ],
      "text/plain": [
       "                                                   App       Category  Rating  \\\n",
       "808   busuu: Learn Languages - Spanish, English & More      EDUCATION     4.3   \n",
       "417                      Opera Mini - fast web browser  COMMUNICATION     4.5   \n",
       "9248                                         ECナビ×シュフー      LIFESTYLE     4.0   \n",
       "8227                               DB Customer Connect       BUSINESS     4.2   \n",
       "2301                           A Manual of Acupuncture        MEDICAL     3.5   \n",
       "9820                                              ES-1  COMMUNICATION     NaN   \n",
       "7130                                         CB Mobile       BUSINESS     NaN   \n",
       "3988                                     C Programming         FAMILY     4.3   \n",
       "9457                          Rope Superhero Unlimited           GAME     4.4   \n",
       "4604                         T-Mobile Content Transfer   PRODUCTIVITY     4.1   \n",
       "\n",
       "      Reviews  Size      Installs  Type   Price Content Rating         Genres  \\\n",
       "808    206527     0   10,000,000+  Free       0   Everyone 10+      Education   \n",
       "417   5150471     0  100,000,000+  Free       0       Everyone  Communication   \n",
       "9248      576     0       50,000+  Free       0       Everyone      Lifestyle   \n",
       "8227      100     0       10,000+  Free       0       Everyone       Business   \n",
       "2301      214     0        1,000+  Paid  $33.99       Everyone        Medical   \n",
       "9820        6     0          500+  Free       0       Everyone  Communication   \n",
       "7130        3     0          100+  Free       0       Everyone       Business   \n",
       "3988    22248     0    1,000,000+  Free       0       Everyone      Education   \n",
       "9457     6735     0    1,000,000+  Free       0     Mature 17+         Action   \n",
       "4604      370     0      500,000+  Free       0       Everyone   Productivity   \n",
       "\n",
       "          Last Updated         Current Ver         Android Ver  \n",
       "808     August 1, 2018          13.9.0.161          5.0 and up  \n",
       "417      July 19, 2018  Varies with device  Varies with device  \n",
       "9248      June 7, 2018               1.0.2          4.0 and up  \n",
       "8227     July 21, 2018               2.0.0          4.1 and up  \n",
       "2301   October 2, 2017              2.1.35          4.0 and up  \n",
       "9820      July 5, 2016                 1.0          1.6 and up  \n",
       "7130    April 26, 2018                  10          4.0 and up  \n",
       "3988     June 28, 2015                 3.0          2.3 and up  \n",
       "9457      May 10, 2017                 1.1          2.3 and up  \n",
       "4604  January 25, 2018               2.1.5          4.0 and up  "
      ]
     },
     "execution_count": 23,
     "metadata": {},
     "output_type": "execute_result"
    }
   ],
   "source": [
    "df.sample(10)"
   ]
  },
  {
   "cell_type": "code",
   "execution_count": 3,
   "id": "86fc16a3",
   "metadata": {},
   "outputs": [],
   "source": [
    "df = pd.read_csv('./Data_files/googleplaystore.csv')\n"
   ]
  },
  {
   "cell_type": "code",
   "execution_count": null,
   "id": "1380fd33",
   "metadata": {},
   "outputs": [
    {
     "name": "stderr",
     "output_type": "stream",
     "text": [
      "100%|██████████| 13/13 [00:00<00:00, 46.92it/s]0<00:00, 10.70it/s, Describe variable: Android Ver]  \n",
      "Summarize dataset: 100%|██████████| 24/24 [00:02<00:00, 11.61it/s, Completed]                     \n",
      "Generate report structure: 100%|██████████| 1/1 [00:07<00:00,  7.16s/it]\n",
      "Render HTML: 100%|██████████| 1/1 [00:00<00:00,  1.15it/s]\n",
      "Export report to file: 100%|██████████| 1/1 [00:00<00:00, 124.28it/s]\n"
     ]
    }
   ],
   "source": [
    "profile = yd.ProfileReport(df)\n",
    "profile.to_file('./Data_files/google_playstore.html')"
   ]
  },
  {
   "cell_type": "code",
   "execution_count": null,
   "id": "a0e99e39",
   "metadata": {},
   "outputs": [],
   "source": []
  }
 ],
 "metadata": {
  "kernelspec": {
   "display_name": "ydata_profiling",
   "language": "python",
   "name": "python3"
  },
  "language_info": {
   "codemirror_mode": {
    "name": "ipython",
    "version": 3
   },
   "file_extension": ".py",
   "mimetype": "text/x-python",
   "name": "python",
   "nbconvert_exporter": "python",
   "pygments_lexer": "ipython3",
   "version": "3.10.0"
  }
 },
 "nbformat": 4,
 "nbformat_minor": 5
}
