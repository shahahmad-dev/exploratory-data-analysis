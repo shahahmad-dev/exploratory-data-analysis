{
 "cells": [
  {
   "cell_type": "markdown",
   "id": "3c90359b",
   "metadata": {},
   "source": [
    "# **01_To_04_All_Lecture_Covered**"
   ]
  },
  {
   "cell_type": "code",
   "execution_count": null,
   "id": "d6c4b574",
   "metadata": {},
   "outputs": [],
   "source": [
    "#impot library \n",
    "import pandas as pd\n",
    "import numpy as np\n",
    "import seaborn as sns"
   ]
  },
  {
   "cell_type": "code",
   "execution_count": null,
   "id": "e2e962ae",
   "metadata": {},
   "outputs": [],
   "source": [
    "df = pd.read_csv('./Data_files/titanic.xlsx')"
   ]
  },
  {
   "cell_type": "code",
   "execution_count": null,
   "id": "767cfd51",
   "metadata": {},
   "outputs": [],
   "source": [
    "df.info()"
   ]
  },
  {
   "cell_type": "code",
   "execution_count": null,
   "id": "613a66b8",
   "metadata": {},
   "outputs": [],
   "source": [
    "df.head()"
   ]
  },
  {
   "cell_type": "code",
   "execution_count": null,
   "id": "26487b75",
   "metadata": {},
   "outputs": [],
   "source": [
    "df.tail()"
   ]
  },
  {
   "cell_type": "code",
   "execution_count": null,
   "id": "8d45d074",
   "metadata": {},
   "outputs": [],
   "source": [
    "df.describe()"
   ]
  },
  {
   "cell_type": "code",
   "execution_count": null,
   "id": "4603b7c4",
   "metadata": {},
   "outputs": [],
   "source": [
    "len(df)"
   ]
  },
  {
   "cell_type": "code",
   "execution_count": null,
   "id": "65c81bb7",
   "metadata": {},
   "outputs": [],
   "source": [
    "df.isnull().sum()"
   ]
  },
  {
   "cell_type": "code",
   "execution_count": null,
   "id": "848f2d0f",
   "metadata": {},
   "outputs": [],
   "source": [
    "df.isnull().sum() / len(df) * 100"
   ]
  },
  {
   "cell_type": "code",
   "execution_count": null,
   "id": "b190bc07",
   "metadata": {},
   "outputs": [],
   "source": [
    "sns.heatmap(df.isnull())"
   ]
  },
  {
   "cell_type": "code",
   "execution_count": null,
   "id": "5dd912ad",
   "metadata": {},
   "outputs": [],
   "source": [
    "df['sex'] # 1 columns\n",
    "df[['sex', 'age', 'fare']] # 3 columns"
   ]
  },
  {
   "cell_type": "code",
   "execution_count": null,
   "id": "1f05e19c",
   "metadata": {},
   "outputs": [],
   "source": [
    "df['sex'].unique() # check unique values in sex cloumns\n",
    "df.sex.nunique() # check unique values in number"
   ]
  },
  {
   "cell_type": "code",
   "execution_count": null,
   "id": "157d1bce",
   "metadata": {},
   "outputs": [],
   "source": [
    "df.embark_town.unique()"
   ]
  },
  {
   "cell_type": "code",
   "execution_count": null,
   "id": "bd051e19",
   "metadata": {},
   "outputs": [],
   "source": [
    "df.describe()"
   ]
  },
  {
   "cell_type": "code",
   "execution_count": null,
   "id": "a254496b",
   "metadata": {},
   "outputs": [],
   "source": [
    "# Group by function\n",
    "df.groupby(['survived', 'who']).size()"
   ]
  },
  {
   "cell_type": "code",
   "execution_count": null,
   "id": "c25bbf6a",
   "metadata": {},
   "outputs": [],
   "source": [
    "df.groupby(['sex', 'survived']).size()"
   ]
  },
  {
   "cell_type": "code",
   "execution_count": null,
   "id": "984a8bb3",
   "metadata": {},
   "outputs": [
    {
     "data": {
      "text/plain": [
       "np.int64(81)"
      ]
     },
     "execution_count": 42,
     "metadata": {},
     "output_type": "execute_result"
    }
   ],
   "source": [
    "# Select just female who dead\n",
    "df.groupby(['survived','sex']).size().loc[ 0, 'female']"
   ]
  },
  {
   "cell_type": "code",
   "execution_count": null,
   "id": "e2647ba5",
   "metadata": {},
   "outputs": [
    {
     "data": {
      "application/vnd.microsoft.datawrangler.viewer.v0+json": {
       "columns": [
        {
         "name": "survived",
         "rawType": "int64",
         "type": "integer"
        },
        {
         "name": "0",
         "rawType": "int64",
         "type": "integer"
        }
       ],
       "ref": "355cf676-1fc9-4292-ae4f-79ff07838cd2",
       "rows": [
        [
         "0",
         "81"
        ],
        [
         "1",
         "233"
        ]
       ],
       "shape": {
        "columns": 1,
        "rows": 2
       }
      },
      "text/plain": [
       "survived\n",
       "0     81\n",
       "1    233\n",
       "dtype: int64"
      ]
     },
     "execution_count": 44,
     "metadata": {},
     "output_type": "execute_result"
    }
   ],
   "source": [
    "# Select just female who both dead or survived\n",
    "df.groupby(['sex','survived']).size().loc['female']"
   ]
  },
  {
   "cell_type": "code",
   "execution_count": null,
   "id": "963dacaf",
   "metadata": {},
   "outputs": [],
   "source": [
    "df.groupby(['survived' ,'who']).size()"
   ]
  },
  {
   "cell_type": "code",
   "execution_count": null,
   "id": "3bf4ea83",
   "metadata": {},
   "outputs": [],
   "source": [
    "df.groupby([ 'who','survived']).size().loc[ 'man'] "
   ]
  },
  {
   "cell_type": "code",
   "execution_count": null,
   "id": "93f87f35",
   "metadata": {},
   "outputs": [],
   "source": []
  }
 ],
 "metadata": {
  "kernelspec": {
   "display_name": "python_eda",
   "language": "python",
   "name": "python3"
  },
  "language_info": {
   "codemirror_mode": {
    "name": "ipython",
    "version": 3
   },
   "file_extension": ".py",
   "mimetype": "text/x-python",
   "name": "python",
   "nbconvert_exporter": "python",
   "pygments_lexer": "ipython3",
   "version": "3.13.5"
  }
 },
 "nbformat": 4,
 "nbformat_minor": 5
}
