{
 "cells": [
  {
   "cell_type": "markdown",
   "id": "3c90359b",
   "metadata": {},
   "source": [
    "# **01_To_04_All_Lecture_Covered**"
   ]
  },
  {
   "cell_type": "code",
   "execution_count": null,
   "id": "d6c4b574",
   "metadata": {},
   "outputs": [],
   "source": [
    "#impot library \n",
    "import pandas as pd\n",
    "import numpy as np\n",
    "import seaborn as sns"
   ]
  },
  {
   "cell_type": "markdown",
   "id": "1fe1a1a7",
   "metadata": {},
   "source": [
    "# **01_Notebook**"
   ]
  },
  {
   "cell_type": "code",
   "execution_count": null,
   "id": "e2e962ae",
   "metadata": {},
   "outputs": [],
   "source": [
    "df = pd.read_csv('./Data_files/titanic.xlsx')"
   ]
  },
  {
   "cell_type": "code",
   "execution_count": null,
   "id": "767cfd51",
   "metadata": {},
   "outputs": [],
   "source": [
    "df.info()"
   ]
  },
  {
   "cell_type": "code",
   "execution_count": null,
   "id": "613a66b8",
   "metadata": {},
   "outputs": [],
   "source": [
    "df.head()"
   ]
  },
  {
   "cell_type": "code",
   "execution_count": null,
   "id": "26487b75",
   "metadata": {},
   "outputs": [],
   "source": [
    "df.tail()"
   ]
  },
  {
   "cell_type": "code",
   "execution_count": null,
   "id": "8d45d074",
   "metadata": {},
   "outputs": [],
   "source": [
    "df.describe()"
   ]
  },
  {
   "cell_type": "code",
   "execution_count": null,
   "id": "4603b7c4",
   "metadata": {},
   "outputs": [],
   "source": [
    "len(df)"
   ]
  },
  {
   "cell_type": "code",
   "execution_count": null,
   "id": "65c81bb7",
   "metadata": {},
   "outputs": [],
   "source": [
    "df.isnull().sum()"
   ]
  },
  {
   "cell_type": "code",
   "execution_count": null,
   "id": "848f2d0f",
   "metadata": {},
   "outputs": [],
   "source": [
    "df.isnull().sum() / len(df) * 100"
   ]
  },
  {
   "cell_type": "code",
   "execution_count": null,
   "id": "b190bc07",
   "metadata": {},
   "outputs": [],
   "source": [
    "sns.heatmap(df.isnull())"
   ]
  },
  {
   "cell_type": "code",
   "execution_count": null,
   "id": "5dd912ad",
   "metadata": {},
   "outputs": [],
   "source": [
    "df['sex'] # 1 columns\n",
    "df[['sex', 'age', 'fare']] # 3 columns"
   ]
  },
  {
   "cell_type": "code",
   "execution_count": null,
   "id": "1f05e19c",
   "metadata": {},
   "outputs": [],
   "source": [
    "df['sex'].unique() # check unique values in sex cloumns\n",
    "df.sex.nunique() # check unique values in number"
   ]
  },
  {
   "cell_type": "code",
   "execution_count": null,
   "id": "157d1bce",
   "metadata": {},
   "outputs": [],
   "source": [
    "df.embark_town.unique()"
   ]
  },
  {
   "cell_type": "code",
   "execution_count": null,
   "id": "bd051e19",
   "metadata": {},
   "outputs": [],
   "source": [
    "df.describe()"
   ]
  },
  {
   "cell_type": "code",
   "execution_count": null,
   "id": "a254496b",
   "metadata": {},
   "outputs": [],
   "source": [
    "# Group by function\n",
    "df.groupby(['survived', 'who']).size()"
   ]
  },
  {
   "cell_type": "code",
   "execution_count": null,
   "id": "c25bbf6a",
   "metadata": {},
   "outputs": [],
   "source": [
    "df.groupby(['sex', 'survived']).size()"
   ]
  },
  {
   "cell_type": "code",
   "execution_count": null,
   "id": "984a8bb3",
   "metadata": {},
   "outputs": [],
   "source": [
    "# Select just female who dead\n",
    "df.groupby(['survived','sex']).size().loc[ 0, 'female']"
   ]
  },
  {
   "cell_type": "code",
   "execution_count": null,
   "id": "e2647ba5",
   "metadata": {},
   "outputs": [],
   "source": [
    "# Select just female who both dead or survived\n",
    "df.groupby(['sex','survived']).size().loc['female']"
   ]
  },
  {
   "cell_type": "code",
   "execution_count": null,
   "id": "963dacaf",
   "metadata": {},
   "outputs": [],
   "source": [
    "df.groupby(['survived' ,'who']).size()"
   ]
  },
  {
   "cell_type": "code",
   "execution_count": null,
   "id": "3bf4ea83",
   "metadata": {},
   "outputs": [],
   "source": [
    "df.groupby([ 'who','survived']).size().loc[ 'man'] "
   ]
  },
  {
   "cell_type": "code",
   "execution_count": null,
   "id": "93f87f35",
   "metadata": {},
   "outputs": [],
   "source": [
    "df.groupby(['who', 'survived']).size().loc['child']"
   ]
  },
  {
   "cell_type": "code",
   "execution_count": null,
   "id": "eb5069a6",
   "metadata": {},
   "outputs": [],
   "source": [
    "correction_df = df[['fare', 'age', 'sibsp', 'parch']].corr()"
   ]
  },
  {
   "cell_type": "code",
   "execution_count": null,
   "id": "662d523d",
   "metadata": {},
   "outputs": [],
   "source": [
    "sns.heatmap(correction_df)"
   ]
  },
  {
   "cell_type": "code",
   "execution_count": null,
   "id": "a4e4b7e6",
   "metadata": {},
   "outputs": [],
   "source": [
    "sns.pairplot(df)"
   ]
  },
  {
   "cell_type": "code",
   "execution_count": null,
   "id": "b4297217",
   "metadata": {},
   "outputs": [],
   "source": [
    "df.drop('deck', axis=1, inplace=True)"
   ]
  },
  {
   "cell_type": "code",
   "execution_count": null,
   "id": "df68c595",
   "metadata": {},
   "outputs": [],
   "source": [
    "df.age.mean()"
   ]
  },
  {
   "cell_type": "code",
   "execution_count": null,
   "id": "b50bdfe9",
   "metadata": {},
   "outputs": [],
   "source": [
    "df.age.median()"
   ]
  },
  {
   "cell_type": "code",
   "execution_count": null,
   "id": "3359fef2",
   "metadata": {},
   "outputs": [],
   "source": [
    "df.age.mode() [0]"
   ]
  },
  {
   "cell_type": "code",
   "execution_count": null,
   "id": "483651b5",
   "metadata": {},
   "outputs": [],
   "source": [
    "df.survived.mode()[0]"
   ]
  },
  {
   "cell_type": "code",
   "execution_count": null,
   "id": "2f8c629b",
   "metadata": {},
   "outputs": [],
   "source": [
    "df.age.isnull().sum()"
   ]
  },
  {
   "cell_type": "code",
   "execution_count": null,
   "id": "20037bb1",
   "metadata": {},
   "outputs": [],
   "source": [
    "df.isnull().sum()"
   ]
  },
  {
   "cell_type": "code",
   "execution_count": null,
   "id": "8717c590",
   "metadata": {},
   "outputs": [],
   "source": [
    "df.head()"
   ]
  },
  {
   "cell_type": "code",
   "execution_count": null,
   "id": "91ec535d",
   "metadata": {},
   "outputs": [],
   "source": []
  },
  {
   "cell_type": "code",
   "execution_count": null,
   "id": "2118aaaf",
   "metadata": {},
   "outputs": [],
   "source": [
    "df.embark_town.isnull().sum()"
   ]
  },
  {
   "cell_type": "code",
   "execution_count": null,
   "id": "655a5126",
   "metadata": {},
   "outputs": [],
   "source": [
    "sns.heatmap(df.isnull())"
   ]
  },
  {
   "cell_type": "code",
   "execution_count": null,
   "id": "c6cd2e5f",
   "metadata": {},
   "outputs": [],
   "source": [
    "df['age'].fillna(df['age'].mean(), inplace=True)"
   ]
  },
  {
   "cell_type": "code",
   "execution_count": null,
   "id": "c2a29dc6",
   "metadata": {},
   "outputs": [],
   "source": [
    "df['embark_town'].fillna(df['embark_town'].mode() [0], inplace=True)"
   ]
  },
  {
   "cell_type": "code",
   "execution_count": null,
   "id": "f9ef2850",
   "metadata": {},
   "outputs": [],
   "source": [
    "df['embarked'].fillna(df['embarked'].median, inplace=True)"
   ]
  },
  {
   "cell_type": "code",
   "execution_count": null,
   "id": "7624933f",
   "metadata": {},
   "outputs": [],
   "source": [
    "df.sample(10)"
   ]
  },
  {
   "cell_type": "code",
   "execution_count": null,
   "id": "46f0bce9",
   "metadata": {},
   "outputs": [],
   "source": [
    "df.head()"
   ]
  },
  {
   "cell_type": "markdown",
   "id": "510601bc",
   "metadata": {},
   "source": [
    "# Binning"
   ]
  },
  {
   "cell_type": "code",
   "execution_count": null,
   "id": "20dcc251",
   "metadata": {},
   "outputs": [],
   "source": [
    "labels  = ['Under_Age', 'Audult', 'old', 'oldest' ]\n",
    "bins = [0, 18, 30,60,100  ]\n",
    "\n",
    "\n",
    "df['New_age'] = pd.cut(df['age'], bins = bins, labels = labels, right=False)"
   ]
  },
  {
   "cell_type": "code",
   "execution_count": null,
   "id": "c204e430",
   "metadata": {},
   "outputs": [],
   "source": [
    "df.New_age"
   ]
  },
  {
   "cell_type": "code",
   "execution_count": null,
   "id": "24981a2d",
   "metadata": {},
   "outputs": [],
   "source": [
    "bins = [0, 50, 150, 600 ]\n",
    "labels = ['Firts_Class', 'Second_Class', 'Third_Class']\n",
    "df['New_fare'] = pd.cut(df['fare'], bins = bins, labels=labels)"
   ]
  },
  {
   "cell_type": "code",
   "execution_count": null,
   "id": "c043e801",
   "metadata": {},
   "outputs": [],
   "source": [
    "df.head()"
   ]
  },
  {
   "cell_type": "code",
   "execution_count": null,
   "id": "1bd68a51",
   "metadata": {},
   "outputs": [],
   "source": [
    "bins = [ -0.1, 0, 1]\n",
    "labels = ['Murda', 'Zinda']\n",
    "df['New_survived'] = pd.cut(df['survived'], bins=bins, labels=labels)"
   ]
  },
  {
   "cell_type": "code",
   "execution_count": null,
   "id": "753e59e6",
   "metadata": {},
   "outputs": [],
   "source": [
    "df.head()"
   ]
  },
  {
   "cell_type": "markdown",
   "id": "aa88fef7",
   "metadata": {},
   "source": [
    "# Rename a columns  "
   ]
  },
  {
   "cell_type": "code",
   "execution_count": null,
   "id": "941aaae0",
   "metadata": {},
   "outputs": [],
   "source": [
    "# df.rename(columns={'New_age': ' New_age_B'}, inplace=True)"
   ]
  },
  {
   "cell_type": "code",
   "execution_count": null,
   "id": "4fdb710f",
   "metadata": {},
   "outputs": [],
   "source": [
    "# df.rename(columns={'New_age_B': 'New_age'}, inplace=True)"
   ]
  },
  {
   "cell_type": "markdown",
   "id": "b47e6ccb",
   "metadata": {},
   "source": [
    "# Filtering "
   ]
  },
  {
   "cell_type": "code",
   "execution_count": null,
   "id": "1ade7fc5",
   "metadata": {},
   "outputs": [],
   "source": [
    "# df_First = df[df['class']=='First']\n",
    "df_First = df[df['class'] == 'First']\n"
   ]
  },
  {
   "cell_type": "code",
   "execution_count": null,
   "id": "6a8ead1a",
   "metadata": {},
   "outputs": [],
   "source": [
    "df.head()"
   ]
  },
  {
   "cell_type": "code",
   "execution_count": null,
   "id": "1a0a48f8",
   "metadata": {},
   "outputs": [],
   "source": [
    "df[df['fare']> 500]"
   ]
  },
  {
   "cell_type": "code",
   "execution_count": null,
   "id": "ccaea9dc",
   "metadata": {},
   "outputs": [],
   "source": [
    "df[(df['fare']> 70) & (df['class']== 'Second')]"
   ]
  },
  {
   "cell_type": "code",
   "execution_count": null,
   "id": "9e44b41d",
   "metadata": {},
   "outputs": [],
   "source": [
    "df[(df['fare'] > 80)& (df['class']=='First')].sort_values(by='fare') "
   ]
  },
  {
   "cell_type": "code",
   "execution_count": null,
   "id": "e86c41b2",
   "metadata": {},
   "outputs": [],
   "source": [
    "len(df[(df['survived']== 1) & (df['who']=='woman') ])"
   ]
  },
  {
   "cell_type": "code",
   "execution_count": null,
   "id": "18f12eda",
   "metadata": {},
   "outputs": [],
   "source": [
    "len(df[(df['survived']== 1) & (df['who'] == 'man')])"
   ]
  },
  {
   "cell_type": "code",
   "execution_count": null,
   "id": "0254bc85",
   "metadata": {},
   "outputs": [],
   "source": [
    "len(df[(df['survived'] == 1) & (df['who']== 'child')])"
   ]
  },
  {
   "cell_type": "code",
   "execution_count": null,
   "id": "356a6bde",
   "metadata": {},
   "outputs": [],
   "source": [
    "df.survived.value_counts()"
   ]
  },
  {
   "cell_type": "markdown",
   "id": "b56e904e",
   "metadata": {},
   "source": [
    "# **Pakistani Population Analysis**"
   ]
  },
  {
   "cell_type": "markdown",
   "id": "6521793e",
   "metadata": {},
   "source": [
    "# **02_Notebook**"
   ]
  },
  {
   "cell_type": "code",
   "execution_count": 232,
   "id": "d99a6653",
   "metadata": {},
   "outputs": [],
   "source": [
    "# Import the libraries\n",
    "import pandas as pd\n",
    "import numpy as np\n",
    "import matplotlib.pyplot as plt\n",
    "import seaborn as sns"
   ]
  },
  {
   "cell_type": "code",
   "execution_count": 233,
   "id": "422ec7d2",
   "metadata": {},
   "outputs": [],
   "source": [
    "df = pd.read_csv('./Data_files/pak_pop.csv')"
   ]
  },
  {
   "cell_type": "code",
   "execution_count": 234,
   "id": "61653f72",
   "metadata": {},
   "outputs": [
    {
     "data": {
      "application/vnd.microsoft.datawrangler.viewer.v0+json": {
       "columns": [
        {
         "name": "index",
         "rawType": "int64",
         "type": "integer"
        },
        {
         "name": "PROVINCE",
         "rawType": "object",
         "type": "string"
        },
        {
         "name": "DIVISION",
         "rawType": "object",
         "type": "string"
        },
        {
         "name": "DISTRICT",
         "rawType": "object",
         "type": "string"
        },
        {
         "name": "SUB DIVISION",
         "rawType": "object",
         "type": "string"
        },
        {
         "name": "AREA (sq.km)",
         "rawType": "float64",
         "type": "float"
        },
        {
         "name": "ALL SEXES (RURAL)",
         "rawType": "int64",
         "type": "integer"
        },
        {
         "name": "MALE (RURAL)",
         "rawType": "int64",
         "type": "integer"
        },
        {
         "name": "FEMALE (RURAL)",
         "rawType": "int64",
         "type": "integer"
        },
        {
         "name": "TRANSGENDER (RURAL)",
         "rawType": "int64",
         "type": "integer"
        },
        {
         "name": "SEX RATIO (RURAL)",
         "rawType": "float64",
         "type": "float"
        },
        {
         "name": "AVG HOUSEHOLD SIZE (RURAL)",
         "rawType": "float64",
         "type": "float"
        },
        {
         "name": "POPULATION 1998 (RURAL)",
         "rawType": "int64",
         "type": "integer"
        },
        {
         "name": "ANNUAL GROWTH RATE (RURAL)",
         "rawType": "float64",
         "type": "float"
        },
        {
         "name": "ALL SEXES (URBAN)",
         "rawType": "int64",
         "type": "integer"
        },
        {
         "name": "MALE (URBAN)",
         "rawType": "int64",
         "type": "integer"
        },
        {
         "name": "FEMALE (URBAN)",
         "rawType": "int64",
         "type": "integer"
        },
        {
         "name": "TRANSGENDER (URBAN)",
         "rawType": "int64",
         "type": "integer"
        },
        {
         "name": "SEX RATIO (URBAN)",
         "rawType": "float64",
         "type": "float"
        },
        {
         "name": "AVG HOUSEHOLD SIZE (URBAN)",
         "rawType": "float64",
         "type": "float"
        },
        {
         "name": "POPULATION 1998 (URBAN)",
         "rawType": "int64",
         "type": "integer"
        },
        {
         "name": "ANNUAL GROWTH RATE (URBAN)",
         "rawType": "float64",
         "type": "float"
        }
       ],
       "ref": "b7c4dde4-567e-466a-8f19-b4d4a5ec5cc6",
       "rows": [
        [
         "0",
         "PUNJAB",
         "BAHAWALPUR DIVISION",
         "BAHAWALNAGAR DISTRICT",
         "BAHAWALNAGAR TEHSIL",
         "1729.0",
         "619550",
         "316864",
         "302644",
         "42",
         "104.7",
         "6.1",
         "407768",
         "2.22",
         "193840",
         "98391",
         "95402",
         "47",
         "103.13",
         "6.02",
         "133785",
         "1.97"
        ],
        [
         "1",
         "PUNJAB",
         "BAHAWALPUR DIVISION",
         "BAHAWALNAGAR DISTRICT",
         "CHISHTIAN TEHSIL",
         "1500.0",
         "540342",
         "273788",
         "266500",
         "54",
         "102.73",
         "6.15",
         "395983",
         "1.65",
         "149424",
         "75546",
         "73851",
         "27",
         "102.3",
         "6.01",
         "102287",
         "2.01"
        ],
        [
         "2",
         "PUNJAB",
         "BAHAWALPUR DIVISION",
         "BAHAWALNAGAR DISTRICT",
         "FORT ABBAS TEHSIL",
         "2536.0",
         "361240",
         "182655",
         "178541",
         "44",
         "102.3",
         "6.32",
         "250959",
         "1.93",
         "61528",
         "31360",
         "30150",
         "18",
         "104.01",
         "6.0",
         "34637",
         "3.06"
        ],
        [
         "3",
         "PUNJAB",
         "BAHAWALPUR DIVISION",
         "BAHAWALNAGAR DISTRICT",
         "HAROONABAD TEHSIL",
         "1295.0",
         "382115",
         "192278",
         "189808",
         "29",
         "101.3",
         "6.15",
         "297343",
         "1.33",
         "142600",
         "71345",
         "71236",
         "19",
         "100.15",
         "6.02",
         "84424",
         "2.79"
        ],
        [
         "4",
         "PUNJAB",
         "BAHAWALPUR DIVISION",
         "BAHAWALNAGAR DISTRICT",
         "MINCHINABAD TEHSIL",
         "1818.0",
         "452723",
         "231506",
         "221178",
         "39",
         "104.67",
         "6.29",
         "316593",
         "1.9",
         "72294",
         "36694",
         "35590",
         "10",
         "103.1",
         "6.34",
         "37668",
         "3.48"
        ]
       ],
       "shape": {
        "columns": 21,
        "rows": 5
       }
      },
      "text/html": [
       "<div>\n",
       "<style scoped>\n",
       "    .dataframe tbody tr th:only-of-type {\n",
       "        vertical-align: middle;\n",
       "    }\n",
       "\n",
       "    .dataframe tbody tr th {\n",
       "        vertical-align: top;\n",
       "    }\n",
       "\n",
       "    .dataframe thead th {\n",
       "        text-align: right;\n",
       "    }\n",
       "</style>\n",
       "<table border=\"1\" class=\"dataframe\">\n",
       "  <thead>\n",
       "    <tr style=\"text-align: right;\">\n",
       "      <th></th>\n",
       "      <th>PROVINCE</th>\n",
       "      <th>DIVISION</th>\n",
       "      <th>DISTRICT</th>\n",
       "      <th>SUB DIVISION</th>\n",
       "      <th>AREA (sq.km)</th>\n",
       "      <th>ALL SEXES (RURAL)</th>\n",
       "      <th>MALE (RURAL)</th>\n",
       "      <th>FEMALE (RURAL)</th>\n",
       "      <th>TRANSGENDER (RURAL)</th>\n",
       "      <th>SEX RATIO (RURAL)</th>\n",
       "      <th>...</th>\n",
       "      <th>POPULATION 1998 (RURAL)</th>\n",
       "      <th>ANNUAL GROWTH RATE (RURAL)</th>\n",
       "      <th>ALL SEXES (URBAN)</th>\n",
       "      <th>MALE (URBAN)</th>\n",
       "      <th>FEMALE (URBAN)</th>\n",
       "      <th>TRANSGENDER (URBAN)</th>\n",
       "      <th>SEX RATIO (URBAN)</th>\n",
       "      <th>AVG HOUSEHOLD SIZE (URBAN)</th>\n",
       "      <th>POPULATION 1998 (URBAN)</th>\n",
       "      <th>ANNUAL GROWTH RATE (URBAN)</th>\n",
       "    </tr>\n",
       "  </thead>\n",
       "  <tbody>\n",
       "    <tr>\n",
       "      <th>0</th>\n",
       "      <td>PUNJAB</td>\n",
       "      <td>BAHAWALPUR DIVISION</td>\n",
       "      <td>BAHAWALNAGAR DISTRICT</td>\n",
       "      <td>BAHAWALNAGAR TEHSIL</td>\n",
       "      <td>1729.0</td>\n",
       "      <td>619550</td>\n",
       "      <td>316864</td>\n",
       "      <td>302644</td>\n",
       "      <td>42</td>\n",
       "      <td>104.70</td>\n",
       "      <td>...</td>\n",
       "      <td>407768</td>\n",
       "      <td>2.22</td>\n",
       "      <td>193840</td>\n",
       "      <td>98391</td>\n",
       "      <td>95402</td>\n",
       "      <td>47</td>\n",
       "      <td>103.13</td>\n",
       "      <td>6.02</td>\n",
       "      <td>133785</td>\n",
       "      <td>1.97</td>\n",
       "    </tr>\n",
       "    <tr>\n",
       "      <th>1</th>\n",
       "      <td>PUNJAB</td>\n",
       "      <td>BAHAWALPUR DIVISION</td>\n",
       "      <td>BAHAWALNAGAR DISTRICT</td>\n",
       "      <td>CHISHTIAN TEHSIL</td>\n",
       "      <td>1500.0</td>\n",
       "      <td>540342</td>\n",
       "      <td>273788</td>\n",
       "      <td>266500</td>\n",
       "      <td>54</td>\n",
       "      <td>102.73</td>\n",
       "      <td>...</td>\n",
       "      <td>395983</td>\n",
       "      <td>1.65</td>\n",
       "      <td>149424</td>\n",
       "      <td>75546</td>\n",
       "      <td>73851</td>\n",
       "      <td>27</td>\n",
       "      <td>102.30</td>\n",
       "      <td>6.01</td>\n",
       "      <td>102287</td>\n",
       "      <td>2.01</td>\n",
       "    </tr>\n",
       "    <tr>\n",
       "      <th>2</th>\n",
       "      <td>PUNJAB</td>\n",
       "      <td>BAHAWALPUR DIVISION</td>\n",
       "      <td>BAHAWALNAGAR DISTRICT</td>\n",
       "      <td>FORT ABBAS TEHSIL</td>\n",
       "      <td>2536.0</td>\n",
       "      <td>361240</td>\n",
       "      <td>182655</td>\n",
       "      <td>178541</td>\n",
       "      <td>44</td>\n",
       "      <td>102.30</td>\n",
       "      <td>...</td>\n",
       "      <td>250959</td>\n",
       "      <td>1.93</td>\n",
       "      <td>61528</td>\n",
       "      <td>31360</td>\n",
       "      <td>30150</td>\n",
       "      <td>18</td>\n",
       "      <td>104.01</td>\n",
       "      <td>6.00</td>\n",
       "      <td>34637</td>\n",
       "      <td>3.06</td>\n",
       "    </tr>\n",
       "    <tr>\n",
       "      <th>3</th>\n",
       "      <td>PUNJAB</td>\n",
       "      <td>BAHAWALPUR DIVISION</td>\n",
       "      <td>BAHAWALNAGAR DISTRICT</td>\n",
       "      <td>HAROONABAD TEHSIL</td>\n",
       "      <td>1295.0</td>\n",
       "      <td>382115</td>\n",
       "      <td>192278</td>\n",
       "      <td>189808</td>\n",
       "      <td>29</td>\n",
       "      <td>101.30</td>\n",
       "      <td>...</td>\n",
       "      <td>297343</td>\n",
       "      <td>1.33</td>\n",
       "      <td>142600</td>\n",
       "      <td>71345</td>\n",
       "      <td>71236</td>\n",
       "      <td>19</td>\n",
       "      <td>100.15</td>\n",
       "      <td>6.02</td>\n",
       "      <td>84424</td>\n",
       "      <td>2.79</td>\n",
       "    </tr>\n",
       "    <tr>\n",
       "      <th>4</th>\n",
       "      <td>PUNJAB</td>\n",
       "      <td>BAHAWALPUR DIVISION</td>\n",
       "      <td>BAHAWALNAGAR DISTRICT</td>\n",
       "      <td>MINCHINABAD TEHSIL</td>\n",
       "      <td>1818.0</td>\n",
       "      <td>452723</td>\n",
       "      <td>231506</td>\n",
       "      <td>221178</td>\n",
       "      <td>39</td>\n",
       "      <td>104.67</td>\n",
       "      <td>...</td>\n",
       "      <td>316593</td>\n",
       "      <td>1.90</td>\n",
       "      <td>72294</td>\n",
       "      <td>36694</td>\n",
       "      <td>35590</td>\n",
       "      <td>10</td>\n",
       "      <td>103.10</td>\n",
       "      <td>6.34</td>\n",
       "      <td>37668</td>\n",
       "      <td>3.48</td>\n",
       "    </tr>\n",
       "  </tbody>\n",
       "</table>\n",
       "<p>5 rows × 21 columns</p>\n",
       "</div>"
      ],
      "text/plain": [
       "  PROVINCE             DIVISION               DISTRICT         SUB DIVISION  \\\n",
       "0   PUNJAB  BAHAWALPUR DIVISION  BAHAWALNAGAR DISTRICT  BAHAWALNAGAR TEHSIL   \n",
       "1   PUNJAB  BAHAWALPUR DIVISION  BAHAWALNAGAR DISTRICT     CHISHTIAN TEHSIL   \n",
       "2   PUNJAB  BAHAWALPUR DIVISION  BAHAWALNAGAR DISTRICT    FORT ABBAS TEHSIL   \n",
       "3   PUNJAB  BAHAWALPUR DIVISION  BAHAWALNAGAR DISTRICT    HAROONABAD TEHSIL   \n",
       "4   PUNJAB  BAHAWALPUR DIVISION  BAHAWALNAGAR DISTRICT   MINCHINABAD TEHSIL   \n",
       "\n",
       "   AREA (sq.km)  ALL SEXES (RURAL)  MALE (RURAL)  FEMALE (RURAL)  \\\n",
       "0        1729.0             619550        316864          302644   \n",
       "1        1500.0             540342        273788          266500   \n",
       "2        2536.0             361240        182655          178541   \n",
       "3        1295.0             382115        192278          189808   \n",
       "4        1818.0             452723        231506          221178   \n",
       "\n",
       "   TRANSGENDER (RURAL)  SEX RATIO (RURAL)  ...  POPULATION 1998 (RURAL)  \\\n",
       "0                   42             104.70  ...                   407768   \n",
       "1                   54             102.73  ...                   395983   \n",
       "2                   44             102.30  ...                   250959   \n",
       "3                   29             101.30  ...                   297343   \n",
       "4                   39             104.67  ...                   316593   \n",
       "\n",
       "   ANNUAL GROWTH RATE (RURAL)  ALL SEXES (URBAN)  MALE (URBAN)  \\\n",
       "0                        2.22             193840         98391   \n",
       "1                        1.65             149424         75546   \n",
       "2                        1.93              61528         31360   \n",
       "3                        1.33             142600         71345   \n",
       "4                        1.90              72294         36694   \n",
       "\n",
       "   FEMALE (URBAN)  TRANSGENDER (URBAN)  SEX RATIO (URBAN)  \\\n",
       "0           95402                   47             103.13   \n",
       "1           73851                   27             102.30   \n",
       "2           30150                   18             104.01   \n",
       "3           71236                   19             100.15   \n",
       "4           35590                   10             103.10   \n",
       "\n",
       "   AVG HOUSEHOLD SIZE (URBAN)  POPULATION 1998 (URBAN)  \\\n",
       "0                        6.02                   133785   \n",
       "1                        6.01                   102287   \n",
       "2                        6.00                    34637   \n",
       "3                        6.02                    84424   \n",
       "4                        6.34                    37668   \n",
       "\n",
       "   ANNUAL GROWTH RATE (URBAN)  \n",
       "0                        1.97  \n",
       "1                        2.01  \n",
       "2                        3.06  \n",
       "3                        2.79  \n",
       "4                        3.48  \n",
       "\n",
       "[5 rows x 21 columns]"
      ]
     },
     "execution_count": 234,
     "metadata": {},
     "output_type": "execute_result"
    }
   ],
   "source": [
    "df.head()"
   ]
  },
  {
   "cell_type": "code",
   "execution_count": 235,
   "id": "ff5de2f4",
   "metadata": {},
   "outputs": [],
   "source": [
    "pd.set_option('display.max_columns', None)\n",
    "pd.set_option('display.max_rows', None)"
   ]
  },
  {
   "cell_type": "code",
   "execution_count": 236,
   "id": "24437aae",
   "metadata": {},
   "outputs": [
    {
     "data": {
      "application/vnd.microsoft.datawrangler.viewer.v0+json": {
       "columns": [
        {
         "name": "index",
         "rawType": "int64",
         "type": "integer"
        },
        {
         "name": "PROVINCE",
         "rawType": "object",
         "type": "string"
        },
        {
         "name": "DIVISION",
         "rawType": "object",
         "type": "string"
        },
        {
         "name": "DISTRICT",
         "rawType": "object",
         "type": "string"
        },
        {
         "name": "SUB DIVISION",
         "rawType": "object",
         "type": "string"
        },
        {
         "name": "AREA (sq.km)",
         "rawType": "float64",
         "type": "float"
        },
        {
         "name": "ALL SEXES (RURAL)",
         "rawType": "int64",
         "type": "integer"
        },
        {
         "name": "MALE (RURAL)",
         "rawType": "int64",
         "type": "integer"
        },
        {
         "name": "FEMALE (RURAL)",
         "rawType": "int64",
         "type": "integer"
        },
        {
         "name": "TRANSGENDER (RURAL)",
         "rawType": "int64",
         "type": "integer"
        },
        {
         "name": "SEX RATIO (RURAL)",
         "rawType": "float64",
         "type": "float"
        },
        {
         "name": "AVG HOUSEHOLD SIZE (RURAL)",
         "rawType": "float64",
         "type": "float"
        },
        {
         "name": "POPULATION 1998 (RURAL)",
         "rawType": "int64",
         "type": "integer"
        },
        {
         "name": "ANNUAL GROWTH RATE (RURAL)",
         "rawType": "float64",
         "type": "float"
        },
        {
         "name": "ALL SEXES (URBAN)",
         "rawType": "int64",
         "type": "integer"
        },
        {
         "name": "MALE (URBAN)",
         "rawType": "int64",
         "type": "integer"
        },
        {
         "name": "FEMALE (URBAN)",
         "rawType": "int64",
         "type": "integer"
        },
        {
         "name": "TRANSGENDER (URBAN)",
         "rawType": "int64",
         "type": "integer"
        },
        {
         "name": "SEX RATIO (URBAN)",
         "rawType": "float64",
         "type": "float"
        },
        {
         "name": "AVG HOUSEHOLD SIZE (URBAN)",
         "rawType": "float64",
         "type": "float"
        },
        {
         "name": "POPULATION 1998 (URBAN)",
         "rawType": "int64",
         "type": "integer"
        },
        {
         "name": "ANNUAL GROWTH RATE (URBAN)",
         "rawType": "float64",
         "type": "float"
        }
       ],
       "ref": "058c1a80-2383-4600-bc1a-03c242b7c4f6",
       "rows": [
        [
         "0",
         "PUNJAB",
         "BAHAWALPUR DIVISION",
         "BAHAWALNAGAR DISTRICT",
         "BAHAWALNAGAR TEHSIL",
         "1729.0",
         "619550",
         "316864",
         "302644",
         "42",
         "104.7",
         "6.1",
         "407768",
         "2.22",
         "193840",
         "98391",
         "95402",
         "47",
         "103.13",
         "6.02",
         "133785",
         "1.97"
        ],
        [
         "1",
         "PUNJAB",
         "BAHAWALPUR DIVISION",
         "BAHAWALNAGAR DISTRICT",
         "CHISHTIAN TEHSIL",
         "1500.0",
         "540342",
         "273788",
         "266500",
         "54",
         "102.73",
         "6.15",
         "395983",
         "1.65",
         "149424",
         "75546",
         "73851",
         "27",
         "102.3",
         "6.01",
         "102287",
         "2.01"
        ],
        [
         "2",
         "PUNJAB",
         "BAHAWALPUR DIVISION",
         "BAHAWALNAGAR DISTRICT",
         "FORT ABBAS TEHSIL",
         "2536.0",
         "361240",
         "182655",
         "178541",
         "44",
         "102.3",
         "6.32",
         "250959",
         "1.93",
         "61528",
         "31360",
         "30150",
         "18",
         "104.01",
         "6.0",
         "34637",
         "3.06"
        ],
        [
         "3",
         "PUNJAB",
         "BAHAWALPUR DIVISION",
         "BAHAWALNAGAR DISTRICT",
         "HAROONABAD TEHSIL",
         "1295.0",
         "382115",
         "192278",
         "189808",
         "29",
         "101.3",
         "6.15",
         "297343",
         "1.33",
         "142600",
         "71345",
         "71236",
         "19",
         "100.15",
         "6.02",
         "84424",
         "2.79"
        ],
        [
         "4",
         "PUNJAB",
         "BAHAWALPUR DIVISION",
         "BAHAWALNAGAR DISTRICT",
         "MINCHINABAD TEHSIL",
         "1818.0",
         "452723",
         "231506",
         "221178",
         "39",
         "104.67",
         "6.29",
         "316593",
         "1.9",
         "72294",
         "36694",
         "35590",
         "10",
         "103.1",
         "6.34",
         "37668",
         "3.48"
        ]
       ],
       "shape": {
        "columns": 21,
        "rows": 5
       }
      },
      "text/html": [
       "<div>\n",
       "<style scoped>\n",
       "    .dataframe tbody tr th:only-of-type {\n",
       "        vertical-align: middle;\n",
       "    }\n",
       "\n",
       "    .dataframe tbody tr th {\n",
       "        vertical-align: top;\n",
       "    }\n",
       "\n",
       "    .dataframe thead th {\n",
       "        text-align: right;\n",
       "    }\n",
       "</style>\n",
       "<table border=\"1\" class=\"dataframe\">\n",
       "  <thead>\n",
       "    <tr style=\"text-align: right;\">\n",
       "      <th></th>\n",
       "      <th>PROVINCE</th>\n",
       "      <th>DIVISION</th>\n",
       "      <th>DISTRICT</th>\n",
       "      <th>SUB DIVISION</th>\n",
       "      <th>AREA (sq.km)</th>\n",
       "      <th>ALL SEXES (RURAL)</th>\n",
       "      <th>MALE (RURAL)</th>\n",
       "      <th>FEMALE (RURAL)</th>\n",
       "      <th>TRANSGENDER (RURAL)</th>\n",
       "      <th>SEX RATIO (RURAL)</th>\n",
       "      <th>AVG HOUSEHOLD SIZE (RURAL)</th>\n",
       "      <th>POPULATION 1998 (RURAL)</th>\n",
       "      <th>ANNUAL GROWTH RATE (RURAL)</th>\n",
       "      <th>ALL SEXES (URBAN)</th>\n",
       "      <th>MALE (URBAN)</th>\n",
       "      <th>FEMALE (URBAN)</th>\n",
       "      <th>TRANSGENDER (URBAN)</th>\n",
       "      <th>SEX RATIO (URBAN)</th>\n",
       "      <th>AVG HOUSEHOLD SIZE (URBAN)</th>\n",
       "      <th>POPULATION 1998 (URBAN)</th>\n",
       "      <th>ANNUAL GROWTH RATE (URBAN)</th>\n",
       "    </tr>\n",
       "  </thead>\n",
       "  <tbody>\n",
       "    <tr>\n",
       "      <th>0</th>\n",
       "      <td>PUNJAB</td>\n",
       "      <td>BAHAWALPUR DIVISION</td>\n",
       "      <td>BAHAWALNAGAR DISTRICT</td>\n",
       "      <td>BAHAWALNAGAR TEHSIL</td>\n",
       "      <td>1729.0</td>\n",
       "      <td>619550</td>\n",
       "      <td>316864</td>\n",
       "      <td>302644</td>\n",
       "      <td>42</td>\n",
       "      <td>104.70</td>\n",
       "      <td>6.10</td>\n",
       "      <td>407768</td>\n",
       "      <td>2.22</td>\n",
       "      <td>193840</td>\n",
       "      <td>98391</td>\n",
       "      <td>95402</td>\n",
       "      <td>47</td>\n",
       "      <td>103.13</td>\n",
       "      <td>6.02</td>\n",
       "      <td>133785</td>\n",
       "      <td>1.97</td>\n",
       "    </tr>\n",
       "    <tr>\n",
       "      <th>1</th>\n",
       "      <td>PUNJAB</td>\n",
       "      <td>BAHAWALPUR DIVISION</td>\n",
       "      <td>BAHAWALNAGAR DISTRICT</td>\n",
       "      <td>CHISHTIAN TEHSIL</td>\n",
       "      <td>1500.0</td>\n",
       "      <td>540342</td>\n",
       "      <td>273788</td>\n",
       "      <td>266500</td>\n",
       "      <td>54</td>\n",
       "      <td>102.73</td>\n",
       "      <td>6.15</td>\n",
       "      <td>395983</td>\n",
       "      <td>1.65</td>\n",
       "      <td>149424</td>\n",
       "      <td>75546</td>\n",
       "      <td>73851</td>\n",
       "      <td>27</td>\n",
       "      <td>102.30</td>\n",
       "      <td>6.01</td>\n",
       "      <td>102287</td>\n",
       "      <td>2.01</td>\n",
       "    </tr>\n",
       "    <tr>\n",
       "      <th>2</th>\n",
       "      <td>PUNJAB</td>\n",
       "      <td>BAHAWALPUR DIVISION</td>\n",
       "      <td>BAHAWALNAGAR DISTRICT</td>\n",
       "      <td>FORT ABBAS TEHSIL</td>\n",
       "      <td>2536.0</td>\n",
       "      <td>361240</td>\n",
       "      <td>182655</td>\n",
       "      <td>178541</td>\n",
       "      <td>44</td>\n",
       "      <td>102.30</td>\n",
       "      <td>6.32</td>\n",
       "      <td>250959</td>\n",
       "      <td>1.93</td>\n",
       "      <td>61528</td>\n",
       "      <td>31360</td>\n",
       "      <td>30150</td>\n",
       "      <td>18</td>\n",
       "      <td>104.01</td>\n",
       "      <td>6.00</td>\n",
       "      <td>34637</td>\n",
       "      <td>3.06</td>\n",
       "    </tr>\n",
       "    <tr>\n",
       "      <th>3</th>\n",
       "      <td>PUNJAB</td>\n",
       "      <td>BAHAWALPUR DIVISION</td>\n",
       "      <td>BAHAWALNAGAR DISTRICT</td>\n",
       "      <td>HAROONABAD TEHSIL</td>\n",
       "      <td>1295.0</td>\n",
       "      <td>382115</td>\n",
       "      <td>192278</td>\n",
       "      <td>189808</td>\n",
       "      <td>29</td>\n",
       "      <td>101.30</td>\n",
       "      <td>6.15</td>\n",
       "      <td>297343</td>\n",
       "      <td>1.33</td>\n",
       "      <td>142600</td>\n",
       "      <td>71345</td>\n",
       "      <td>71236</td>\n",
       "      <td>19</td>\n",
       "      <td>100.15</td>\n",
       "      <td>6.02</td>\n",
       "      <td>84424</td>\n",
       "      <td>2.79</td>\n",
       "    </tr>\n",
       "    <tr>\n",
       "      <th>4</th>\n",
       "      <td>PUNJAB</td>\n",
       "      <td>BAHAWALPUR DIVISION</td>\n",
       "      <td>BAHAWALNAGAR DISTRICT</td>\n",
       "      <td>MINCHINABAD TEHSIL</td>\n",
       "      <td>1818.0</td>\n",
       "      <td>452723</td>\n",
       "      <td>231506</td>\n",
       "      <td>221178</td>\n",
       "      <td>39</td>\n",
       "      <td>104.67</td>\n",
       "      <td>6.29</td>\n",
       "      <td>316593</td>\n",
       "      <td>1.90</td>\n",
       "      <td>72294</td>\n",
       "      <td>36694</td>\n",
       "      <td>35590</td>\n",
       "      <td>10</td>\n",
       "      <td>103.10</td>\n",
       "      <td>6.34</td>\n",
       "      <td>37668</td>\n",
       "      <td>3.48</td>\n",
       "    </tr>\n",
       "  </tbody>\n",
       "</table>\n",
       "</div>"
      ],
      "text/plain": [
       "  PROVINCE             DIVISION               DISTRICT         SUB DIVISION  \\\n",
       "0   PUNJAB  BAHAWALPUR DIVISION  BAHAWALNAGAR DISTRICT  BAHAWALNAGAR TEHSIL   \n",
       "1   PUNJAB  BAHAWALPUR DIVISION  BAHAWALNAGAR DISTRICT     CHISHTIAN TEHSIL   \n",
       "2   PUNJAB  BAHAWALPUR DIVISION  BAHAWALNAGAR DISTRICT    FORT ABBAS TEHSIL   \n",
       "3   PUNJAB  BAHAWALPUR DIVISION  BAHAWALNAGAR DISTRICT    HAROONABAD TEHSIL   \n",
       "4   PUNJAB  BAHAWALPUR DIVISION  BAHAWALNAGAR DISTRICT   MINCHINABAD TEHSIL   \n",
       "\n",
       "   AREA (sq.km)  ALL SEXES (RURAL)  MALE (RURAL)  FEMALE (RURAL)  \\\n",
       "0        1729.0             619550        316864          302644   \n",
       "1        1500.0             540342        273788          266500   \n",
       "2        2536.0             361240        182655          178541   \n",
       "3        1295.0             382115        192278          189808   \n",
       "4        1818.0             452723        231506          221178   \n",
       "\n",
       "   TRANSGENDER (RURAL)  SEX RATIO (RURAL)  AVG HOUSEHOLD SIZE (RURAL)  \\\n",
       "0                   42             104.70                        6.10   \n",
       "1                   54             102.73                        6.15   \n",
       "2                   44             102.30                        6.32   \n",
       "3                   29             101.30                        6.15   \n",
       "4                   39             104.67                        6.29   \n",
       "\n",
       "   POPULATION 1998 (RURAL)  ANNUAL GROWTH RATE (RURAL)  ALL SEXES (URBAN)  \\\n",
       "0                   407768                        2.22             193840   \n",
       "1                   395983                        1.65             149424   \n",
       "2                   250959                        1.93              61528   \n",
       "3                   297343                        1.33             142600   \n",
       "4                   316593                        1.90              72294   \n",
       "\n",
       "   MALE (URBAN)  FEMALE (URBAN)  TRANSGENDER (URBAN)  SEX RATIO (URBAN)  \\\n",
       "0         98391           95402                   47             103.13   \n",
       "1         75546           73851                   27             102.30   \n",
       "2         31360           30150                   18             104.01   \n",
       "3         71345           71236                   19             100.15   \n",
       "4         36694           35590                   10             103.10   \n",
       "\n",
       "   AVG HOUSEHOLD SIZE (URBAN)  POPULATION 1998 (URBAN)  \\\n",
       "0                        6.02                   133785   \n",
       "1                        6.01                   102287   \n",
       "2                        6.00                    34637   \n",
       "3                        6.02                    84424   \n",
       "4                        6.34                    37668   \n",
       "\n",
       "   ANNUAL GROWTH RATE (URBAN)  \n",
       "0                        1.97  \n",
       "1                        2.01  \n",
       "2                        3.06  \n",
       "3                        2.79  \n",
       "4                        3.48  "
      ]
     },
     "execution_count": 236,
     "metadata": {},
     "output_type": "execute_result"
    }
   ],
   "source": [
    "df.head()"
   ]
  },
  {
   "cell_type": "code",
   "execution_count": 240,
   "id": "60510644",
   "metadata": {},
   "outputs": [
    {
     "data": {
      "application/vnd.microsoft.datawrangler.viewer.v0+json": {
       "columns": [
        {
         "name": "index",
         "rawType": "object",
         "type": "string"
        },
        {
         "name": "0",
         "rawType": "object",
         "type": "unknown"
        }
       ],
       "ref": "d6fa72ce-f576-457b-9ffc-26a9d7592fa5",
       "rows": [
        [
         "PROVINCE",
         "object"
        ],
        [
         "DIVISION",
         "object"
        ],
        [
         "DISTRICT",
         "object"
        ],
        [
         "SUB DIVISION",
         "object"
        ],
        [
         "AREA (sq.km)",
         "float64"
        ],
        [
         "ALL SEXES (RURAL)",
         "int64"
        ],
        [
         "MALE (RURAL)",
         "int64"
        ],
        [
         "FEMALE (RURAL)",
         "int64"
        ],
        [
         "TRANSGENDER (RURAL)",
         "int64"
        ],
        [
         "SEX RATIO (RURAL)",
         "float64"
        ],
        [
         "AVG HOUSEHOLD SIZE (RURAL)",
         "float64"
        ],
        [
         "POPULATION 1998 (RURAL)",
         "int64"
        ],
        [
         "ANNUAL GROWTH RATE (RURAL)",
         "float64"
        ],
        [
         "ALL SEXES (URBAN)",
         "int64"
        ],
        [
         "MALE (URBAN)",
         "int64"
        ],
        [
         "FEMALE (URBAN)",
         "int64"
        ],
        [
         "TRANSGENDER (URBAN)",
         "int64"
        ],
        [
         "SEX RATIO (URBAN)",
         "float64"
        ],
        [
         "AVG HOUSEHOLD SIZE (URBAN)",
         "float64"
        ],
        [
         "POPULATION 1998 (URBAN)",
         "int64"
        ],
        [
         "ANNUAL GROWTH RATE (URBAN)",
         "float64"
        ]
       ],
       "shape": {
        "columns": 1,
        "rows": 21
       }
      },
      "text/plain": [
       "PROVINCE                       object\n",
       "DIVISION                       object\n",
       "DISTRICT                       object\n",
       "SUB DIVISION                   object\n",
       "AREA (sq.km)                  float64\n",
       "ALL SEXES (RURAL)               int64\n",
       "MALE (RURAL)                    int64\n",
       "FEMALE (RURAL)                  int64\n",
       "TRANSGENDER (RURAL)             int64\n",
       "SEX RATIO (RURAL)             float64\n",
       "AVG HOUSEHOLD SIZE (RURAL)    float64\n",
       "POPULATION 1998 (RURAL)         int64\n",
       "ANNUAL GROWTH RATE (RURAL)    float64\n",
       "ALL SEXES (URBAN)               int64\n",
       "MALE (URBAN)                    int64\n",
       "FEMALE (URBAN)                  int64\n",
       "TRANSGENDER (URBAN)             int64\n",
       "SEX RATIO (URBAN)             float64\n",
       "AVG HOUSEHOLD SIZE (URBAN)    float64\n",
       "POPULATION 1998 (URBAN)         int64\n",
       "ANNUAL GROWTH RATE (URBAN)    float64\n",
       "dtype: object"
      ]
     },
     "execution_count": 240,
     "metadata": {},
     "output_type": "execute_result"
    }
   ],
   "source": [
    "df.dtypes"
   ]
  },
  {
   "cell_type": "code",
   "execution_count": 241,
   "id": "2bf44b86",
   "metadata": {},
   "outputs": [
    {
     "data": {
      "application/vnd.microsoft.datawrangler.viewer.v0+json": {
       "columns": [
        {
         "name": "index",
         "rawType": "object",
         "type": "string"
        },
        {
         "name": "0",
         "rawType": "int64",
         "type": "integer"
        }
       ],
       "ref": "b0f08e42-31c8-4c35-893b-102e2a6ea237",
       "rows": [
        [
         "PROVINCE",
         "0"
        ],
        [
         "DIVISION",
         "0"
        ],
        [
         "DISTRICT",
         "0"
        ],
        [
         "SUB DIVISION",
         "0"
        ],
        [
         "AREA (sq.km)",
         "0"
        ],
        [
         "ALL SEXES (RURAL)",
         "0"
        ],
        [
         "MALE (RURAL)",
         "0"
        ],
        [
         "FEMALE (RURAL)",
         "0"
        ],
        [
         "TRANSGENDER (RURAL)",
         "0"
        ],
        [
         "SEX RATIO (RURAL)",
         "0"
        ],
        [
         "AVG HOUSEHOLD SIZE (RURAL)",
         "0"
        ],
        [
         "POPULATION 1998 (RURAL)",
         "0"
        ],
        [
         "ANNUAL GROWTH RATE (RURAL)",
         "0"
        ],
        [
         "ALL SEXES (URBAN)",
         "0"
        ],
        [
         "MALE (URBAN)",
         "0"
        ],
        [
         "FEMALE (URBAN)",
         "0"
        ],
        [
         "TRANSGENDER (URBAN)",
         "0"
        ],
        [
         "SEX RATIO (URBAN)",
         "0"
        ],
        [
         "AVG HOUSEHOLD SIZE (URBAN)",
         "0"
        ],
        [
         "POPULATION 1998 (URBAN)",
         "0"
        ],
        [
         "ANNUAL GROWTH RATE (URBAN)",
         "0"
        ]
       ],
       "shape": {
        "columns": 1,
        "rows": 21
       }
      },
      "text/plain": [
       "PROVINCE                      0\n",
       "DIVISION                      0\n",
       "DISTRICT                      0\n",
       "SUB DIVISION                  0\n",
       "AREA (sq.km)                  0\n",
       "ALL SEXES (RURAL)             0\n",
       "MALE (RURAL)                  0\n",
       "FEMALE (RURAL)                0\n",
       "TRANSGENDER (RURAL)           0\n",
       "SEX RATIO (RURAL)             0\n",
       "AVG HOUSEHOLD SIZE (RURAL)    0\n",
       "POPULATION 1998 (RURAL)       0\n",
       "ANNUAL GROWTH RATE (RURAL)    0\n",
       "ALL SEXES (URBAN)             0\n",
       "MALE (URBAN)                  0\n",
       "FEMALE (URBAN)                0\n",
       "TRANSGENDER (URBAN)           0\n",
       "SEX RATIO (URBAN)             0\n",
       "AVG HOUSEHOLD SIZE (URBAN)    0\n",
       "POPULATION 1998 (URBAN)       0\n",
       "ANNUAL GROWTH RATE (URBAN)    0\n",
       "dtype: int64"
      ]
     },
     "execution_count": 241,
     "metadata": {},
     "output_type": "execute_result"
    }
   ],
   "source": [
    "df.isnull().sum()"
   ]
  },
  {
   "cell_type": "code",
   "execution_count": 245,
   "id": "872de949",
   "metadata": {},
   "outputs": [
    {
     "data": {
      "text/plain": [
       "<Axes: xlabel='FEMALE (RURAL)', ylabel='Count'>"
      ]
     },
     "execution_count": 245,
     "metadata": {},
     "output_type": "execute_result"
    },
    {
     "data": {
      "image/png": "[encoded data removed]",
      "text/plain": [
       "<Figure size 640x480 with 1 Axes>"
      ]
     },
     "metadata": {},
     "output_type": "display_data"
    }
   ],
   "source": [
    "#boxplot\n",
    "sns.histplot(df,x='FEMALE (RURAL)')"
   ]
  },
  {
   "cell_type": "code",
   "execution_count": 249,
   "id": "31c07e87",
   "metadata": {},
   "outputs": [
    {
     "data": {
      "text/plain": [
       "<Axes: xlabel='MALE (RURAL)', ylabel='FEMALE (RURAL)'>"
      ]
     },
     "execution_count": 249,
     "metadata": {},
     "output_type": "execute_result"
    },
    {
     "data": {
      "image/png": "[encoded data removed]",
      "text/plain": [
       "<Figure size 640x480 with 1 Axes>"
      ]
     },
     "metadata": {},
     "output_type": "display_data"
    }
   ],
   "source": [
    "sns.boxplot(df,x = 'MALE (RURAL)', y = 'FEMALE (RURAL)' )"
   ]
  },
  {
   "cell_type": "code",
   "execution_count": 252,
   "id": "d50dcd52",
   "metadata": {},
   "outputs": [
    {
     "data": {
      "application/vnd.microsoft.datawrangler.viewer.v0+json": {
       "columns": [
        {
         "name": "DIVISION",
         "rawType": "object",
         "type": "string"
        },
        {
         "name": "0",
         "rawType": "int64",
         "type": "integer"
        }
       ],
       "ref": "e55e5d4f-7c85-4194-9799-52461abbe910",
       "rows": [
        [
         "Badin Division",
         "5"
        ],
        [
         "MARDAN DIVISION",
         "7"
        ],
        [
         "SAHIWAL DIVISION",
         "7"
        ],
        [
         "KOHAT DIVISION",
         "14"
        ],
        [
         "MULTAN DIVISION",
         "14"
        ],
        [
         "D.G.KHAN DIVISION",
         "14"
        ],
        [
         "DERA ISMAIL KHAN DIVISION",
         "15"
        ],
        [
         "HAZARA DIVISION",
         "15"
        ],
        [
         "BANNU DIVISION",
         "15"
        ],
        [
         "Shaheed Benazirabad Division",
         "15"
        ],
        [
         "BAHAWALPUR DIVISION",
         "15"
        ],
        [
         "LAHORE DIVISION",
         "17"
        ],
        [
         "SARGODHA DIVISION",
         "17"
        ],
        [
         "FAISALABAD DIVISION",
         "17"
        ],
        [
         "Kalat Division",
         "18"
        ],
        [
         "PESHAWAR DIVISION",
         "18"
        ],
        [
         "Mirpurkhas Division",
         "18"
        ],
        [
         "Sukkur Division",
         "18"
        ],
        [
         "Zhob Division",
         "19"
        ],
        [
         "Naseerabad Division",
         "19"
        ],
        [
         "GUJRANWALA DIVISION",
         "20"
        ],
        [
         "Larkana Division",
         "21"
        ],
        [
         "RAWALPINDI DIVISION",
         "22"
        ],
        [
         "Hyderabad Division",
         "30"
        ],
        [
         "Karachi Division",
         "30"
        ],
        [
         "MALAKAND DIVISION",
         "33"
        ],
        [
         "Makran Division",
         "37"
        ],
        [
         "Quetta Division",
         "38"
        ]
       ],
       "shape": {
        "columns": 1,
        "rows": 28
       }
      },
      "text/plain": [
       "DIVISION\n",
       "Badin Division                   5\n",
       "MARDAN DIVISION                  7\n",
       "SAHIWAL DIVISION                 7\n",
       "KOHAT DIVISION                  14\n",
       "MULTAN DIVISION                 14\n",
       "D.G.KHAN DIVISION               14\n",
       "DERA ISMAIL KHAN DIVISION       15\n",
       "HAZARA DIVISION                 15\n",
       "BANNU DIVISION                  15\n",
       "Shaheed Benazirabad Division    15\n",
       "BAHAWALPUR DIVISION             15\n",
       "LAHORE DIVISION                 17\n",
       "SARGODHA DIVISION               17\n",
       "FAISALABAD DIVISION             17\n",
       "Kalat Division                  18\n",
       "PESHAWAR DIVISION               18\n",
       "Mirpurkhas Division             18\n",
       "Sukkur Division                 18\n",
       "Zhob Division                   19\n",
       "Naseerabad Division             19\n",
       "GUJRANWALA DIVISION             20\n",
       "Larkana Division                21\n",
       "RAWALPINDI DIVISION             22\n",
       "Hyderabad Division              30\n",
       "Karachi Division                30\n",
       "MALAKAND DIVISION               33\n",
       "Makran Division                 37\n",
       "Quetta Division                 38\n",
       "dtype: int64"
      ]
     },
     "execution_count": 252,
     "metadata": {},
     "output_type": "execute_result"
    }
   ],
   "source": [
    "df.groupby(['DIVISION']).size().sort_values()"
   ]
  },
  {
   "cell_type": "code",
   "execution_count": 255,
   "id": "163b421f",
   "metadata": {},
   "outputs": [
    {
     "data": {
      "application/vnd.microsoft.datawrangler.viewer.v0+json": {
       "columns": [
        {
         "name": "('PROVINCE', 'DIVISION')",
         "rawType": "object",
         "type": "unknown"
        },
        {
         "name": "AREA (sq.km)",
         "rawType": "float64",
         "type": "float"
        }
       ],
       "ref": "08fca5b0-7d62-4054-9497-d141293e50ef",
       "rows": [
        [
         "('BALOCHISTAN', 'Kalat Division')",
         "2616.8888888888887"
        ],
        [
         "('BALOCHISTAN', 'Makran Division')",
         "3880.837837837838"
        ],
        [
         "('BALOCHISTAN', 'Naseerabad Division')",
         "796.2631578947369"
        ],
        [
         "('BALOCHISTAN', 'Quetta Division')",
         "2506.6315789473683"
        ],
        [
         "('BALOCHISTAN', 'Zhob Division')",
         "2336.2105263157896"
        ],
        [
         "('KPK', 'BANNU DIVISION')",
         "1097.75"
        ],
        [
         "('KPK', 'DERA ISMAIL KHAN DIVISION')",
         "1500.8333333333333"
        ],
        [
         "('KPK', 'HAZARA DIVISION')",
         "1148.4733333333331"
        ],
        [
         "('KPK', 'KOHAT DIVISION')",
         "1001.8571428571429"
        ],
        [
         "('KPK', 'MALAKAND DIVISION')",
         "1185.5384615384614"
        ],
        [
         "('KPK', 'MARDAN DIVISION')",
         "453.57142857142856"
        ],
        [
         "('KPK', 'PESHAWAR DIVISION')",
         "553.6666666666666"
        ],
        [
         "('KPK/FATA', 'BANNU DIVISION')",
         "507.6363636363636"
        ],
        [
         "('KPK/FATA', 'DERA ISMAIL KHAN DIVISION')",
         "958.6666666666666"
        ],
        [
         "('KPK/FATA', 'KOHAT DIVISION')",
         "556.2857142857143"
        ],
        [
         "('KPK/FATA', 'MALAKAND DIVISION')",
         "184.28571428571428"
        ],
        [
         "('KPK/FATA', 'PESHAWAR DIVISION')",
         "427.75"
        ],
        [
         "('PUNJAB', 'BAHAWALPUR DIVISION')",
         "3039.2"
        ],
        [
         "('PUNJAB', 'D.G.KHAN DIVISION')",
         "2639.6428571428573"
        ],
        [
         "('PUNJAB', 'FAISALABAD DIVISION')",
         "1054.0"
        ],
        [
         "('PUNJAB', 'GUJRANWALA DIVISION')",
         "860.35"
        ],
        [
         "('PUNJAB', 'LAHORE DIVISION')",
         "689.8235294117648"
        ],
        [
         "('PUNJAB', 'MULTAN DIVISION')",
         "1086.5"
        ],
        [
         "('PUNJAB', 'RAWALPINDI DIVISION')",
         "1011.5454545454545"
        ],
        [
         "('PUNJAB', 'SAHIWAL DIVISION')",
         "1471.7142857142858"
        ],
        [
         "('PUNJAB', 'SARGODHA DIVISION')",
         "1501.8235294117646"
        ],
        [
         "('SINDH', 'Badin Division')",
         "1371.6"
        ],
        [
         "('SINDH', 'Hyderabad Division')",
         "1368.2666666666667"
        ],
        [
         "('SINDH', 'Karachi Division')",
         "117.1"
        ],
        [
         "('SINDH', 'Larkana Division')",
         "724.4285714285714"
        ],
        [
         "('SINDH', 'Mirpurkhas Division')",
         "1565.0"
        ],
        [
         "('SINDH', 'Shaheed Benazirabad Division')",
         "1211.7333333333333"
        ],
        [
         "('SINDH', 'Sukkur Division')",
         "1508.7777777777778"
        ]
       ],
       "shape": {
        "columns": 1,
        "rows": 33
       }
      },
      "text/plain": [
       "PROVINCE     DIVISION                    \n",
       "BALOCHISTAN  Kalat Division                  2616.888889\n",
       "             Makran Division                 3880.837838\n",
       "             Naseerabad Division              796.263158\n",
       "             Quetta Division                 2506.631579\n",
       "             Zhob Division                   2336.210526\n",
       "KPK          BANNU DIVISION                  1097.750000\n",
       "             DERA ISMAIL KHAN DIVISION       1500.833333\n",
       "             HAZARA DIVISION                 1148.473333\n",
       "             KOHAT DIVISION                  1001.857143\n",
       "             MALAKAND DIVISION               1185.538462\n",
       "             MARDAN DIVISION                  453.571429\n",
       "             PESHAWAR DIVISION                553.666667\n",
       "KPK/FATA     BANNU DIVISION                   507.636364\n",
       "             DERA ISMAIL KHAN DIVISION        958.666667\n",
       "             KOHAT DIVISION                   556.285714\n",
       "             MALAKAND DIVISION                184.285714\n",
       "             PESHAWAR DIVISION                427.750000\n",
       "PUNJAB       BAHAWALPUR DIVISION             3039.200000\n",
       "             D.G.KHAN DIVISION               2639.642857\n",
       "             FAISALABAD DIVISION             1054.000000\n",
       "             GUJRANWALA DIVISION              860.350000\n",
       "             LAHORE DIVISION                  689.823529\n",
       "             MULTAN DIVISION                 1086.500000\n",
       "             RAWALPINDI DIVISION             1011.545455\n",
       "             SAHIWAL DIVISION                1471.714286\n",
       "             SARGODHA DIVISION               1501.823529\n",
       "SINDH        Badin Division                  1371.600000\n",
       "             Hyderabad Division              1368.266667\n",
       "             Karachi Division                 117.100000\n",
       "             Larkana Division                 724.428571\n",
       "             Mirpurkhas Division             1565.000000\n",
       "             Shaheed Benazirabad Division    1211.733333\n",
       "             Sukkur Division                 1508.777778\n",
       "Name: AREA (sq.km), dtype: float64"
      ]
     },
     "execution_count": 255,
     "metadata": {},
     "output_type": "execute_result"
    }
   ],
   "source": [
    "df.groupby(['PROVINCE','DIVISION']) ['AREA (sq.km)'].mean()"
   ]
  },
  {
   "cell_type": "code",
   "execution_count": 257,
   "id": "67015e95",
   "metadata": {},
   "outputs": [
    {
     "data": {
      "application/vnd.microsoft.datawrangler.viewer.v0+json": {
       "columns": [
        {
         "name": "index",
         "rawType": "object",
         "type": "string"
        },
        {
         "name": "count",
         "rawType": "float64",
         "type": "float"
        },
        {
         "name": "mean",
         "rawType": "float64",
         "type": "float"
        },
        {
         "name": "std",
         "rawType": "float64",
         "type": "float"
        },
        {
         "name": "min",
         "rawType": "float64",
         "type": "float"
        },
        {
         "name": "25%",
         "rawType": "float64",
         "type": "float"
        },
        {
         "name": "50%",
         "rawType": "float64",
         "type": "float"
        },
        {
         "name": "75%",
         "rawType": "float64",
         "type": "float"
        },
        {
         "name": "max",
         "rawType": "float64",
         "type": "float"
        }
       ],
       "ref": "2c4bd655-79a8-4eb2-9a71-cc550c3b6107",
       "rows": [
        [
         "AREA (sq.km)",
         "528.0",
         "1492.005871212121",
         "2039.453778210461",
         "0.0",
         "425.0",
         "882.0",
         "1734.25",
         "18374.0"
        ],
        [
         "ALL SEXES (RURAL)",
         "528.0",
         "246278.01136363635",
         "271189.81655913533",
         "0.0",
         "50934.5",
         "165241.0",
         "312911.25",
         "2297375.0"
        ],
        [
         "MALE (RURAL)",
         "528.0",
         "125275.6875",
         "137563.02145832204",
         "0.0",
         "27127.25",
         "84134.5",
         "160502.25",
         "1172995.0"
        ],
        [
         "FEMALE (RURAL)",
         "528.0",
         "120984.14962121213",
         "133716.8982962157",
         "0.0",
         "23979.0",
         "82044.0",
         "152219.0",
         "1124167.0"
        ],
        [
         "TRANSGENDER (RURAL)",
         "528.0",
         "18.174242424242426",
         "25.52224797583435",
         "0.0",
         "1.0",
         "10.0",
         "25.0",
         "213.0"
        ],
        [
         "SEX RATIO (RURAL)",
         "528.0",
         "98.98261363636364",
         "26.812659963763632",
         "0.0",
         "101.105",
         "105.285",
         "108.3475",
         "139.38"
        ],
        [
         "AVG HOUSEHOLD SIZE (RURAL)",
         "528.0",
         "6.277064393939394",
         "2.0749468568721596",
         "0.0",
         "5.7",
         "6.31",
         "7.2",
         "12.43"
        ],
        [
         "POPULATION 1998 (RURAL)",
         "528.0",
         "167427.99431818182",
         "178388.97699251067",
         "0.0",
         "35273.5",
         "117206.5",
         "213054.25",
         "1044035.0"
        ],
        [
         "ANNUAL GROWTH RATE (RURAL)",
         "528.0",
         "3.1247916666666664",
         "9.57787173131309",
         "0.0",
         "1.44",
         "2.03",
         "2.8125",
         "100.0"
        ],
        [
         "ALL SEXES (URBAN)",
         "528.0",
         "140863.5284090909",
         "351246.2791356469",
         "0.0",
         "0.0",
         "43254.5",
         "117814.75",
         "3653616.0"
        ],
        [
         "MALE (URBAN)",
         "528.0",
         "72843.38636363637",
         "182349.2413790539",
         "0.0",
         "0.0",
         "21980.0",
         "60301.75",
         "1905921.0"
        ],
        [
         "FEMALE (URBAN)",
         "528.0",
         "67997.86553030302",
         "168872.52821213394",
         "0.0",
         "0.0",
         "20999.0",
         "57465.25",
         "1746900.0"
        ],
        [
         "TRANSGENDER (URBAN)",
         "528.0",
         "22.276515151515152",
         "66.06812694544523",
         "0.0",
         "0.0",
         "3.0",
         "19.0",
         "795.0"
        ],
        [
         "SEX RATIO (URBAN)",
         "528.0",
         "75.41126893939395",
         "49.687340945047495",
         "0.0",
         "0.0",
         "103.195",
         "107.04",
         "297.81"
        ],
        [
         "AVG HOUSEHOLD SIZE (URBAN)",
         "528.0",
         "4.406401515151515",
         "2.9483358323019533",
         "0.0",
         "0.0",
         "5.755",
         "6.34",
         "10.06"
        ],
        [
         "POPULATION 1998 (URBAN)",
         "528.0",
         "80144.56628787878",
         "202312.01922696535",
         "0.0",
         "0.0",
         "21298.0",
         "65422.25",
         "2075867.0"
        ],
        [
         "ANNUAL GROWTH RATE (URBAN)",
         "528.0",
         "1.920814393939394",
         "2.0989080696947195",
         "0.0",
         "0.0",
         "1.855",
         "2.985",
         "19.78"
        ]
       ],
       "shape": {
        "columns": 8,
        "rows": 17
       }
      },
      "text/html": [
       "<div>\n",
       "<style scoped>\n",
       "    .dataframe tbody tr th:only-of-type {\n",
       "        vertical-align: middle;\n",
       "    }\n",
       "\n",
       "    .dataframe tbody tr th {\n",
       "        vertical-align: top;\n",
       "    }\n",
       "\n",
       "    .dataframe thead th {\n",
       "        text-align: right;\n",
       "    }\n",
       "</style>\n",
       "<table border=\"1\" class=\"dataframe\">\n",
       "  <thead>\n",
       "    <tr style=\"text-align: right;\">\n",
       "      <th></th>\n",
       "      <th>count</th>\n",
       "      <th>mean</th>\n",
       "      <th>std</th>\n",
       "      <th>min</th>\n",
       "      <th>25%</th>\n",
       "      <th>50%</th>\n",
       "      <th>75%</th>\n",
       "      <th>max</th>\n",
       "    </tr>\n",
       "  </thead>\n",
       "  <tbody>\n",
       "    <tr>\n",
       "      <th>AREA (sq.km)</th>\n",
       "      <td>528.0</td>\n",
       "      <td>1492.005871</td>\n",
       "      <td>2039.453778</td>\n",
       "      <td>0.0</td>\n",
       "      <td>425.000</td>\n",
       "      <td>882.000</td>\n",
       "      <td>1734.2500</td>\n",
       "      <td>18374.00</td>\n",
       "    </tr>\n",
       "    <tr>\n",
       "      <th>ALL SEXES (RURAL)</th>\n",
       "      <td>528.0</td>\n",
       "      <td>246278.011364</td>\n",
       "      <td>271189.816559</td>\n",
       "      <td>0.0</td>\n",
       "      <td>50934.500</td>\n",
       "      <td>165241.000</td>\n",
       "      <td>312911.2500</td>\n",
       "      <td>2297375.00</td>\n",
       "    </tr>\n",
       "    <tr>\n",
       "      <th>MALE (RURAL)</th>\n",
       "      <td>528.0</td>\n",
       "      <td>125275.687500</td>\n",
       "      <td>137563.021458</td>\n",
       "      <td>0.0</td>\n",
       "      <td>27127.250</td>\n",
       "      <td>84134.500</td>\n",
       "      <td>160502.2500</td>\n",
       "      <td>1172995.00</td>\n",
       "    </tr>\n",
       "    <tr>\n",
       "      <th>FEMALE (RURAL)</th>\n",
       "      <td>528.0</td>\n",
       "      <td>120984.149621</td>\n",
       "      <td>133716.898296</td>\n",
       "      <td>0.0</td>\n",
       "      <td>23979.000</td>\n",
       "      <td>82044.000</td>\n",
       "      <td>152219.0000</td>\n",
       "      <td>1124167.00</td>\n",
       "    </tr>\n",
       "    <tr>\n",
       "      <th>TRANSGENDER (RURAL)</th>\n",
       "      <td>528.0</td>\n",
       "      <td>18.174242</td>\n",
       "      <td>25.522248</td>\n",
       "      <td>0.0</td>\n",
       "      <td>1.000</td>\n",
       "      <td>10.000</td>\n",
       "      <td>25.0000</td>\n",
       "      <td>213.00</td>\n",
       "    </tr>\n",
       "    <tr>\n",
       "      <th>SEX RATIO (RURAL)</th>\n",
       "      <td>528.0</td>\n",
       "      <td>98.982614</td>\n",
       "      <td>26.812660</td>\n",
       "      <td>0.0</td>\n",
       "      <td>101.105</td>\n",
       "      <td>105.285</td>\n",
       "      <td>108.3475</td>\n",
       "      <td>139.38</td>\n",
       "    </tr>\n",
       "    <tr>\n",
       "      <th>AVG HOUSEHOLD SIZE (RURAL)</th>\n",
       "      <td>528.0</td>\n",
       "      <td>6.277064</td>\n",
       "      <td>2.074947</td>\n",
       "      <td>0.0</td>\n",
       "      <td>5.700</td>\n",
       "      <td>6.310</td>\n",
       "      <td>7.2000</td>\n",
       "      <td>12.43</td>\n",
       "    </tr>\n",
       "    <tr>\n",
       "      <th>POPULATION 1998 (RURAL)</th>\n",
       "      <td>528.0</td>\n",
       "      <td>167427.994318</td>\n",
       "      <td>178388.976993</td>\n",
       "      <td>0.0</td>\n",
       "      <td>35273.500</td>\n",
       "      <td>117206.500</td>\n",
       "      <td>213054.2500</td>\n",
       "      <td>1044035.00</td>\n",
       "    </tr>\n",
       "    <tr>\n",
       "      <th>ANNUAL GROWTH RATE (RURAL)</th>\n",
       "      <td>528.0</td>\n",
       "      <td>3.124792</td>\n",
       "      <td>9.577872</td>\n",
       "      <td>0.0</td>\n",
       "      <td>1.440</td>\n",
       "      <td>2.030</td>\n",
       "      <td>2.8125</td>\n",
       "      <td>100.00</td>\n",
       "    </tr>\n",
       "    <tr>\n",
       "      <th>ALL SEXES (URBAN)</th>\n",
       "      <td>528.0</td>\n",
       "      <td>140863.528409</td>\n",
       "      <td>351246.279136</td>\n",
       "      <td>0.0</td>\n",
       "      <td>0.000</td>\n",
       "      <td>43254.500</td>\n",
       "      <td>117814.7500</td>\n",
       "      <td>3653616.00</td>\n",
       "    </tr>\n",
       "    <tr>\n",
       "      <th>MALE (URBAN)</th>\n",
       "      <td>528.0</td>\n",
       "      <td>72843.386364</td>\n",
       "      <td>182349.241379</td>\n",
       "      <td>0.0</td>\n",
       "      <td>0.000</td>\n",
       "      <td>21980.000</td>\n",
       "      <td>60301.7500</td>\n",
       "      <td>1905921.00</td>\n",
       "    </tr>\n",
       "    <tr>\n",
       "      <th>FEMALE (URBAN)</th>\n",
       "      <td>528.0</td>\n",
       "      <td>67997.865530</td>\n",
       "      <td>168872.528212</td>\n",
       "      <td>0.0</td>\n",
       "      <td>0.000</td>\n",
       "      <td>20999.000</td>\n",
       "      <td>57465.2500</td>\n",
       "      <td>1746900.00</td>\n",
       "    </tr>\n",
       "    <tr>\n",
       "      <th>TRANSGENDER (URBAN)</th>\n",
       "      <td>528.0</td>\n",
       "      <td>22.276515</td>\n",
       "      <td>66.068127</td>\n",
       "      <td>0.0</td>\n",
       "      <td>0.000</td>\n",
       "      <td>3.000</td>\n",
       "      <td>19.0000</td>\n",
       "      <td>795.00</td>\n",
       "    </tr>\n",
       "    <tr>\n",
       "      <th>SEX RATIO (URBAN)</th>\n",
       "      <td>528.0</td>\n",
       "      <td>75.411269</td>\n",
       "      <td>49.687341</td>\n",
       "      <td>0.0</td>\n",
       "      <td>0.000</td>\n",
       "      <td>103.195</td>\n",
       "      <td>107.0400</td>\n",
       "      <td>297.81</td>\n",
       "    </tr>\n",
       "    <tr>\n",
       "      <th>AVG HOUSEHOLD SIZE (URBAN)</th>\n",
       "      <td>528.0</td>\n",
       "      <td>4.406402</td>\n",
       "      <td>2.948336</td>\n",
       "      <td>0.0</td>\n",
       "      <td>0.000</td>\n",
       "      <td>5.755</td>\n",
       "      <td>6.3400</td>\n",
       "      <td>10.06</td>\n",
       "    </tr>\n",
       "    <tr>\n",
       "      <th>POPULATION 1998 (URBAN)</th>\n",
       "      <td>528.0</td>\n",
       "      <td>80144.566288</td>\n",
       "      <td>202312.019227</td>\n",
       "      <td>0.0</td>\n",
       "      <td>0.000</td>\n",
       "      <td>21298.000</td>\n",
       "      <td>65422.2500</td>\n",
       "      <td>2075867.00</td>\n",
       "    </tr>\n",
       "    <tr>\n",
       "      <th>ANNUAL GROWTH RATE (URBAN)</th>\n",
       "      <td>528.0</td>\n",
       "      <td>1.920814</td>\n",
       "      <td>2.098908</td>\n",
       "      <td>0.0</td>\n",
       "      <td>0.000</td>\n",
       "      <td>1.855</td>\n",
       "      <td>2.9850</td>\n",
       "      <td>19.78</td>\n",
       "    </tr>\n",
       "  </tbody>\n",
       "</table>\n",
       "</div>"
      ],
      "text/plain": [
       "                            count           mean            std  min  \\\n",
       "AREA (sq.km)                528.0    1492.005871    2039.453778  0.0   \n",
       "ALL SEXES (RURAL)           528.0  246278.011364  271189.816559  0.0   \n",
       "MALE (RURAL)                528.0  125275.687500  137563.021458  0.0   \n",
       "FEMALE (RURAL)              528.0  120984.149621  133716.898296  0.0   \n",
       "TRANSGENDER (RURAL)         528.0      18.174242      25.522248  0.0   \n",
       "SEX RATIO (RURAL)           528.0      98.982614      26.812660  0.0   \n",
       "AVG HOUSEHOLD SIZE (RURAL)  528.0       6.277064       2.074947  0.0   \n",
       "POPULATION 1998 (RURAL)     528.0  167427.994318  178388.976993  0.0   \n",
       "ANNUAL GROWTH RATE (RURAL)  528.0       3.124792       9.577872  0.0   \n",
       "ALL SEXES (URBAN)           528.0  140863.528409  351246.279136  0.0   \n",
       "MALE (URBAN)                528.0   72843.386364  182349.241379  0.0   \n",
       "FEMALE (URBAN)              528.0   67997.865530  168872.528212  0.0   \n",
       "TRANSGENDER (URBAN)         528.0      22.276515      66.068127  0.0   \n",
       "SEX RATIO (URBAN)           528.0      75.411269      49.687341  0.0   \n",
       "AVG HOUSEHOLD SIZE (URBAN)  528.0       4.406402       2.948336  0.0   \n",
       "POPULATION 1998 (URBAN)     528.0   80144.566288  202312.019227  0.0   \n",
       "ANNUAL GROWTH RATE (URBAN)  528.0       1.920814       2.098908  0.0   \n",
       "\n",
       "                                  25%         50%          75%         max  \n",
       "AREA (sq.km)                  425.000     882.000    1734.2500    18374.00  \n",
       "ALL SEXES (RURAL)           50934.500  165241.000  312911.2500  2297375.00  \n",
       "MALE (RURAL)                27127.250   84134.500  160502.2500  1172995.00  \n",
       "FEMALE (RURAL)              23979.000   82044.000  152219.0000  1124167.00  \n",
       "TRANSGENDER (RURAL)             1.000      10.000      25.0000      213.00  \n",
       "SEX RATIO (RURAL)             101.105     105.285     108.3475      139.38  \n",
       "AVG HOUSEHOLD SIZE (RURAL)      5.700       6.310       7.2000       12.43  \n",
       "POPULATION 1998 (RURAL)     35273.500  117206.500  213054.2500  1044035.00  \n",
       "ANNUAL GROWTH RATE (RURAL)      1.440       2.030       2.8125      100.00  \n",
       "ALL SEXES (URBAN)               0.000   43254.500  117814.7500  3653616.00  \n",
       "MALE (URBAN)                    0.000   21980.000   60301.7500  1905921.00  \n",
       "FEMALE (URBAN)                  0.000   20999.000   57465.2500  1746900.00  \n",
       "TRANSGENDER (URBAN)             0.000       3.000      19.0000      795.00  \n",
       "SEX RATIO (URBAN)               0.000     103.195     107.0400      297.81  \n",
       "AVG HOUSEHOLD SIZE (URBAN)      0.000       5.755       6.3400       10.06  \n",
       "POPULATION 1998 (URBAN)         0.000   21298.000   65422.2500  2075867.00  \n",
       "ANNUAL GROWTH RATE (URBAN)      0.000       1.855       2.9850       19.78  "
      ]
     },
     "execution_count": 257,
     "metadata": {},
     "output_type": "execute_result"
    }
   ],
   "source": [
    "df.describe().T"
   ]
  },
  {
   "cell_type": "code",
   "execution_count": 263,
   "id": "581319e7",
   "metadata": {},
   "outputs": [],
   "source": [
    "pop_17 = df['ALL SEXES (RURAL)'].sum() # total population in 2017"
   ]
  },
  {
   "cell_type": "code",
   "execution_count": null,
   "id": "43d7864d",
   "metadata": {},
   "outputs": [],
   "source": [
    "pop_98 = df['POPULATION 1998 (URBAN)'].sum() # total population in 1998"
   ]
  },
  {
   "cell_type": "code",
   "execution_count": 265,
   "id": "ff2022f6",
   "metadata": {},
   "outputs": [
    {
     "data": {
      "text/plain": [
       "np.int64(87718459)"
      ]
     },
     "execution_count": 265,
     "metadata": {},
     "output_type": "execute_result"
    }
   ],
   "source": [
    "pop_17 - pop_98"
   ]
  },
  {
   "cell_type": "code",
   "execution_count": 266,
   "id": "48f73d40",
   "metadata": {},
   "outputs": [
    {
     "data": {
      "text/plain": [
       "np.float64(32.54231502200296)"
      ]
     },
     "execution_count": 266,
     "metadata": {},
     "output_type": "execute_result"
    }
   ],
   "source": [
    "pop_98 / pop_17 * 100"
   ]
  },
  {
   "cell_type": "code",
   "execution_count": null,
   "id": "08ea2460",
   "metadata": {},
   "outputs": [],
   "source": []
  }
 ],
 "metadata": {
  "kernelspec": {
   "display_name": "python_eda",
   "language": "python",
   "name": "python3"
  },
  "language_info": {
   "codemirror_mode": {
    "name": "ipython",
    "version": 3
   },
   "file_extension": ".py",
   "mimetype": "text/x-python",
   "name": "python",
   "nbconvert_exporter": "python",
   "pygments_lexer": "ipython3",
   "version": "3.13.5"
  }
 },
 "nbformat": 4,
 "nbformat_minor": 5
}
