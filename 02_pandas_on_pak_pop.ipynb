{
 "cells": [
  {
   "cell_type": "markdown",
   "id": "e5c00b6b",
   "metadata": {},
   "source": [
    "# **Pakitan population analysis**"
   ]
  },
  {
   "cell_type": "markdown",
   "id": "2dd97d53",
   "metadata": {},
   "source": [
    "**Author Name**: Shah Ahmad Noorani\\\n",
    "**Gmail**: shah.ahmad.dev@gmail.com"
   ]
  },
  {
   "cell_type": "markdown",
   "id": "64fd1bdb",
   "metadata": {},
   "source": [
    "The Data was collected from the following [link](https://www.kaggle.com/datasets/mabdullahsajid/population-of-pakistan-dataset)\\\n",
    "**Years of Data**\n",
    "1. 2017\n",
    "2. 1998"
   ]
  },
  {
   "cell_type": "markdown",
   "id": "c4d7f76a",
   "metadata": {},
   "source": [
    "**Data Decription**"
   ]
  },
  {
   "cell_type": "markdown",
   "id": "956d005a",
   "metadata": {},
   "source": [
    "`Description`\n",
    "This dataset contains demographic information from the Pakistan Population Census conducted in 2017. It provides detailed population data at various administrative levels within Pakistan, including provinces, divisions, districts, and sub-divisions. The dataset also includes information on urban and rural populations, gender distribution, transgender individuals, sex ratios, population figures from the 1998 census, and annual growth rates.\n",
    "\n",
    "`Features`\n",
    "Province: The administrative provinces or regions of Pakistan where the census data was collected.\n",
    "\n",
    "`Division`: The divisions within each province. Divisions are the second level of administrative divisions in Pakistan.\n",
    "\n",
    "`District`: Districts within each division, representing larger administrative units.\n",
    "\n",
    "`Sub-Division`: Sub-divisions or tehsils within each district, providing more localized data.\n",
    "\n",
    "`Area`: The land area (in square kilometers) of each sub-division.\n",
    "\n",
    "`Urban Population 2017`: The population of urban areas within each sub-division for the year 2017.\n",
    "\n",
    "`Rural Population 2017`: The population of rural areas within each sub-division for the year 2017.\n",
    "\n",
    "`Male Population 2017`: The male population within each sub-division for the year 2017.\n",
    "\n",
    "`Female Population 2017`: The female population within each sub-division for the year 2017.\n",
    "\n",
    "`Transgender Population 2017`: The population of transgender individuals within each sub-division for the year 2017.\n",
    "\n",
    "`Sex Ratio 2017`: The sex ratio, calculated as the number of females per 1000 males, within each sub-division for the year 2017.\n",
    "\n",
    "`Population in 1998`: The total population of each sub-division as recorded in the 1998 census.\n",
    "\n",
    "`Annual Growth Rate`: The annual growth rate of the population in each sub-division, calculated as the percentage increase from 1998 to 2017.\n",
    "\n",
    "`Data Source`\n",
    "The data in this dataset was collected from official Pakistan Population Census reports and may include data from various government sources. It is essential to provide proper attribution and reference the original sources when using this dataset for analysis or research.\n",
    "\n",
    "`Data Usage`\n",
    "Researchers and analysts can use this dataset to explore demographic trends, population growth, urbanization rates, gender distribution, and more within Pakistan at different administrative levels. Ensure compliance with ethical and legal guidelines when using this data for research or public sharing.\n",
    "\n",
    "Please note that this description is a template, and you should adapt it based on the actual data sources and specific details of your dataset when creating it for Kaggle or any other platform."
   ]
  },
  {
   "cell_type": "code",
   "execution_count": 1,
   "id": "a6724d1a",
   "metadata": {},
   "outputs": [],
   "source": [
    "# import library\n",
    "import pandas as pd\n",
    "import numpy as np\n",
    "import matplotlib.pyplot as plt\n",
    "import seaborn as sns"
   ]
  },
  {
   "cell_type": "code",
   "execution_count": 2,
   "id": "b540e310",
   "metadata": {},
   "outputs": [],
   "source": [
    "# import dataset\n",
    "df = pd.read_csv(\"Data_files/pak_pop.csv\")"
   ]
  },
  {
   "cell_type": "markdown",
   "id": "be7d11cb",
   "metadata": {},
   "source": [
    "# 1- Compsotion"
   ]
  },
  {
   "cell_type": "code",
   "execution_count": 3,
   "id": "c4c0976b",
   "metadata": {},
   "outputs": [
    {
     "name": "stdout",
     "output_type": "stream",
     "text": [
      "<class 'pandas.core.frame.DataFrame'>\n",
      "RangeIndex: 528 entries, 0 to 527\n",
      "Data columns (total 21 columns):\n",
      " #   Column                      Non-Null Count  Dtype  \n",
      "---  ------                      --------------  -----  \n",
      " 0   PROVINCE                    528 non-null    object \n",
      " 1   DIVISION                    528 non-null    object \n",
      " 2   DISTRICT                    528 non-null    object \n",
      " 3   SUB DIVISION                528 non-null    object \n",
      " 4   AREA (sq.km)                528 non-null    float64\n",
      " 5   ALL SEXES (RURAL)           528 non-null    int64  \n",
      " 6   MALE (RURAL)                528 non-null    int64  \n",
      " 7   FEMALE (RURAL)              528 non-null    int64  \n",
      " 8   TRANSGENDER (RURAL)         528 non-null    int64  \n",
      " 9   SEX RATIO (RURAL)           528 non-null    float64\n",
      " 10  AVG HOUSEHOLD SIZE (RURAL)  528 non-null    float64\n",
      " 11  POPULATION 1998 (RURAL)     528 non-null    int64  \n",
      " 12  ANNUAL GROWTH RATE (RURAL)  528 non-null    float64\n",
      " 13  ALL SEXES (URBAN)           528 non-null    int64  \n",
      " 14  MALE (URBAN)                528 non-null    int64  \n",
      " 15  FEMALE (URBAN)              528 non-null    int64  \n",
      " 16  TRANSGENDER (URBAN)         528 non-null    int64  \n",
      " 17  SEX RATIO (URBAN)           528 non-null    float64\n",
      " 18  AVG HOUSEHOLD SIZE (URBAN)  528 non-null    float64\n",
      " 19  POPULATION 1998 (URBAN)     528 non-null    int64  \n",
      " 20  ANNUAL GROWTH RATE (URBAN)  528 non-null    float64\n",
      "dtypes: float64(7), int64(10), object(4)\n",
      "memory usage: 86.8+ KB\n"
     ]
    }
   ],
   "source": [
    "# Explore the data (compsotion)\n",
    "df.info()"
   ]
  },
  {
   "cell_type": "code",
   "execution_count": 4,
   "id": "dd812234",
   "metadata": {},
   "outputs": [
    {
     "data": {
      "application/vnd.microsoft.datawrangler.viewer.v0+json": {
       "columns": [
        {
         "name": "index",
         "rawType": "int64",
         "type": "integer"
        },
        {
         "name": "PROVINCE",
         "rawType": "object",
         "type": "string"
        },
        {
         "name": "DIVISION",
         "rawType": "object",
         "type": "string"
        },
        {
         "name": "DISTRICT",
         "rawType": "object",
         "type": "string"
        },
        {
         "name": "SUB DIVISION",
         "rawType": "object",
         "type": "string"
        },
        {
         "name": "AREA (sq.km)",
         "rawType": "float64",
         "type": "float"
        },
        {
         "name": "ALL SEXES (RURAL)",
         "rawType": "int64",
         "type": "integer"
        },
        {
         "name": "MALE (RURAL)",
         "rawType": "int64",
         "type": "integer"
        },
        {
         "name": "FEMALE (RURAL)",
         "rawType": "int64",
         "type": "integer"
        },
        {
         "name": "TRANSGENDER (RURAL)",
         "rawType": "int64",
         "type": "integer"
        },
        {
         "name": "SEX RATIO (RURAL)",
         "rawType": "float64",
         "type": "float"
        },
        {
         "name": "AVG HOUSEHOLD SIZE (RURAL)",
         "rawType": "float64",
         "type": "float"
        },
        {
         "name": "POPULATION 1998 (RURAL)",
         "rawType": "int64",
         "type": "integer"
        },
        {
         "name": "ANNUAL GROWTH RATE (RURAL)",
         "rawType": "float64",
         "type": "float"
        },
        {
         "name": "ALL SEXES (URBAN)",
         "rawType": "int64",
         "type": "integer"
        },
        {
         "name": "MALE (URBAN)",
         "rawType": "int64",
         "type": "integer"
        },
        {
         "name": "FEMALE (URBAN)",
         "rawType": "int64",
         "type": "integer"
        },
        {
         "name": "TRANSGENDER (URBAN)",
         "rawType": "int64",
         "type": "integer"
        },
        {
         "name": "SEX RATIO (URBAN)",
         "rawType": "float64",
         "type": "float"
        },
        {
         "name": "AVG HOUSEHOLD SIZE (URBAN)",
         "rawType": "float64",
         "type": "float"
        },
        {
         "name": "POPULATION 1998 (URBAN)",
         "rawType": "int64",
         "type": "integer"
        },
        {
         "name": "ANNUAL GROWTH RATE (URBAN)",
         "rawType": "float64",
         "type": "float"
        }
       ],
       "ref": "d7660c28-7837-4d31-bd2b-187ac16a856e",
       "rows": [
        [
         "0",
         "PUNJAB",
         "BAHAWALPUR DIVISION",
         "BAHAWALNAGAR DISTRICT",
         "BAHAWALNAGAR TEHSIL",
         "1729.0",
         "619550",
         "316864",
         "302644",
         "42",
         "104.7",
         "6.1",
         "407768",
         "2.22",
         "193840",
         "98391",
         "95402",
         "47",
         "103.13",
         "6.02",
         "133785",
         "1.97"
        ],
        [
         "1",
         "PUNJAB",
         "BAHAWALPUR DIVISION",
         "BAHAWALNAGAR DISTRICT",
         "CHISHTIAN TEHSIL",
         "1500.0",
         "540342",
         "273788",
         "266500",
         "54",
         "102.73",
         "6.15",
         "395983",
         "1.65",
         "149424",
         "75546",
         "73851",
         "27",
         "102.3",
         "6.01",
         "102287",
         "2.01"
        ],
        [
         "2",
         "PUNJAB",
         "BAHAWALPUR DIVISION",
         "BAHAWALNAGAR DISTRICT",
         "FORT ABBAS TEHSIL",
         "2536.0",
         "361240",
         "182655",
         "178541",
         "44",
         "102.3",
         "6.32",
         "250959",
         "1.93",
         "61528",
         "31360",
         "30150",
         "18",
         "104.01",
         "6.0",
         "34637",
         "3.06"
        ],
        [
         "3",
         "PUNJAB",
         "BAHAWALPUR DIVISION",
         "BAHAWALNAGAR DISTRICT",
         "HAROONABAD TEHSIL",
         "1295.0",
         "382115",
         "192278",
         "189808",
         "29",
         "101.3",
         "6.15",
         "297343",
         "1.33",
         "142600",
         "71345",
         "71236",
         "19",
         "100.15",
         "6.02",
         "84424",
         "2.79"
        ],
        [
         "4",
         "PUNJAB",
         "BAHAWALPUR DIVISION",
         "BAHAWALNAGAR DISTRICT",
         "MINCHINABAD TEHSIL",
         "1818.0",
         "452723",
         "231506",
         "221178",
         "39",
         "104.67",
         "6.29",
         "316593",
         "1.9",
         "72294",
         "36694",
         "35590",
         "10",
         "103.1",
         "6.34",
         "37668",
         "3.48"
        ]
       ],
       "shape": {
        "columns": 21,
        "rows": 5
       }
      },
      "text/html": [
       "<div>\n",
       "<style scoped>\n",
       "    .dataframe tbody tr th:only-of-type {\n",
       "        vertical-align: middle;\n",
       "    }\n",
       "\n",
       "    .dataframe tbody tr th {\n",
       "        vertical-align: top;\n",
       "    }\n",
       "\n",
       "    .dataframe thead th {\n",
       "        text-align: right;\n",
       "    }\n",
       "</style>\n",
       "<table border=\"1\" class=\"dataframe\">\n",
       "  <thead>\n",
       "    <tr style=\"text-align: right;\">\n",
       "      <th></th>\n",
       "      <th>PROVINCE</th>\n",
       "      <th>DIVISION</th>\n",
       "      <th>DISTRICT</th>\n",
       "      <th>SUB DIVISION</th>\n",
       "      <th>AREA (sq.km)</th>\n",
       "      <th>ALL SEXES (RURAL)</th>\n",
       "      <th>MALE (RURAL)</th>\n",
       "      <th>FEMALE (RURAL)</th>\n",
       "      <th>TRANSGENDER (RURAL)</th>\n",
       "      <th>SEX RATIO (RURAL)</th>\n",
       "      <th>...</th>\n",
       "      <th>POPULATION 1998 (RURAL)</th>\n",
       "      <th>ANNUAL GROWTH RATE (RURAL)</th>\n",
       "      <th>ALL SEXES (URBAN)</th>\n",
       "      <th>MALE (URBAN)</th>\n",
       "      <th>FEMALE (URBAN)</th>\n",
       "      <th>TRANSGENDER (URBAN)</th>\n",
       "      <th>SEX RATIO (URBAN)</th>\n",
       "      <th>AVG HOUSEHOLD SIZE (URBAN)</th>\n",
       "      <th>POPULATION 1998 (URBAN)</th>\n",
       "      <th>ANNUAL GROWTH RATE (URBAN)</th>\n",
       "    </tr>\n",
       "  </thead>\n",
       "  <tbody>\n",
       "    <tr>\n",
       "      <th>0</th>\n",
       "      <td>PUNJAB</td>\n",
       "      <td>BAHAWALPUR DIVISION</td>\n",
       "      <td>BAHAWALNAGAR DISTRICT</td>\n",
       "      <td>BAHAWALNAGAR TEHSIL</td>\n",
       "      <td>1729.0</td>\n",
       "      <td>619550</td>\n",
       "      <td>316864</td>\n",
       "      <td>302644</td>\n",
       "      <td>42</td>\n",
       "      <td>104.70</td>\n",
       "      <td>...</td>\n",
       "      <td>407768</td>\n",
       "      <td>2.22</td>\n",
       "      <td>193840</td>\n",
       "      <td>98391</td>\n",
       "      <td>95402</td>\n",
       "      <td>47</td>\n",
       "      <td>103.13</td>\n",
       "      <td>6.02</td>\n",
       "      <td>133785</td>\n",
       "      <td>1.97</td>\n",
       "    </tr>\n",
       "    <tr>\n",
       "      <th>1</th>\n",
       "      <td>PUNJAB</td>\n",
       "      <td>BAHAWALPUR DIVISION</td>\n",
       "      <td>BAHAWALNAGAR DISTRICT</td>\n",
       "      <td>CHISHTIAN TEHSIL</td>\n",
       "      <td>1500.0</td>\n",
       "      <td>540342</td>\n",
       "      <td>273788</td>\n",
       "      <td>266500</td>\n",
       "      <td>54</td>\n",
       "      <td>102.73</td>\n",
       "      <td>...</td>\n",
       "      <td>395983</td>\n",
       "      <td>1.65</td>\n",
       "      <td>149424</td>\n",
       "      <td>75546</td>\n",
       "      <td>73851</td>\n",
       "      <td>27</td>\n",
       "      <td>102.30</td>\n",
       "      <td>6.01</td>\n",
       "      <td>102287</td>\n",
       "      <td>2.01</td>\n",
       "    </tr>\n",
       "    <tr>\n",
       "      <th>2</th>\n",
       "      <td>PUNJAB</td>\n",
       "      <td>BAHAWALPUR DIVISION</td>\n",
       "      <td>BAHAWALNAGAR DISTRICT</td>\n",
       "      <td>FORT ABBAS TEHSIL</td>\n",
       "      <td>2536.0</td>\n",
       "      <td>361240</td>\n",
       "      <td>182655</td>\n",
       "      <td>178541</td>\n",
       "      <td>44</td>\n",
       "      <td>102.30</td>\n",
       "      <td>...</td>\n",
       "      <td>250959</td>\n",
       "      <td>1.93</td>\n",
       "      <td>61528</td>\n",
       "      <td>31360</td>\n",
       "      <td>30150</td>\n",
       "      <td>18</td>\n",
       "      <td>104.01</td>\n",
       "      <td>6.00</td>\n",
       "      <td>34637</td>\n",
       "      <td>3.06</td>\n",
       "    </tr>\n",
       "    <tr>\n",
       "      <th>3</th>\n",
       "      <td>PUNJAB</td>\n",
       "      <td>BAHAWALPUR DIVISION</td>\n",
       "      <td>BAHAWALNAGAR DISTRICT</td>\n",
       "      <td>HAROONABAD TEHSIL</td>\n",
       "      <td>1295.0</td>\n",
       "      <td>382115</td>\n",
       "      <td>192278</td>\n",
       "      <td>189808</td>\n",
       "      <td>29</td>\n",
       "      <td>101.30</td>\n",
       "      <td>...</td>\n",
       "      <td>297343</td>\n",
       "      <td>1.33</td>\n",
       "      <td>142600</td>\n",
       "      <td>71345</td>\n",
       "      <td>71236</td>\n",
       "      <td>19</td>\n",
       "      <td>100.15</td>\n",
       "      <td>6.02</td>\n",
       "      <td>84424</td>\n",
       "      <td>2.79</td>\n",
       "    </tr>\n",
       "    <tr>\n",
       "      <th>4</th>\n",
       "      <td>PUNJAB</td>\n",
       "      <td>BAHAWALPUR DIVISION</td>\n",
       "      <td>BAHAWALNAGAR DISTRICT</td>\n",
       "      <td>MINCHINABAD TEHSIL</td>\n",
       "      <td>1818.0</td>\n",
       "      <td>452723</td>\n",
       "      <td>231506</td>\n",
       "      <td>221178</td>\n",
       "      <td>39</td>\n",
       "      <td>104.67</td>\n",
       "      <td>...</td>\n",
       "      <td>316593</td>\n",
       "      <td>1.90</td>\n",
       "      <td>72294</td>\n",
       "      <td>36694</td>\n",
       "      <td>35590</td>\n",
       "      <td>10</td>\n",
       "      <td>103.10</td>\n",
       "      <td>6.34</td>\n",
       "      <td>37668</td>\n",
       "      <td>3.48</td>\n",
       "    </tr>\n",
       "  </tbody>\n",
       "</table>\n",
       "<p>5 rows × 21 columns</p>\n",
       "</div>"
      ],
      "text/plain": [
       "  PROVINCE             DIVISION               DISTRICT         SUB DIVISION  \\\n",
       "0   PUNJAB  BAHAWALPUR DIVISION  BAHAWALNAGAR DISTRICT  BAHAWALNAGAR TEHSIL   \n",
       "1   PUNJAB  BAHAWALPUR DIVISION  BAHAWALNAGAR DISTRICT     CHISHTIAN TEHSIL   \n",
       "2   PUNJAB  BAHAWALPUR DIVISION  BAHAWALNAGAR DISTRICT    FORT ABBAS TEHSIL   \n",
       "3   PUNJAB  BAHAWALPUR DIVISION  BAHAWALNAGAR DISTRICT    HAROONABAD TEHSIL   \n",
       "4   PUNJAB  BAHAWALPUR DIVISION  BAHAWALNAGAR DISTRICT   MINCHINABAD TEHSIL   \n",
       "\n",
       "   AREA (sq.km)  ALL SEXES (RURAL)  MALE (RURAL)  FEMALE (RURAL)  \\\n",
       "0        1729.0             619550        316864          302644   \n",
       "1        1500.0             540342        273788          266500   \n",
       "2        2536.0             361240        182655          178541   \n",
       "3        1295.0             382115        192278          189808   \n",
       "4        1818.0             452723        231506          221178   \n",
       "\n",
       "   TRANSGENDER (RURAL)  SEX RATIO (RURAL)  ...  POPULATION 1998 (RURAL)  \\\n",
       "0                   42             104.70  ...                   407768   \n",
       "1                   54             102.73  ...                   395983   \n",
       "2                   44             102.30  ...                   250959   \n",
       "3                   29             101.30  ...                   297343   \n",
       "4                   39             104.67  ...                   316593   \n",
       "\n",
       "   ANNUAL GROWTH RATE (RURAL)  ALL SEXES (URBAN)  MALE (URBAN)  \\\n",
       "0                        2.22             193840         98391   \n",
       "1                        1.65             149424         75546   \n",
       "2                        1.93              61528         31360   \n",
       "3                        1.33             142600         71345   \n",
       "4                        1.90              72294         36694   \n",
       "\n",
       "   FEMALE (URBAN)  TRANSGENDER (URBAN)  SEX RATIO (URBAN)  \\\n",
       "0           95402                   47             103.13   \n",
       "1           73851                   27             102.30   \n",
       "2           30150                   18             104.01   \n",
       "3           71236                   19             100.15   \n",
       "4           35590                   10             103.10   \n",
       "\n",
       "   AVG HOUSEHOLD SIZE (URBAN)  POPULATION 1998 (URBAN)  \\\n",
       "0                        6.02                   133785   \n",
       "1                        6.01                   102287   \n",
       "2                        6.00                    34637   \n",
       "3                        6.02                    84424   \n",
       "4                        6.34                    37668   \n",
       "\n",
       "   ANNUAL GROWTH RATE (URBAN)  \n",
       "0                        1.97  \n",
       "1                        2.01  \n",
       "2                        3.06  \n",
       "3                        2.79  \n",
       "4                        3.48  \n",
       "\n",
       "[5 rows x 21 columns]"
      ]
     },
     "execution_count": 4,
     "metadata": {},
     "output_type": "execute_result"
    }
   ],
   "source": [
    "df.head()"
   ]
  },
  {
   "cell_type": "code",
   "execution_count": 5,
   "id": "1a20e254",
   "metadata": {},
   "outputs": [],
   "source": [
    "# max columns printing option\n",
    "pd.set_option('display.max_rows', None)\n",
    "pd.set_option('display.max_columns', None)\n"
   ]
  },
  {
   "cell_type": "code",
   "execution_count": 6,
   "id": "222ede70",
   "metadata": {},
   "outputs": [
    {
     "data": {
      "application/vnd.microsoft.datawrangler.viewer.v0+json": {
       "columns": [
        {
         "name": "index",
         "rawType": "int64",
         "type": "integer"
        },
        {
         "name": "PROVINCE",
         "rawType": "object",
         "type": "string"
        },
        {
         "name": "DIVISION",
         "rawType": "object",
         "type": "string"
        },
        {
         "name": "DISTRICT",
         "rawType": "object",
         "type": "string"
        },
        {
         "name": "SUB DIVISION",
         "rawType": "object",
         "type": "string"
        },
        {
         "name": "AREA (sq.km)",
         "rawType": "float64",
         "type": "float"
        },
        {
         "name": "ALL SEXES (RURAL)",
         "rawType": "int64",
         "type": "integer"
        },
        {
         "name": "MALE (RURAL)",
         "rawType": "int64",
         "type": "integer"
        },
        {
         "name": "FEMALE (RURAL)",
         "rawType": "int64",
         "type": "integer"
        },
        {
         "name": "TRANSGENDER (RURAL)",
         "rawType": "int64",
         "type": "integer"
        },
        {
         "name": "SEX RATIO (RURAL)",
         "rawType": "float64",
         "type": "float"
        },
        {
         "name": "AVG HOUSEHOLD SIZE (RURAL)",
         "rawType": "float64",
         "type": "float"
        },
        {
         "name": "POPULATION 1998 (RURAL)",
         "rawType": "int64",
         "type": "integer"
        },
        {
         "name": "ANNUAL GROWTH RATE (RURAL)",
         "rawType": "float64",
         "type": "float"
        },
        {
         "name": "ALL SEXES (URBAN)",
         "rawType": "int64",
         "type": "integer"
        },
        {
         "name": "MALE (URBAN)",
         "rawType": "int64",
         "type": "integer"
        },
        {
         "name": "FEMALE (URBAN)",
         "rawType": "int64",
         "type": "integer"
        },
        {
         "name": "TRANSGENDER (URBAN)",
         "rawType": "int64",
         "type": "integer"
        },
        {
         "name": "SEX RATIO (URBAN)",
         "rawType": "float64",
         "type": "float"
        },
        {
         "name": "AVG HOUSEHOLD SIZE (URBAN)",
         "rawType": "float64",
         "type": "float"
        },
        {
         "name": "POPULATION 1998 (URBAN)",
         "rawType": "int64",
         "type": "integer"
        },
        {
         "name": "ANNUAL GROWTH RATE (URBAN)",
         "rawType": "float64",
         "type": "float"
        }
       ],
       "ref": "0b6e161d-f050-48bd-95f5-ee18f4babf64",
       "rows": [
        [
         "0",
         "PUNJAB",
         "BAHAWALPUR DIVISION",
         "BAHAWALNAGAR DISTRICT",
         "BAHAWALNAGAR TEHSIL",
         "1729.0",
         "619550",
         "316864",
         "302644",
         "42",
         "104.7",
         "6.1",
         "407768",
         "2.22",
         "193840",
         "98391",
         "95402",
         "47",
         "103.13",
         "6.02",
         "133785",
         "1.97"
        ],
        [
         "1",
         "PUNJAB",
         "BAHAWALPUR DIVISION",
         "BAHAWALNAGAR DISTRICT",
         "CHISHTIAN TEHSIL",
         "1500.0",
         "540342",
         "273788",
         "266500",
         "54",
         "102.73",
         "6.15",
         "395983",
         "1.65",
         "149424",
         "75546",
         "73851",
         "27",
         "102.3",
         "6.01",
         "102287",
         "2.01"
        ],
        [
         "2",
         "PUNJAB",
         "BAHAWALPUR DIVISION",
         "BAHAWALNAGAR DISTRICT",
         "FORT ABBAS TEHSIL",
         "2536.0",
         "361240",
         "182655",
         "178541",
         "44",
         "102.3",
         "6.32",
         "250959",
         "1.93",
         "61528",
         "31360",
         "30150",
         "18",
         "104.01",
         "6.0",
         "34637",
         "3.06"
        ],
        [
         "3",
         "PUNJAB",
         "BAHAWALPUR DIVISION",
         "BAHAWALNAGAR DISTRICT",
         "HAROONABAD TEHSIL",
         "1295.0",
         "382115",
         "192278",
         "189808",
         "29",
         "101.3",
         "6.15",
         "297343",
         "1.33",
         "142600",
         "71345",
         "71236",
         "19",
         "100.15",
         "6.02",
         "84424",
         "2.79"
        ],
        [
         "4",
         "PUNJAB",
         "BAHAWALPUR DIVISION",
         "BAHAWALNAGAR DISTRICT",
         "MINCHINABAD TEHSIL",
         "1818.0",
         "452723",
         "231506",
         "221178",
         "39",
         "104.67",
         "6.29",
         "316593",
         "1.9",
         "72294",
         "36694",
         "35590",
         "10",
         "103.1",
         "6.34",
         "37668",
         "3.48"
        ]
       ],
       "shape": {
        "columns": 21,
        "rows": 5
       }
      },
      "text/html": [
       "<div>\n",
       "<style scoped>\n",
       "    .dataframe tbody tr th:only-of-type {\n",
       "        vertical-align: middle;\n",
       "    }\n",
       "\n",
       "    .dataframe tbody tr th {\n",
       "        vertical-align: top;\n",
       "    }\n",
       "\n",
       "    .dataframe thead th {\n",
       "        text-align: right;\n",
       "    }\n",
       "</style>\n",
       "<table border=\"1\" class=\"dataframe\">\n",
       "  <thead>\n",
       "    <tr style=\"text-align: right;\">\n",
       "      <th></th>\n",
       "      <th>PROVINCE</th>\n",
       "      <th>DIVISION</th>\n",
       "      <th>DISTRICT</th>\n",
       "      <th>SUB DIVISION</th>\n",
       "      <th>AREA (sq.km)</th>\n",
       "      <th>ALL SEXES (RURAL)</th>\n",
       "      <th>MALE (RURAL)</th>\n",
       "      <th>FEMALE (RURAL)</th>\n",
       "      <th>TRANSGENDER (RURAL)</th>\n",
       "      <th>SEX RATIO (RURAL)</th>\n",
       "      <th>AVG HOUSEHOLD SIZE (RURAL)</th>\n",
       "      <th>POPULATION 1998 (RURAL)</th>\n",
       "      <th>ANNUAL GROWTH RATE (RURAL)</th>\n",
       "      <th>ALL SEXES (URBAN)</th>\n",
       "      <th>MALE (URBAN)</th>\n",
       "      <th>FEMALE (URBAN)</th>\n",
       "      <th>TRANSGENDER (URBAN)</th>\n",
       "      <th>SEX RATIO (URBAN)</th>\n",
       "      <th>AVG HOUSEHOLD SIZE (URBAN)</th>\n",
       "      <th>POPULATION 1998 (URBAN)</th>\n",
       "      <th>ANNUAL GROWTH RATE (URBAN)</th>\n",
       "    </tr>\n",
       "  </thead>\n",
       "  <tbody>\n",
       "    <tr>\n",
       "      <th>0</th>\n",
       "      <td>PUNJAB</td>\n",
       "      <td>BAHAWALPUR DIVISION</td>\n",
       "      <td>BAHAWALNAGAR DISTRICT</td>\n",
       "      <td>BAHAWALNAGAR TEHSIL</td>\n",
       "      <td>1729.0</td>\n",
       "      <td>619550</td>\n",
       "      <td>316864</td>\n",
       "      <td>302644</td>\n",
       "      <td>42</td>\n",
       "      <td>104.70</td>\n",
       "      <td>6.10</td>\n",
       "      <td>407768</td>\n",
       "      <td>2.22</td>\n",
       "      <td>193840</td>\n",
       "      <td>98391</td>\n",
       "      <td>95402</td>\n",
       "      <td>47</td>\n",
       "      <td>103.13</td>\n",
       "      <td>6.02</td>\n",
       "      <td>133785</td>\n",
       "      <td>1.97</td>\n",
       "    </tr>\n",
       "    <tr>\n",
       "      <th>1</th>\n",
       "      <td>PUNJAB</td>\n",
       "      <td>BAHAWALPUR DIVISION</td>\n",
       "      <td>BAHAWALNAGAR DISTRICT</td>\n",
       "      <td>CHISHTIAN TEHSIL</td>\n",
       "      <td>1500.0</td>\n",
       "      <td>540342</td>\n",
       "      <td>273788</td>\n",
       "      <td>266500</td>\n",
       "      <td>54</td>\n",
       "      <td>102.73</td>\n",
       "      <td>6.15</td>\n",
       "      <td>395983</td>\n",
       "      <td>1.65</td>\n",
       "      <td>149424</td>\n",
       "      <td>75546</td>\n",
       "      <td>73851</td>\n",
       "      <td>27</td>\n",
       "      <td>102.30</td>\n",
       "      <td>6.01</td>\n",
       "      <td>102287</td>\n",
       "      <td>2.01</td>\n",
       "    </tr>\n",
       "    <tr>\n",
       "      <th>2</th>\n",
       "      <td>PUNJAB</td>\n",
       "      <td>BAHAWALPUR DIVISION</td>\n",
       "      <td>BAHAWALNAGAR DISTRICT</td>\n",
       "      <td>FORT ABBAS TEHSIL</td>\n",
       "      <td>2536.0</td>\n",
       "      <td>361240</td>\n",
       "      <td>182655</td>\n",
       "      <td>178541</td>\n",
       "      <td>44</td>\n",
       "      <td>102.30</td>\n",
       "      <td>6.32</td>\n",
       "      <td>250959</td>\n",
       "      <td>1.93</td>\n",
       "      <td>61528</td>\n",
       "      <td>31360</td>\n",
       "      <td>30150</td>\n",
       "      <td>18</td>\n",
       "      <td>104.01</td>\n",
       "      <td>6.00</td>\n",
       "      <td>34637</td>\n",
       "      <td>3.06</td>\n",
       "    </tr>\n",
       "    <tr>\n",
       "      <th>3</th>\n",
       "      <td>PUNJAB</td>\n",
       "      <td>BAHAWALPUR DIVISION</td>\n",
       "      <td>BAHAWALNAGAR DISTRICT</td>\n",
       "      <td>HAROONABAD TEHSIL</td>\n",
       "      <td>1295.0</td>\n",
       "      <td>382115</td>\n",
       "      <td>192278</td>\n",
       "      <td>189808</td>\n",
       "      <td>29</td>\n",
       "      <td>101.30</td>\n",
       "      <td>6.15</td>\n",
       "      <td>297343</td>\n",
       "      <td>1.33</td>\n",
       "      <td>142600</td>\n",
       "      <td>71345</td>\n",
       "      <td>71236</td>\n",
       "      <td>19</td>\n",
       "      <td>100.15</td>\n",
       "      <td>6.02</td>\n",
       "      <td>84424</td>\n",
       "      <td>2.79</td>\n",
       "    </tr>\n",
       "    <tr>\n",
       "      <th>4</th>\n",
       "      <td>PUNJAB</td>\n",
       "      <td>BAHAWALPUR DIVISION</td>\n",
       "      <td>BAHAWALNAGAR DISTRICT</td>\n",
       "      <td>MINCHINABAD TEHSIL</td>\n",
       "      <td>1818.0</td>\n",
       "      <td>452723</td>\n",
       "      <td>231506</td>\n",
       "      <td>221178</td>\n",
       "      <td>39</td>\n",
       "      <td>104.67</td>\n",
       "      <td>6.29</td>\n",
       "      <td>316593</td>\n",
       "      <td>1.90</td>\n",
       "      <td>72294</td>\n",
       "      <td>36694</td>\n",
       "      <td>35590</td>\n",
       "      <td>10</td>\n",
       "      <td>103.10</td>\n",
       "      <td>6.34</td>\n",
       "      <td>37668</td>\n",
       "      <td>3.48</td>\n",
       "    </tr>\n",
       "  </tbody>\n",
       "</table>\n",
       "</div>"
      ],
      "text/plain": [
       "  PROVINCE             DIVISION               DISTRICT         SUB DIVISION  \\\n",
       "0   PUNJAB  BAHAWALPUR DIVISION  BAHAWALNAGAR DISTRICT  BAHAWALNAGAR TEHSIL   \n",
       "1   PUNJAB  BAHAWALPUR DIVISION  BAHAWALNAGAR DISTRICT     CHISHTIAN TEHSIL   \n",
       "2   PUNJAB  BAHAWALPUR DIVISION  BAHAWALNAGAR DISTRICT    FORT ABBAS TEHSIL   \n",
       "3   PUNJAB  BAHAWALPUR DIVISION  BAHAWALNAGAR DISTRICT    HAROONABAD TEHSIL   \n",
       "4   PUNJAB  BAHAWALPUR DIVISION  BAHAWALNAGAR DISTRICT   MINCHINABAD TEHSIL   \n",
       "\n",
       "   AREA (sq.km)  ALL SEXES (RURAL)  MALE (RURAL)  FEMALE (RURAL)  \\\n",
       "0        1729.0             619550        316864          302644   \n",
       "1        1500.0             540342        273788          266500   \n",
       "2        2536.0             361240        182655          178541   \n",
       "3        1295.0             382115        192278          189808   \n",
       "4        1818.0             452723        231506          221178   \n",
       "\n",
       "   TRANSGENDER (RURAL)  SEX RATIO (RURAL)  AVG HOUSEHOLD SIZE (RURAL)  \\\n",
       "0                   42             104.70                        6.10   \n",
       "1                   54             102.73                        6.15   \n",
       "2                   44             102.30                        6.32   \n",
       "3                   29             101.30                        6.15   \n",
       "4                   39             104.67                        6.29   \n",
       "\n",
       "   POPULATION 1998 (RURAL)  ANNUAL GROWTH RATE (RURAL)  ALL SEXES (URBAN)  \\\n",
       "0                   407768                        2.22             193840   \n",
       "1                   395983                        1.65             149424   \n",
       "2                   250959                        1.93              61528   \n",
       "3                   297343                        1.33             142600   \n",
       "4                   316593                        1.90              72294   \n",
       "\n",
       "   MALE (URBAN)  FEMALE (URBAN)  TRANSGENDER (URBAN)  SEX RATIO (URBAN)  \\\n",
       "0         98391           95402                   47             103.13   \n",
       "1         75546           73851                   27             102.30   \n",
       "2         31360           30150                   18             104.01   \n",
       "3         71345           71236                   19             100.15   \n",
       "4         36694           35590                   10             103.10   \n",
       "\n",
       "   AVG HOUSEHOLD SIZE (URBAN)  POPULATION 1998 (URBAN)  \\\n",
       "0                        6.02                   133785   \n",
       "1                        6.01                   102287   \n",
       "2                        6.00                    34637   \n",
       "3                        6.02                    84424   \n",
       "4                        6.34                    37668   \n",
       "\n",
       "   ANNUAL GROWTH RATE (URBAN)  \n",
       "0                        1.97  \n",
       "1                        2.01  \n",
       "2                        3.06  \n",
       "3                        2.79  \n",
       "4                        3.48  "
      ]
     },
     "execution_count": 6,
     "metadata": {},
     "output_type": "execute_result"
    }
   ],
   "source": [
    "df.head()"
   ]
  },
  {
   "cell_type": "code",
   "execution_count": 7,
   "id": "894c8226",
   "metadata": {},
   "outputs": [
    {
     "data": {
      "text/plain": [
       "Index(['PROVINCE', 'DIVISION', 'DISTRICT', 'SUB DIVISION', 'AREA (sq.km)',\n",
       "       'ALL SEXES (RURAL)', 'MALE (RURAL)', 'FEMALE (RURAL)',\n",
       "       'TRANSGENDER (RURAL)', 'SEX RATIO (RURAL)',\n",
       "       'AVG HOUSEHOLD SIZE (RURAL)', 'POPULATION 1998 (RURAL)',\n",
       "       'ANNUAL GROWTH RATE (RURAL)', 'ALL SEXES (URBAN)', 'MALE (URBAN)',\n",
       "       'FEMALE (URBAN)', 'TRANSGENDER (URBAN)', 'SEX RATIO (URBAN)',\n",
       "       'AVG HOUSEHOLD SIZE (URBAN)', 'POPULATION 1998 (URBAN)',\n",
       "       'ANNUAL GROWTH RATE (URBAN)'],\n",
       "      dtype='object')"
      ]
     },
     "execution_count": 7,
     "metadata": {},
     "output_type": "execute_result"
    }
   ],
   "source": [
    "# lets see all columns at once\n",
    "df.columns"
   ]
  },
  {
   "cell_type": "code",
   "execution_count": 8,
   "id": "53a23e26",
   "metadata": {},
   "outputs": [
    {
     "data": {
      "application/vnd.microsoft.datawrangler.viewer.v0+json": {
       "columns": [
        {
         "name": "index",
         "rawType": "object",
         "type": "string"
        },
        {
         "name": "0",
         "rawType": "object",
         "type": "unknown"
        }
       ],
       "ref": "93548523-a93e-4510-b293-57128691518e",
       "rows": [
        [
         "PROVINCE",
         "object"
        ],
        [
         "DIVISION",
         "object"
        ],
        [
         "DISTRICT",
         "object"
        ],
        [
         "SUB DIVISION",
         "object"
        ],
        [
         "AREA (sq.km)",
         "float64"
        ],
        [
         "ALL SEXES (RURAL)",
         "int64"
        ],
        [
         "MALE (RURAL)",
         "int64"
        ],
        [
         "FEMALE (RURAL)",
         "int64"
        ],
        [
         "TRANSGENDER (RURAL)",
         "int64"
        ],
        [
         "SEX RATIO (RURAL)",
         "float64"
        ],
        [
         "AVG HOUSEHOLD SIZE (RURAL)",
         "float64"
        ],
        [
         "POPULATION 1998 (RURAL)",
         "int64"
        ],
        [
         "ANNUAL GROWTH RATE (RURAL)",
         "float64"
        ],
        [
         "ALL SEXES (URBAN)",
         "int64"
        ],
        [
         "MALE (URBAN)",
         "int64"
        ],
        [
         "FEMALE (URBAN)",
         "int64"
        ],
        [
         "TRANSGENDER (URBAN)",
         "int64"
        ],
        [
         "SEX RATIO (URBAN)",
         "float64"
        ],
        [
         "AVG HOUSEHOLD SIZE (URBAN)",
         "float64"
        ],
        [
         "POPULATION 1998 (URBAN)",
         "int64"
        ],
        [
         "ANNUAL GROWTH RATE (URBAN)",
         "float64"
        ]
       ],
       "shape": {
        "columns": 1,
        "rows": 21
       }
      },
      "text/plain": [
       "PROVINCE                       object\n",
       "DIVISION                       object\n",
       "DISTRICT                       object\n",
       "SUB DIVISION                   object\n",
       "AREA (sq.km)                  float64\n",
       "ALL SEXES (RURAL)               int64\n",
       "MALE (RURAL)                    int64\n",
       "FEMALE (RURAL)                  int64\n",
       "TRANSGENDER (RURAL)             int64\n",
       "SEX RATIO (RURAL)             float64\n",
       "AVG HOUSEHOLD SIZE (RURAL)    float64\n",
       "POPULATION 1998 (RURAL)         int64\n",
       "ANNUAL GROWTH RATE (RURAL)    float64\n",
       "ALL SEXES (URBAN)               int64\n",
       "MALE (URBAN)                    int64\n",
       "FEMALE (URBAN)                  int64\n",
       "TRANSGENDER (URBAN)             int64\n",
       "SEX RATIO (URBAN)             float64\n",
       "AVG HOUSEHOLD SIZE (URBAN)    float64\n",
       "POPULATION 1998 (URBAN)         int64\n",
       "ANNUAL GROWTH RATE (URBAN)    float64\n",
       "dtype: object"
      ]
     },
     "execution_count": 8,
     "metadata": {},
     "output_type": "execute_result"
    }
   ],
   "source": [
    "# lets have a look on dtypes (data types)\n",
    "df.dtypes"
   ]
  },
  {
   "cell_type": "code",
   "execution_count": 9,
   "id": "aeeb3d0c",
   "metadata": {},
   "outputs": [
    {
     "data": {
      "application/vnd.microsoft.datawrangler.viewer.v0+json": {
       "columns": [
        {
         "name": "index",
         "rawType": "object",
         "type": "string"
        },
        {
         "name": "count",
         "rawType": "float64",
         "type": "float"
        },
        {
         "name": "mean",
         "rawType": "float64",
         "type": "float"
        },
        {
         "name": "std",
         "rawType": "float64",
         "type": "float"
        },
        {
         "name": "min",
         "rawType": "float64",
         "type": "float"
        },
        {
         "name": "25%",
         "rawType": "float64",
         "type": "float"
        },
        {
         "name": "50%",
         "rawType": "float64",
         "type": "float"
        },
        {
         "name": "75%",
         "rawType": "float64",
         "type": "float"
        },
        {
         "name": "max",
         "rawType": "float64",
         "type": "float"
        }
       ],
       "ref": "4b3f57e4-6a11-438f-af75-b02278d3b67c",
       "rows": [
        [
         "AREA (sq.km)",
         "528.0",
         "1492.005871212121",
         "2039.453778210461",
         "0.0",
         "425.0",
         "882.0",
         "1734.25",
         "18374.0"
        ],
        [
         "ALL SEXES (RURAL)",
         "528.0",
         "246278.01136363635",
         "271189.81655913533",
         "0.0",
         "50934.5",
         "165241.0",
         "312911.25",
         "2297375.0"
        ],
        [
         "MALE (RURAL)",
         "528.0",
         "125275.6875",
         "137563.02145832204",
         "0.0",
         "27127.25",
         "84134.5",
         "160502.25",
         "1172995.0"
        ],
        [
         "FEMALE (RURAL)",
         "528.0",
         "120984.14962121213",
         "133716.8982962157",
         "0.0",
         "23979.0",
         "82044.0",
         "152219.0",
         "1124167.0"
        ],
        [
         "TRANSGENDER (RURAL)",
         "528.0",
         "18.174242424242426",
         "25.52224797583435",
         "0.0",
         "1.0",
         "10.0",
         "25.0",
         "213.0"
        ],
        [
         "SEX RATIO (RURAL)",
         "528.0",
         "98.98261363636364",
         "26.812659963763632",
         "0.0",
         "101.105",
         "105.285",
         "108.3475",
         "139.38"
        ],
        [
         "AVG HOUSEHOLD SIZE (RURAL)",
         "528.0",
         "6.277064393939394",
         "2.0749468568721596",
         "0.0",
         "5.7",
         "6.31",
         "7.2",
         "12.43"
        ],
        [
         "POPULATION 1998 (RURAL)",
         "528.0",
         "167427.99431818182",
         "178388.97699251067",
         "0.0",
         "35273.5",
         "117206.5",
         "213054.25",
         "1044035.0"
        ],
        [
         "ANNUAL GROWTH RATE (RURAL)",
         "528.0",
         "3.1247916666666664",
         "9.57787173131309",
         "0.0",
         "1.44",
         "2.03",
         "2.8125",
         "100.0"
        ],
        [
         "ALL SEXES (URBAN)",
         "528.0",
         "140863.5284090909",
         "351246.2791356469",
         "0.0",
         "0.0",
         "43254.5",
         "117814.75",
         "3653616.0"
        ],
        [
         "MALE (URBAN)",
         "528.0",
         "72843.38636363637",
         "182349.2413790539",
         "0.0",
         "0.0",
         "21980.0",
         "60301.75",
         "1905921.0"
        ],
        [
         "FEMALE (URBAN)",
         "528.0",
         "67997.86553030302",
         "168872.52821213394",
         "0.0",
         "0.0",
         "20999.0",
         "57465.25",
         "1746900.0"
        ],
        [
         "TRANSGENDER (URBAN)",
         "528.0",
         "22.276515151515152",
         "66.06812694544523",
         "0.0",
         "0.0",
         "3.0",
         "19.0",
         "795.0"
        ],
        [
         "SEX RATIO (URBAN)",
         "528.0",
         "75.41126893939395",
         "49.687340945047495",
         "0.0",
         "0.0",
         "103.195",
         "107.04",
         "297.81"
        ],
        [
         "AVG HOUSEHOLD SIZE (URBAN)",
         "528.0",
         "4.406401515151515",
         "2.9483358323019533",
         "0.0",
         "0.0",
         "5.755",
         "6.34",
         "10.06"
        ],
        [
         "POPULATION 1998 (URBAN)",
         "528.0",
         "80144.56628787878",
         "202312.01922696535",
         "0.0",
         "0.0",
         "21298.0",
         "65422.25",
         "2075867.0"
        ],
        [
         "ANNUAL GROWTH RATE (URBAN)",
         "528.0",
         "1.920814393939394",
         "2.0989080696947195",
         "0.0",
         "0.0",
         "1.855",
         "2.985",
         "19.78"
        ]
       ],
       "shape": {
        "columns": 8,
        "rows": 17
       }
      },
      "text/html": [
       "<div>\n",
       "<style scoped>\n",
       "    .dataframe tbody tr th:only-of-type {\n",
       "        vertical-align: middle;\n",
       "    }\n",
       "\n",
       "    .dataframe tbody tr th {\n",
       "        vertical-align: top;\n",
       "    }\n",
       "\n",
       "    .dataframe thead th {\n",
       "        text-align: right;\n",
       "    }\n",
       "</style>\n",
       "<table border=\"1\" class=\"dataframe\">\n",
       "  <thead>\n",
       "    <tr style=\"text-align: right;\">\n",
       "      <th></th>\n",
       "      <th>count</th>\n",
       "      <th>mean</th>\n",
       "      <th>std</th>\n",
       "      <th>min</th>\n",
       "      <th>25%</th>\n",
       "      <th>50%</th>\n",
       "      <th>75%</th>\n",
       "      <th>max</th>\n",
       "    </tr>\n",
       "  </thead>\n",
       "  <tbody>\n",
       "    <tr>\n",
       "      <th>AREA (sq.km)</th>\n",
       "      <td>528.0</td>\n",
       "      <td>1492.005871</td>\n",
       "      <td>2039.453778</td>\n",
       "      <td>0.0</td>\n",
       "      <td>425.000</td>\n",
       "      <td>882.000</td>\n",
       "      <td>1734.2500</td>\n",
       "      <td>18374.00</td>\n",
       "    </tr>\n",
       "    <tr>\n",
       "      <th>ALL SEXES (RURAL)</th>\n",
       "      <td>528.0</td>\n",
       "      <td>246278.011364</td>\n",
       "      <td>271189.816559</td>\n",
       "      <td>0.0</td>\n",
       "      <td>50934.500</td>\n",
       "      <td>165241.000</td>\n",
       "      <td>312911.2500</td>\n",
       "      <td>2297375.00</td>\n",
       "    </tr>\n",
       "    <tr>\n",
       "      <th>MALE (RURAL)</th>\n",
       "      <td>528.0</td>\n",
       "      <td>125275.687500</td>\n",
       "      <td>137563.021458</td>\n",
       "      <td>0.0</td>\n",
       "      <td>27127.250</td>\n",
       "      <td>84134.500</td>\n",
       "      <td>160502.2500</td>\n",
       "      <td>1172995.00</td>\n",
       "    </tr>\n",
       "    <tr>\n",
       "      <th>FEMALE (RURAL)</th>\n",
       "      <td>528.0</td>\n",
       "      <td>120984.149621</td>\n",
       "      <td>133716.898296</td>\n",
       "      <td>0.0</td>\n",
       "      <td>23979.000</td>\n",
       "      <td>82044.000</td>\n",
       "      <td>152219.0000</td>\n",
       "      <td>1124167.00</td>\n",
       "    </tr>\n",
       "    <tr>\n",
       "      <th>TRANSGENDER (RURAL)</th>\n",
       "      <td>528.0</td>\n",
       "      <td>18.174242</td>\n",
       "      <td>25.522248</td>\n",
       "      <td>0.0</td>\n",
       "      <td>1.000</td>\n",
       "      <td>10.000</td>\n",
       "      <td>25.0000</td>\n",
       "      <td>213.00</td>\n",
       "    </tr>\n",
       "    <tr>\n",
       "      <th>SEX RATIO (RURAL)</th>\n",
       "      <td>528.0</td>\n",
       "      <td>98.982614</td>\n",
       "      <td>26.812660</td>\n",
       "      <td>0.0</td>\n",
       "      <td>101.105</td>\n",
       "      <td>105.285</td>\n",
       "      <td>108.3475</td>\n",
       "      <td>139.38</td>\n",
       "    </tr>\n",
       "    <tr>\n",
       "      <th>AVG HOUSEHOLD SIZE (RURAL)</th>\n",
       "      <td>528.0</td>\n",
       "      <td>6.277064</td>\n",
       "      <td>2.074947</td>\n",
       "      <td>0.0</td>\n",
       "      <td>5.700</td>\n",
       "      <td>6.310</td>\n",
       "      <td>7.2000</td>\n",
       "      <td>12.43</td>\n",
       "    </tr>\n",
       "    <tr>\n",
       "      <th>POPULATION 1998 (RURAL)</th>\n",
       "      <td>528.0</td>\n",
       "      <td>167427.994318</td>\n",
       "      <td>178388.976993</td>\n",
       "      <td>0.0</td>\n",
       "      <td>35273.500</td>\n",
       "      <td>117206.500</td>\n",
       "      <td>213054.2500</td>\n",
       "      <td>1044035.00</td>\n",
       "    </tr>\n",
       "    <tr>\n",
       "      <th>ANNUAL GROWTH RATE (RURAL)</th>\n",
       "      <td>528.0</td>\n",
       "      <td>3.124792</td>\n",
       "      <td>9.577872</td>\n",
       "      <td>0.0</td>\n",
       "      <td>1.440</td>\n",
       "      <td>2.030</td>\n",
       "      <td>2.8125</td>\n",
       "      <td>100.00</td>\n",
       "    </tr>\n",
       "    <tr>\n",
       "      <th>ALL SEXES (URBAN)</th>\n",
       "      <td>528.0</td>\n",
       "      <td>140863.528409</td>\n",
       "      <td>351246.279136</td>\n",
       "      <td>0.0</td>\n",
       "      <td>0.000</td>\n",
       "      <td>43254.500</td>\n",
       "      <td>117814.7500</td>\n",
       "      <td>3653616.00</td>\n",
       "    </tr>\n",
       "    <tr>\n",
       "      <th>MALE (URBAN)</th>\n",
       "      <td>528.0</td>\n",
       "      <td>72843.386364</td>\n",
       "      <td>182349.241379</td>\n",
       "      <td>0.0</td>\n",
       "      <td>0.000</td>\n",
       "      <td>21980.000</td>\n",
       "      <td>60301.7500</td>\n",
       "      <td>1905921.00</td>\n",
       "    </tr>\n",
       "    <tr>\n",
       "      <th>FEMALE (URBAN)</th>\n",
       "      <td>528.0</td>\n",
       "      <td>67997.865530</td>\n",
       "      <td>168872.528212</td>\n",
       "      <td>0.0</td>\n",
       "      <td>0.000</td>\n",
       "      <td>20999.000</td>\n",
       "      <td>57465.2500</td>\n",
       "      <td>1746900.00</td>\n",
       "    </tr>\n",
       "    <tr>\n",
       "      <th>TRANSGENDER (URBAN)</th>\n",
       "      <td>528.0</td>\n",
       "      <td>22.276515</td>\n",
       "      <td>66.068127</td>\n",
       "      <td>0.0</td>\n",
       "      <td>0.000</td>\n",
       "      <td>3.000</td>\n",
       "      <td>19.0000</td>\n",
       "      <td>795.00</td>\n",
       "    </tr>\n",
       "    <tr>\n",
       "      <th>SEX RATIO (URBAN)</th>\n",
       "      <td>528.0</td>\n",
       "      <td>75.411269</td>\n",
       "      <td>49.687341</td>\n",
       "      <td>0.0</td>\n",
       "      <td>0.000</td>\n",
       "      <td>103.195</td>\n",
       "      <td>107.0400</td>\n",
       "      <td>297.81</td>\n",
       "    </tr>\n",
       "    <tr>\n",
       "      <th>AVG HOUSEHOLD SIZE (URBAN)</th>\n",
       "      <td>528.0</td>\n",
       "      <td>4.406402</td>\n",
       "      <td>2.948336</td>\n",
       "      <td>0.0</td>\n",
       "      <td>0.000</td>\n",
       "      <td>5.755</td>\n",
       "      <td>6.3400</td>\n",
       "      <td>10.06</td>\n",
       "    </tr>\n",
       "    <tr>\n",
       "      <th>POPULATION 1998 (URBAN)</th>\n",
       "      <td>528.0</td>\n",
       "      <td>80144.566288</td>\n",
       "      <td>202312.019227</td>\n",
       "      <td>0.0</td>\n",
       "      <td>0.000</td>\n",
       "      <td>21298.000</td>\n",
       "      <td>65422.2500</td>\n",
       "      <td>2075867.00</td>\n",
       "    </tr>\n",
       "    <tr>\n",
       "      <th>ANNUAL GROWTH RATE (URBAN)</th>\n",
       "      <td>528.0</td>\n",
       "      <td>1.920814</td>\n",
       "      <td>2.098908</td>\n",
       "      <td>0.0</td>\n",
       "      <td>0.000</td>\n",
       "      <td>1.855</td>\n",
       "      <td>2.9850</td>\n",
       "      <td>19.78</td>\n",
       "    </tr>\n",
       "  </tbody>\n",
       "</table>\n",
       "</div>"
      ],
      "text/plain": [
       "                            count           mean            std  min  \\\n",
       "AREA (sq.km)                528.0    1492.005871    2039.453778  0.0   \n",
       "ALL SEXES (RURAL)           528.0  246278.011364  271189.816559  0.0   \n",
       "MALE (RURAL)                528.0  125275.687500  137563.021458  0.0   \n",
       "FEMALE (RURAL)              528.0  120984.149621  133716.898296  0.0   \n",
       "TRANSGENDER (RURAL)         528.0      18.174242      25.522248  0.0   \n",
       "SEX RATIO (RURAL)           528.0      98.982614      26.812660  0.0   \n",
       "AVG HOUSEHOLD SIZE (RURAL)  528.0       6.277064       2.074947  0.0   \n",
       "POPULATION 1998 (RURAL)     528.0  167427.994318  178388.976993  0.0   \n",
       "ANNUAL GROWTH RATE (RURAL)  528.0       3.124792       9.577872  0.0   \n",
       "ALL SEXES (URBAN)           528.0  140863.528409  351246.279136  0.0   \n",
       "MALE (URBAN)                528.0   72843.386364  182349.241379  0.0   \n",
       "FEMALE (URBAN)              528.0   67997.865530  168872.528212  0.0   \n",
       "TRANSGENDER (URBAN)         528.0      22.276515      66.068127  0.0   \n",
       "SEX RATIO (URBAN)           528.0      75.411269      49.687341  0.0   \n",
       "AVG HOUSEHOLD SIZE (URBAN)  528.0       4.406402       2.948336  0.0   \n",
       "POPULATION 1998 (URBAN)     528.0   80144.566288  202312.019227  0.0   \n",
       "ANNUAL GROWTH RATE (URBAN)  528.0       1.920814       2.098908  0.0   \n",
       "\n",
       "                                  25%         50%          75%         max  \n",
       "AREA (sq.km)                  425.000     882.000    1734.2500    18374.00  \n",
       "ALL SEXES (RURAL)           50934.500  165241.000  312911.2500  2297375.00  \n",
       "MALE (RURAL)                27127.250   84134.500  160502.2500  1172995.00  \n",
       "FEMALE (RURAL)              23979.000   82044.000  152219.0000  1124167.00  \n",
       "TRANSGENDER (RURAL)             1.000      10.000      25.0000      213.00  \n",
       "SEX RATIO (RURAL)             101.105     105.285     108.3475      139.38  \n",
       "AVG HOUSEHOLD SIZE (RURAL)      5.700       6.310       7.2000       12.43  \n",
       "POPULATION 1998 (RURAL)     35273.500  117206.500  213054.2500  1044035.00  \n",
       "ANNUAL GROWTH RATE (RURAL)      1.440       2.030       2.8125      100.00  \n",
       "ALL SEXES (URBAN)               0.000   43254.500  117814.7500  3653616.00  \n",
       "MALE (URBAN)                    0.000   21980.000   60301.7500  1905921.00  \n",
       "FEMALE (URBAN)                  0.000   20999.000   57465.2500  1746900.00  \n",
       "TRANSGENDER (URBAN)             0.000       3.000      19.0000      795.00  \n",
       "SEX RATIO (URBAN)               0.000     103.195     107.0400      297.81  \n",
       "AVG HOUSEHOLD SIZE (URBAN)      0.000       5.755       6.3400       10.06  \n",
       "POPULATION 1998 (URBAN)         0.000   21298.000   65422.2500  2075867.00  \n",
       "ANNUAL GROWTH RATE (URBAN)      0.000       1.855       2.9850       19.78  "
      ]
     },
     "execution_count": 9,
     "metadata": {},
     "output_type": "execute_result"
    }
   ],
   "source": [
    "# summary statistic\n",
    "df.describe().T"
   ]
  },
  {
   "cell_type": "code",
   "execution_count": 10,
   "id": "076fcc09",
   "metadata": {},
   "outputs": [
    {
     "data": {
      "application/vnd.microsoft.datawrangler.viewer.v0+json": {
       "columns": [
        {
         "name": "index",
         "rawType": "object",
         "type": "string"
        },
        {
         "name": "0",
         "rawType": "int64",
         "type": "integer"
        }
       ],
       "ref": "9f2cfa0a-c66e-428d-85d0-1a2d662d9aa3",
       "rows": [
        [
         "PROVINCE",
         "0"
        ],
        [
         "DIVISION",
         "0"
        ],
        [
         "DISTRICT",
         "0"
        ],
        [
         "SUB DIVISION",
         "0"
        ],
        [
         "AREA (sq.km)",
         "0"
        ],
        [
         "ALL SEXES (RURAL)",
         "0"
        ],
        [
         "MALE (RURAL)",
         "0"
        ],
        [
         "FEMALE (RURAL)",
         "0"
        ],
        [
         "TRANSGENDER (RURAL)",
         "0"
        ],
        [
         "SEX RATIO (RURAL)",
         "0"
        ],
        [
         "AVG HOUSEHOLD SIZE (RURAL)",
         "0"
        ],
        [
         "POPULATION 1998 (RURAL)",
         "0"
        ],
        [
         "ANNUAL GROWTH RATE (RURAL)",
         "0"
        ],
        [
         "ALL SEXES (URBAN)",
         "0"
        ],
        [
         "MALE (URBAN)",
         "0"
        ],
        [
         "FEMALE (URBAN)",
         "0"
        ],
        [
         "TRANSGENDER (URBAN)",
         "0"
        ],
        [
         "SEX RATIO (URBAN)",
         "0"
        ],
        [
         "AVG HOUSEHOLD SIZE (URBAN)",
         "0"
        ],
        [
         "POPULATION 1998 (URBAN)",
         "0"
        ],
        [
         "ANNUAL GROWTH RATE (URBAN)",
         "0"
        ]
       ],
       "shape": {
        "columns": 1,
        "rows": 21
       }
      },
      "text/plain": [
       "PROVINCE                      0\n",
       "DIVISION                      0\n",
       "DISTRICT                      0\n",
       "SUB DIVISION                  0\n",
       "AREA (sq.km)                  0\n",
       "ALL SEXES (RURAL)             0\n",
       "MALE (RURAL)                  0\n",
       "FEMALE (RURAL)                0\n",
       "TRANSGENDER (RURAL)           0\n",
       "SEX RATIO (RURAL)             0\n",
       "AVG HOUSEHOLD SIZE (RURAL)    0\n",
       "POPULATION 1998 (RURAL)       0\n",
       "ANNUAL GROWTH RATE (RURAL)    0\n",
       "ALL SEXES (URBAN)             0\n",
       "MALE (URBAN)                  0\n",
       "FEMALE (URBAN)                0\n",
       "TRANSGENDER (URBAN)           0\n",
       "SEX RATIO (URBAN)             0\n",
       "AVG HOUSEHOLD SIZE (URBAN)    0\n",
       "POPULATION 1998 (URBAN)       0\n",
       "ANNUAL GROWTH RATE (URBAN)    0\n",
       "dtype: int64"
      ]
     },
     "execution_count": 10,
     "metadata": {},
     "output_type": "execute_result"
    }
   ],
   "source": [
    "# how much are missing values\n",
    "df.isnull().sum()"
   ]
  },
  {
   "cell_type": "code",
   "execution_count": 11,
   "id": "29901e77",
   "metadata": {},
   "outputs": [
    {
     "data": {
      "text/plain": [
       "<Axes: xlabel='AREA (sq.km)'>"
      ]
     },
     "execution_count": 11,
     "metadata": {},
     "output_type": "execute_result"
    },
    {
     "data": {
      "image/png": "[encoded data removed]",
      "text/plain": [
       "<Figure size 640x480 with 1 Axes>"
      ]
     },
     "metadata": {},
     "output_type": "display_data"
    }
   ],
   "source": [
    "# Box plot\n",
    "sns.boxplot(df, x='AREA (sq.km)')"
   ]
  },
  {
   "cell_type": "code",
   "execution_count": 12,
   "id": "74bab96e",
   "metadata": {},
   "outputs": [
    {
     "data": {
      "text/plain": [
       "<Axes: xlabel='AREA (sq.km)', ylabel='Count'>"
      ]
     },
     "execution_count": 12,
     "metadata": {},
     "output_type": "execute_result"
    },
    {
     "data": {
      "image/png": "[encoded data removed]",
      "text/plain": [
       "<Figure size 640x480 with 1 Axes>"
      ]
     },
     "metadata": {},
     "output_type": "display_data"
    }
   ],
   "source": [
    "sns.histplot(df, x='AREA (sq.km)')"
   ]
  },
  {
   "cell_type": "code",
   "execution_count": 13,
   "id": "37c45afb",
   "metadata": {},
   "outputs": [
    {
     "data": {
      "text/plain": [
       "<Axes: xlabel='PROVINCE', ylabel='DIVISION'>"
      ]
     },
     "execution_count": 13,
     "metadata": {},
     "output_type": "execute_result"
    },
    {
     "data": {
      "image/png": "[encoded data removed]",
      "text/plain": [
       "<Figure size 640x480 with 1 Axes>"
      ]
     },
     "metadata": {},
     "output_type": "display_data"
    }
   ],
   "source": [
    "sns.boxplot(df, x='PROVINCE', y='DIVISION' )"
   ]
  },
  {
   "cell_type": "code",
   "execution_count": 14,
   "id": "c64b05c2",
   "metadata": {},
   "outputs": [
    {
     "data": {
      "application/vnd.microsoft.datawrangler.viewer.v0+json": {
       "columns": [
        {
         "name": "DIVISION",
         "rawType": "object",
         "type": "string"
        },
        {
         "name": "0",
         "rawType": "int64",
         "type": "integer"
        }
       ],
       "ref": "5d9aa0a6-dbc9-44e5-9204-cae9cbe77098",
       "rows": [
        [
         "Badin Division",
         "5"
        ],
        [
         "MARDAN DIVISION",
         "7"
        ],
        [
         "SAHIWAL DIVISION",
         "7"
        ],
        [
         "KOHAT DIVISION",
         "14"
        ],
        [
         "MULTAN DIVISION",
         "14"
        ],
        [
         "D.G.KHAN DIVISION",
         "14"
        ],
        [
         "HAZARA DIVISION",
         "15"
        ],
        [
         "BAHAWALPUR DIVISION",
         "15"
        ],
        [
         "DERA ISMAIL KHAN DIVISION",
         "15"
        ],
        [
         "BANNU DIVISION",
         "15"
        ],
        [
         "Shaheed Benazirabad Division",
         "15"
        ],
        [
         "SARGODHA DIVISION",
         "17"
        ],
        [
         "FAISALABAD DIVISION",
         "17"
        ],
        [
         "LAHORE DIVISION",
         "17"
        ],
        [
         "Kalat Division",
         "18"
        ],
        [
         "Sukkur Division",
         "18"
        ],
        [
         "PESHAWAR DIVISION",
         "18"
        ],
        [
         "Mirpurkhas Division",
         "18"
        ],
        [
         "Naseerabad Division",
         "19"
        ],
        [
         "Zhob Division",
         "19"
        ],
        [
         "GUJRANWALA DIVISION",
         "20"
        ],
        [
         "Larkana Division",
         "21"
        ],
        [
         "RAWALPINDI DIVISION",
         "22"
        ],
        [
         "Karachi Division",
         "30"
        ],
        [
         "Hyderabad Division",
         "30"
        ],
        [
         "MALAKAND DIVISION",
         "33"
        ],
        [
         "Makran Division",
         "37"
        ],
        [
         "Quetta Division",
         "38"
        ]
       ],
       "shape": {
        "columns": 1,
        "rows": 28
       }
      },
      "text/plain": [
       "DIVISION\n",
       "Badin Division                   5\n",
       "MARDAN DIVISION                  7\n",
       "SAHIWAL DIVISION                 7\n",
       "KOHAT DIVISION                  14\n",
       "MULTAN DIVISION                 14\n",
       "D.G.KHAN DIVISION               14\n",
       "HAZARA DIVISION                 15\n",
       "BAHAWALPUR DIVISION             15\n",
       "DERA ISMAIL KHAN DIVISION       15\n",
       "BANNU DIVISION                  15\n",
       "Shaheed Benazirabad Division    15\n",
       "SARGODHA DIVISION               17\n",
       "FAISALABAD DIVISION             17\n",
       "LAHORE DIVISION                 17\n",
       "Kalat Division                  18\n",
       "Sukkur Division                 18\n",
       "PESHAWAR DIVISION               18\n",
       "Mirpurkhas Division             18\n",
       "Naseerabad Division             19\n",
       "Zhob Division                   19\n",
       "GUJRANWALA DIVISION             20\n",
       "Larkana Division                21\n",
       "RAWALPINDI DIVISION             22\n",
       "Karachi Division                30\n",
       "Hyderabad Division              30\n",
       "MALAKAND DIVISION               33\n",
       "Makran Division                 37\n",
       "Quetta Division                 38\n",
       "dtype: int64"
      ]
     },
     "execution_count": 14,
     "metadata": {},
     "output_type": "execute_result"
    }
   ],
   "source": [
    "# it's very hard to plot , therefore, we use groupby function make a tabulated data\n",
    "df.groupby(['DIVISION']).size().sort_values()"
   ]
  },
  {
   "cell_type": "code",
   "execution_count": 15,
   "id": "4453f315",
   "metadata": {},
   "outputs": [
    {
     "data": {
      "application/vnd.microsoft.datawrangler.viewer.v0+json": {
       "columns": [
        {
         "name": "DISTRICT",
         "rawType": "object",
         "type": "string"
        },
        {
         "name": "ALL SEXES (RURAL)",
         "rawType": "float64",
         "type": "float"
        }
       ],
       "ref": "77833605-ff5c-4223-a144-66d197af5a7e",
       "rows": [
        [
         "ABBOTTABAD DISTRICT",
         "378963.25"
        ],
        [
         "ATTOCK DISTRICT",
         "232578.33333333334"
        ],
        [
         "AWARAN DISTRICT",
         "21896.0"
        ],
        [
         "BADIN DISTRICT",
         "282922.8"
        ],
        [
         "BAHAWALNAGAR DISTRICT",
         "471194.0"
        ],
        [
         "BAHAWALPUR DISTRICT",
         "416169.0"
        ],
        [
         "BAJAUR DISTRICT",
         "155855.2857142857"
        ],
        [
         "BANNU DISTRICT",
         "558561.5"
        ],
        [
         "BARKHAN DISTRICT",
         "158824.0"
        ],
        [
         "BHAKKAR DISTRICT",
         "347049.5"
        ],
        [
         "BUNER DISTRICT",
         "223865.0"
        ],
        [
         "CHAGAI DISTRICT",
         "52563.0"
        ],
        [
         "CHAKWAL DISTRICT",
         "242371.0"
        ],
        [
         "CHARSADDA DISTRICT",
         "446918.6666666667"
        ],
        [
         "CHINIOT DISTRICT",
         "315476.3333333333"
        ],
        [
         "CHITRAL DISTRICT",
         "198922.5"
        ],
        [
         "DADU DISTRICT",
         "291746.0"
        ],
        [
         "DERA BUGTI DISTRICT",
         "26593.125"
        ],
        [
         "DERA GHAZI KHAN DISTRICT",
         "581602.5"
        ],
        [
         "DERA ISMAIL KHAN DISTRICT",
         "252974.0"
        ],
        [
         "FAISALABAD DISTRICT",
         "685929.6666666666"
        ],
        [
         "FR BANNU DISTRICT",
         "43112.0"
        ],
        [
         "FR D.I.KHAN DISTRICT",
         "68506.0"
        ],
        [
         "FR KOHAT DISTRICT",
         "118839.0"
        ],
        [
         "FR LAKKI MARWAT DISTRICT",
         "26394.0"
        ],
        [
         "FR PESHAWAR DISTRICT",
         "64761.0"
        ],
        [
         "GHOTKI DISTRICT",
         "257577.4"
        ],
        [
         "GUJRANWALA DISTRICT",
         "412389.6"
        ],
        [
         "GUJRAT DISTRICT",
         "642929.6666666666"
        ],
        [
         "GWADAR DISTRICT",
         "20294.8"
        ],
        [
         "HAFIZABAD DISTRICT",
         "377112.5"
        ],
        [
         "HANGU DISTRICT",
         "208154.5"
        ],
        [
         "HARIPUR DISTRICT",
         "434207.5"
        ],
        [
         "HARNAI DISTRICT",
         "24163.333333333332"
        ],
        [
         "HYDERABAD DISTRICT",
         "93352.5"
        ],
        [
         "JACOBABAD DISTRICT",
         "236597.0"
        ],
        [
         "JAFFARABAD DISTRICT",
         "118753.66666666667"
        ],
        [
         "JAMSHORO DISTRICT",
         "140321.75"
        ],
        [
         "JHAL MAGSI DISTRICT",
         "47028.333333333336"
        ],
        [
         "JHANG DISTRICT",
         "536050.25"
        ],
        [
         "JHELUM DISTRICT",
         "217026.5"
        ],
        [
         "KACHHI DISTRICT",
         "43158.666666666664"
        ],
        [
         "KALAT DISTRICT",
         "67933.0"
        ],
        [
         "KAMBAR SHAHDAD KOT DISTRICT",
         "134461.7142857143"
        ],
        [
         "KARACHI CENTRAL DISTRICT",
         "0.0"
        ],
        [
         "KARACHI EAST DISTRICT",
         "0.0"
        ],
        [
         "KARACHI SOUTH DISTRICT",
         "0.0"
        ],
        [
         "KARACHI WEST DISTRICT",
         "40408.28571428572"
        ],
        [
         "KARAK DISTRICT",
         "218092.0"
        ],
        [
         "KASHMORE DISTRICT",
         "278892.3333333333"
        ]
       ],
       "shape": {
        "columns": 1,
        "rows": 131
       }
      },
      "text/plain": [
       "DISTRICT\n",
       "ABBOTTABAD DISTRICT             3.789632e+05\n",
       "ATTOCK DISTRICT                 2.325783e+05\n",
       "AWARAN DISTRICT                 2.189600e+04\n",
       "BADIN DISTRICT                  2.829228e+05\n",
       "BAHAWALNAGAR DISTRICT           4.711940e+05\n",
       "BAHAWALPUR DISTRICT             4.161690e+05\n",
       "BAJAUR DISTRICT                 1.558553e+05\n",
       "BANNU DISTRICT                  5.585615e+05\n",
       "BARKHAN DISTRICT                1.588240e+05\n",
       "BHAKKAR DISTRICT                3.470495e+05\n",
       "BUNER DISTRICT                  2.238650e+05\n",
       "CHAGAI DISTRICT                 5.256300e+04\n",
       "CHAKWAL DISTRICT                2.423710e+05\n",
       "CHARSADDA DISTRICT              4.469187e+05\n",
       "CHINIOT DISTRICT                3.154763e+05\n",
       "CHITRAL DISTRICT                1.989225e+05\n",
       "DADU DISTRICT                   2.917460e+05\n",
       "DERA BUGTI DISTRICT             2.659312e+04\n",
       "DERA GHAZI KHAN DISTRICT        5.816025e+05\n",
       "DERA ISMAIL KHAN DISTRICT       2.529740e+05\n",
       "FAISALABAD DISTRICT             6.859297e+05\n",
       "FR BANNU DISTRICT               4.311200e+04\n",
       "FR D.I.KHAN DISTRICT            6.850600e+04\n",
       "FR KOHAT DISTRICT               1.188390e+05\n",
       "FR LAKKI MARWAT DISTRICT        2.639400e+04\n",
       "FR PESHAWAR DISTRICT            6.476100e+04\n",
       "GHOTKI DISTRICT                 2.575774e+05\n",
       "GUJRANWALA DISTRICT             4.123896e+05\n",
       "GUJRAT DISTRICT                 6.429297e+05\n",
       "GWADAR DISTRICT                 2.029480e+04\n",
       "HAFIZABAD DISTRICT              3.771125e+05\n",
       "HANGU DISTRICT                  2.081545e+05\n",
       "HARIPUR DISTRICT                4.342075e+05\n",
       "HARNAI DISTRICT                 2.416333e+04\n",
       "HYDERABAD DISTRICT              9.335250e+04\n",
       "JACOBABAD DISTRICT              2.365970e+05\n",
       "JAFFARABAD DISTRICT             1.187537e+05\n",
       "JAMSHORO DISTRICT               1.403218e+05\n",
       "JHAL MAGSI DISTRICT             4.702833e+04\n",
       "JHANG DISTRICT                  5.360502e+05\n",
       "JHELUM DISTRICT                 2.170265e+05\n",
       "KACHHI DISTRICT                 4.315867e+04\n",
       "KALAT DISTRICT                  6.793300e+04\n",
       "KAMBAR SHAHDAD KOT DISTRICT     1.344617e+05\n",
       "KARACHI CENTRAL DISTRICT        0.000000e+00\n",
       "KARACHI EAST DISTRICT           0.000000e+00\n",
       "KARACHI SOUTH DISTRICT          0.000000e+00\n",
       "KARACHI WEST DISTRICT           4.040829e+04\n",
       "KARAK DISTRICT                  2.180920e+05\n",
       "KASHMORE DISTRICT               2.788923e+05\n",
       "KASUR DISTRICT                  6.410252e+05\n",
       "KECH DISTRICT                   7.564525e+04\n",
       "KHAIRPUR DISTRICT               2.035230e+05\n",
       "KHANEWAL DISTRICT               5.834502e+05\n",
       "KHARAN DISTRICT                 3.712600e+04\n",
       "KHUSHAB DISTRICT                2.318530e+05\n",
       "KHUZDAR DISTRICT                5.812600e+04\n",
       "KHYBER DISTRICT                 2.216972e+05\n",
       "KILLA ABDULLAH DISTRICT         1.522560e+05\n",
       "KILLA SAIFULLAH DISTRICT        4.660650e+04\n",
       "KOHAT DISTRICT                  3.612505e+05\n",
       "KOHISTAN DISTRICT               1.961778e+05\n",
       "KOHLU DISTRICT                  4.002125e+04\n",
       "KORANGI DISTRICT                0.000000e+00\n",
       "KURRAM DISTRICT                 1.741600e+05\n",
       "LAHORE DISTRICT                 0.000000e+00\n",
       "LAKKI MARWAT DISTRICT           3.932460e+05\n",
       "LARKANA DISTRICT                2.057220e+05\n",
       "LASBELA DISTRICT                3.524800e+04\n",
       "LAYYAH DISTRICT                 4.938905e+05\n",
       "LODHRAN DISTRICT                4.780307e+05\n",
       "LORALAI DISTRICT                1.108440e+05\n",
       "LOWER DIR DISTRICT              3.489420e+05\n",
       "MALIR DISTRICT                  1.715268e+05\n",
       "MANDI BAHAUDDIN DISTRICT        4.225603e+05\n",
       "MANSEHRA DISTRICT               4.702813e+05\n",
       "MARDAN DISTRICT                 6.443923e+05\n",
       "MASTUNG DISTRICT                5.766975e+04\n",
       "MATIARI DISTRICT                1.957903e+05\n",
       "MIANWALI DISTRICT               4.049297e+05\n",
       "MIRPUR KHAS DISTRICT            1.529084e+05\n",
       "MOHMAND DISTRICT                6.776357e+04\n",
       "MULTAN DISTRICT                 6.718115e+05\n",
       "MUSAKHEL DISTRICT               5.103600e+04\n",
       "MUZAFFARGARH DISTRICT           9.075345e+05\n",
       "NANKANA SAHIB DISTRICT          3.699540e+05\n",
       "NAROWAL DISTRICT                4.836393e+05\n",
       "NASIRABAD DISTRICT              9.788275e+04\n",
       "NAUSHAHRO FEROZE DISTRICT       2.465628e+05\n",
       "NORTH WAZIRISTAN DISTRICT       5.957578e+04\n",
       "NOWSHERA DISTRICT               3.253440e+05\n",
       "NUSHKI DISTRICT                 1.325510e+05\n",
       "OKARA DISTRICT                  7.327540e+05\n",
       "ORAKZAI DISTRICT                6.357575e+04\n",
       "PAKPATTAN DISTRICT              7.676180e+05\n",
       "PANJGUR DISTRICT                5.873550e+04\n",
       "PESHAWAR DISTRICT               2.297375e+06\n",
       "PISHIN DISTRICT                 1.188214e+05\n",
       "QUETTA DISTRICT                 4.233627e+05\n",
       "RAHIM YAR KHAN DISTRICT         9.441948e+05\n",
       "RAJANPUR DISTRICT               4.146858e+05\n",
       "RAWALPINDI DISTRICT             3.423817e+05\n",
       "SAHIWAL DISTRICT                9.986635e+05\n",
       "SANGHAR DISTRICT                2.463590e+05\n",
       "SARGODHA DISTRICT               3.905865e+05\n",
       "SHAHEED BENAZIRABAD DISTRICT    2.809240e+05\n",
       "SHANGLA DISTRICT                2.532030e+05\n",
       "SHEIKHUPURA DISTRICT            4.516982e+05\n",
       "SHERANI DISTRICT                1.529520e+05\n",
       "SHIKARPUR DISTRICT              2.323298e+05\n",
       "SIALKOT DISTRICT                6.876008e+05\n",
       "SIBI DISTRICT                   2.876925e+04\n",
       "SOHBATPUR DISTRICT              6.251967e+04\n",
       "SOUTH WAZIRISTAN DISTRICT       8.440188e+04\n",
       "SUJAWAL DISTRICT                1.714696e+05\n",
       "SUKKUR DISTRICT                 1.535132e+05\n",
       "SWABI DISTRICT                  3.373782e+05\n",
       "SWAT DISTRICT                   2.304004e+05\n",
       "TANDO ALLAHYAR DISTRICT         2.090137e+05\n",
       "TANDO MUHAMMAD KHAN DISTRICT    1.517583e+05\n",
       "TANK DISTRICT                   3.435620e+05\n",
       "THARPARKAR DISTRICT             2.163574e+05\n",
       "THATTA DISTRICT                 1.637045e+05\n",
       "TOBA TEK SINGH DISTRICT         4.373810e+05\n",
       "TORGHAR DISTRICT                8.567450e+04\n",
       "UMER KOT DISTRICT               2.074830e+05\n",
       "UPPER DIR DISTRICT              3.672568e+05\n",
       "VEHARI DISTRICT                 7.986507e+05\n",
       "WASHUK DISTRICT                 3.077540e+04\n",
       "ZHOB DISTRICT                   5.283800e+04\n",
       "ZIARAT DISTRICT                 7.835150e+04\n",
       "Name: ALL SEXES (RURAL), dtype: float64"
      ]
     },
     "execution_count": 15,
     "metadata": {},
     "output_type": "execute_result"
    }
   ],
   "source": [
    "df.groupby('DISTRICT') ['ALL SEXES (RURAL)'].mean()"
   ]
  },
  {
   "cell_type": "code",
   "execution_count": 16,
   "id": "4f77aa1c",
   "metadata": {},
   "outputs": [
    {
     "data": {
      "text/plain": [
       "Index(['PROVINCE', 'DIVISION', 'DISTRICT', 'SUB DIVISION', 'AREA (sq.km)',\n",
       "       'ALL SEXES (RURAL)', 'MALE (RURAL)', 'FEMALE (RURAL)',\n",
       "       'TRANSGENDER (RURAL)', 'SEX RATIO (RURAL)',\n",
       "       'AVG HOUSEHOLD SIZE (RURAL)', 'POPULATION 1998 (RURAL)',\n",
       "       'ANNUAL GROWTH RATE (RURAL)', 'ALL SEXES (URBAN)', 'MALE (URBAN)',\n",
       "       'FEMALE (URBAN)', 'TRANSGENDER (URBAN)', 'SEX RATIO (URBAN)',\n",
       "       'AVG HOUSEHOLD SIZE (URBAN)', 'POPULATION 1998 (URBAN)',\n",
       "       'ANNUAL GROWTH RATE (URBAN)'],\n",
       "      dtype='object')"
      ]
     },
     "execution_count": 16,
     "metadata": {},
     "output_type": "execute_result"
    }
   ],
   "source": [
    "df.columns"
   ]
  },
  {
   "cell_type": "code",
   "execution_count": 17,
   "id": "334dc5c9",
   "metadata": {},
   "outputs": [
    {
     "data": {
      "application/vnd.microsoft.datawrangler.viewer.v0+json": {
       "columns": [
        {
         "name": "('PROVINCE', 'DIVISION')",
         "rawType": "object",
         "type": "unknown"
        },
        {
         "name": "POPULATION 1998 (URBAN)",
         "rawType": "float64",
         "type": "float"
        }
       ],
       "ref": "b5ad493f-605a-46fd-b896-123a0ede50d9",
       "rows": [
        [
         "('BALOCHISTAN', 'Kalat Division')",
         "9787.388888888889"
        ],
        [
         "('BALOCHISTAN', 'Makran Division')",
         "9007.621621621622"
        ],
        [
         "('BALOCHISTAN', 'Naseerabad Division')",
         "9028.315789473685"
        ],
        [
         "('BALOCHISTAN', 'Quetta Division')",
         "20115.842105263157"
        ],
        [
         "('BALOCHISTAN', 'Zhob Division')",
         "6493.9473684210525"
        ],
        [
         "('KPK', 'BANNU DIVISION')",
         "23638.5"
        ],
        [
         "('KPK', 'DERA ISMAIL KHAN DIVISION')",
         "26924.666666666668"
        ],
        [
         "('KPK', 'HAZARA DIVISION')",
         "20134.333333333332"
        ],
        [
         "('KPK', 'KOHAT DIVISION')",
         "34860.42857142857"
        ],
        [
         "('KPK', 'MALAKAND DIVISION')",
         "13772.461538461539"
        ],
        [
         "('KPK', 'MARDAN DIVISION')",
         "67763.14285714286"
        ],
        [
         "('KPK', 'PESHAWAR DIVISION')",
         "209577.5"
        ],
        [
         "('KPK/FATA', 'BANNU DIVISION')",
         "542.2727272727273"
        ],
        [
         "('KPK/FATA', 'DERA ISMAIL KHAN DIVISION')",
         "0.0"
        ],
        [
         "('KPK/FATA', 'KOHAT DIVISION')",
         "3592.1428571428573"
        ],
        [
         "('KPK/FATA', 'MALAKAND DIVISION')",
         "0.0"
        ],
        [
         "('KPK/FATA', 'PESHAWAR DIVISION')",
         "4530.25"
        ],
        [
         "('PUNJAB', 'BAHAWALPUR DIVISION')",
         "111645.8"
        ],
        [
         "('PUNJAB', 'D.G.KHAN DIVISION')",
         "59728.5"
        ],
        [
         "('PUNJAB', 'FAISALABAD DIVISION')",
         "193343.17647058822"
        ],
        [
         "('PUNJAB', 'GUJRANWALA DIVISION')",
         "177923.05"
        ],
        [
         "('PUNJAB', 'LAHORE DIVISION')",
         "389546.76470588235"
        ],
        [
         "('PUNJAB', 'MULTAN DIVISION')",
         "156037.7857142857"
        ],
        [
         "('PUNJAB', 'RAWALPINDI DIVISION')",
         "111381.22727272728"
        ],
        [
         "('PUNJAB', 'SAHIWAL DIVISION')",
         "142800.7142857143"
        ],
        [
         "('PUNJAB', 'SARGODHA DIVISION')",
         "77481.64705882352"
        ],
        [
         "('SINDH', 'Badin Division')",
         "37297.6"
        ],
        [
         "('SINDH', 'Hyderabad Division')",
         "65153.4"
        ],
        [
         "('SINDH', 'Karachi Division')",
         "311300.76666666666"
        ],
        [
         "('SINDH', 'Larkana Division')",
         "53161.04761904762"
        ],
        [
         "('SINDH', 'Mirpurkhas Division')",
         "25081.444444444445"
        ],
        [
         "('SINDH', 'Shaheed Benazirabad Division')",
         "53738.6"
        ],
        [
         "('SINDH', 'Sukkur Division')",
         "54767.88888888889"
        ]
       ],
       "shape": {
        "columns": 1,
        "rows": 33
       }
      },
      "text/plain": [
       "PROVINCE     DIVISION                    \n",
       "BALOCHISTAN  Kalat Division                    9787.388889\n",
       "             Makran Division                   9007.621622\n",
       "             Naseerabad Division               9028.315789\n",
       "             Quetta Division                  20115.842105\n",
       "             Zhob Division                     6493.947368\n",
       "KPK          BANNU DIVISION                   23638.500000\n",
       "             DERA ISMAIL KHAN DIVISION        26924.666667\n",
       "             HAZARA DIVISION                  20134.333333\n",
       "             KOHAT DIVISION                   34860.428571\n",
       "             MALAKAND DIVISION                13772.461538\n",
       "             MARDAN DIVISION                  67763.142857\n",
       "             PESHAWAR DIVISION               209577.500000\n",
       "KPK/FATA     BANNU DIVISION                     542.272727\n",
       "             DERA ISMAIL KHAN DIVISION            0.000000\n",
       "             KOHAT DIVISION                    3592.142857\n",
       "             MALAKAND DIVISION                    0.000000\n",
       "             PESHAWAR DIVISION                 4530.250000\n",
       "PUNJAB       BAHAWALPUR DIVISION             111645.800000\n",
       "             D.G.KHAN DIVISION                59728.500000\n",
       "             FAISALABAD DIVISION             193343.176471\n",
       "             GUJRANWALA DIVISION             177923.050000\n",
       "             LAHORE DIVISION                 389546.764706\n",
       "             MULTAN DIVISION                 156037.785714\n",
       "             RAWALPINDI DIVISION             111381.227273\n",
       "             SAHIWAL DIVISION                142800.714286\n",
       "             SARGODHA DIVISION                77481.647059\n",
       "SINDH        Badin Division                   37297.600000\n",
       "             Hyderabad Division               65153.400000\n",
       "             Karachi Division                311300.766667\n",
       "             Larkana Division                 53161.047619\n",
       "             Mirpurkhas Division              25081.444444\n",
       "             Shaheed Benazirabad Division     53738.600000\n",
       "             Sukkur Division                  54767.888889\n",
       "Name: POPULATION 1998 (URBAN), dtype: float64"
      ]
     },
     "execution_count": 17,
     "metadata": {},
     "output_type": "execute_result"
    }
   ],
   "source": [
    "df.groupby(['PROVINCE', \"DIVISION\"]) ['POPULATION 1998 (URBAN)'].mean()"
   ]
  },
  {
   "cell_type": "code",
   "execution_count": 18,
   "id": "f889a901",
   "metadata": {},
   "outputs": [
    {
     "data": {
      "application/vnd.microsoft.datawrangler.viewer.v0+json": {
       "columns": [
        {
         "name": "PROVINCE",
         "rawType": "object",
         "type": "string"
        },
        {
         "name": "POPULATION 1998 (RURAL)",
         "rawType": "float64",
         "type": "float"
        }
       ],
       "ref": "6718022a-e32f-4825-ae49-582fb40e75ba",
       "rows": [
        [
         "BALOCHISTAN",
         "37944.45038167939"
        ],
        [
         "KPK",
         "209638.81690140846"
        ],
        [
         "KPK/FATA",
         "62657.086956521736"
        ],
        [
         "PUNJAB",
         "350172.034965035"
        ],
        [
         "SINDH",
         "113796.16788321167"
        ]
       ],
       "shape": {
        "columns": 1,
        "rows": 5
       }
      },
      "text/plain": [
       "PROVINCE\n",
       "BALOCHISTAN     37944.450382\n",
       "KPK            209638.816901\n",
       "KPK/FATA        62657.086957\n",
       "PUNJAB         350172.034965\n",
       "SINDH          113796.167883\n",
       "Name: POPULATION 1998 (RURAL), dtype: float64"
      ]
     },
     "execution_count": 18,
     "metadata": {},
     "output_type": "execute_result"
    }
   ],
   "source": [
    "df.groupby(['PROVINCE']) ['POPULATION 1998 (RURAL)'].mean()"
   ]
  },
  {
   "cell_type": "code",
   "execution_count": 19,
   "id": "acefbd96",
   "metadata": {},
   "outputs": [
    {
     "data": {
      "text/plain": [
       "66145563"
      ]
     },
     "execution_count": 19,
     "metadata": {},
     "output_type": "execute_result"
    }
   ],
   "source": [
    "df['MALE (RURAL)'].sum()"
   ]
  },
  {
   "cell_type": "code",
   "execution_count": 20,
   "id": "403960d5",
   "metadata": {},
   "outputs": [
    {
     "ename": "SyntaxError",
     "evalue": "f-string: unmatched '[' (1209219788.py, line 1)",
     "output_type": "error",
     "traceback": [
      "\u001b[0;36m  Cell \u001b[0;32mIn[20], line 1\u001b[0;36m\u001b[0m\n\u001b[0;31m    print(f'The Total Rural Population Of Pakistan in 2017: {df['ALL SEXES (RURAL)'].sum()} ')\u001b[0m\n\u001b[0m                                                                 ^\u001b[0m\n\u001b[0;31mSyntaxError\u001b[0m\u001b[0;31m:\u001b[0m f-string: unmatched '['\n"
     ]
    }
   ],
   "source": [
    "print(f'The Total Rural Population Of Pakistan in 2017: {df['ALL SEXES (RURAL)'].sum()} ')"
   ]
  },
  {
   "cell_type": "code",
   "execution_count": null,
   "id": "3c85c1ed",
   "metadata": {},
   "outputs": [
    {
     "name": "stdout",
     "output_type": "stream",
     "text": [
      "The Total Rural Population Of Pakistan in 2017: 88401981 \n"
     ]
    }
   ],
   "source": [
    "print(f'The Total Rural Population Of Pakistan in 2017: {df['POPULATION 1998 (RURAL)'].sum()} ')"
   ]
  },
  {
   "cell_type": "markdown",
   "id": "97f12ca2",
   "metadata": {},
   "source": [
    "# **Population in number**"
   ]
  },
  {
   "cell_type": "code",
   "execution_count": null,
   "id": "100ef22a",
   "metadata": {},
   "outputs": [],
   "source": [
    "# Counting how much population are incress 1998 to 2017\n",
    "pop_rural = df['ALL SEXES (RURAL)'].sum() - df['POPULATION 1998 (RURAL)'].sum()\n"
   ]
  },
  {
   "cell_type": "code",
   "execution_count": null,
   "id": "b8c92e9d",
   "metadata": {},
   "outputs": [
    {
     "name": "stdout",
     "output_type": "stream",
     "text": [
      " The total rural population are incress from 1998-2017: 41632809\n"
     ]
    }
   ],
   "source": [
    "print(f' The total rural population are incress from 1998-2017: {pop_rural}')"
   ]
  },
  {
   "cell_type": "markdown",
   "id": "df9f7549",
   "metadata": {},
   "source": [
    "# **Population in percent**"
   ]
  },
  {
   "cell_type": "code",
   "execution_count": null,
   "id": "24e2dd84",
   "metadata": {},
   "outputs": [
    {
     "name": "stdout",
     "output_type": "stream",
     "text": [
      "67.98333046102508\n"
     ]
    }
   ],
   "source": [
    "print(df['POPULATION 1998 (RURAL)'].sum() / df['ALL SEXES (RURAL)'].sum() * 100)\n"
   ]
  },
  {
   "cell_type": "code",
   "execution_count": null,
   "id": "d8b45e8d",
   "metadata": {},
   "outputs": [],
   "source": [
    "df['All_sex_age'] = df[['MALE (URBAN)','FEMALE (URBAN)','TRANSGENDER (URBAN)' ]].sum(axis=1)"
   ]
  },
  {
   "cell_type": "code",
   "execution_count": null,
   "id": "b7c13a95",
   "metadata": {},
   "outputs": [
    {
     "data": {
      "text/plain": [
       "Index(['PROVINCE', 'DIVISION', 'DISTRICT', 'SUB DIVISION', 'AREA (sq.km)',\n",
       "       'ALL SEXES (RURAL)', 'MALE (RURAL)', 'FEMALE (RURAL)',\n",
       "       'TRANSGENDER (RURAL)', 'SEX RATIO (RURAL)',\n",
       "       'AVG HOUSEHOLD SIZE (RURAL)', 'POPULATION 1998 (RURAL)',\n",
       "       'ANNUAL GROWTH RATE (RURAL)', 'ALL SEXES (URBAN)', 'MALE (URBAN)',\n",
       "       'FEMALE (URBAN)', 'TRANSGENDER (URBAN)', 'SEX RATIO (URBAN)',\n",
       "       'AVG HOUSEHOLD SIZE (URBAN)', 'POPULATION 1998 (URBAN)',\n",
       "       'ANNUAL GROWTH RATE (URBAN)', 'All_sex_age'],\n",
       "      dtype='object')"
      ]
     },
     "execution_count": 109,
     "metadata": {},
     "output_type": "execute_result"
    }
   ],
   "source": [
    "df.columns"
   ]
  },
  {
   "cell_type": "code",
   "execution_count": null,
   "id": "644bde0e",
   "metadata": {},
   "outputs": [],
   "source": []
  },
  {
   "cell_type": "code",
   "execution_count": null,
   "id": "e4cc0057",
   "metadata": {},
   "outputs": [
    {
     "data": {
      "application/vnd.microsoft.datawrangler.viewer.v0+json": {
       "columns": [
        {
         "name": "index",
         "rawType": "int64",
         "type": "integer"
        },
        {
         "name": "All_sex_age",
         "rawType": "int64",
         "type": "integer"
        }
       ],
       "ref": "14928a54-e0d9-49e1-b573-614b62218ecc",
       "rows": [
        [
         "0",
         "193840"
        ],
        [
         "1",
         "149424"
        ],
        [
         "2",
         "61528"
        ],
        [
         "3",
         "142600"
        ],
        [
         "4",
         "72294"
        ],
        [
         "5",
         "176110"
        ],
        [
         "6",
         "682116"
        ],
        [
         "7",
         "107948"
        ],
        [
         "8",
         "115613"
        ],
        [
         "9",
         "41492"
        ],
        [
         "10",
         "48883"
        ],
        [
         "11",
         "232867"
        ],
        [
         "12",
         "51888"
        ],
        [
         "13",
         "484606"
        ],
        [
         "14",
         "261622"
        ],
        [
         "15",
         "0"
        ],
        [
         "16",
         "397362"
        ],
        [
         "17",
         "51666"
        ],
        [
         "18",
         "97193"
        ],
        [
         "19",
         "48371"
        ],
        [
         "20",
         "193476"
        ],
        [
         "21",
         "44504"
        ],
        [
         "22",
         "159382"
        ],
        [
         "23",
         "254147"
        ],
        [
         "24",
         "240378"
        ],
        [
         "25",
         "0"
        ],
        [
         "26",
         "110090"
        ],
        [
         "27",
         "212661"
        ],
        [
         "28",
         "14545"
        ],
        [
         "29",
         "34087"
        ],
        [
         "30",
         "278528"
        ],
        [
         "31",
         "109615"
        ],
        [
         "32",
         "48796"
        ],
        [
         "33",
         "3210158"
        ],
        [
         "34",
         "39873"
        ],
        [
         "35",
         "226606"
        ],
        [
         "36",
         "156938"
        ],
        [
         "37",
         "84495"
        ],
        [
         "38",
         "27554"
        ],
        [
         "39",
         "67634"
        ],
        [
         "40",
         "429441"
        ],
        [
         "41",
         "73803"
        ],
        [
         "42",
         "174831"
        ],
        [
         "43",
         "135674"
        ],
        [
         "44",
         "44220"
        ],
        [
         "45",
         "87246"
        ],
        [
         "46",
         "185874"
        ],
        [
         "47",
         "2165340"
        ],
        [
         "48",
         "248814"
        ],
        [
         "49",
         "49377"
        ]
       ],
       "shape": {
        "columns": 1,
        "rows": 528
       }
      },
      "text/plain": [
       "0       193840\n",
       "1       149424\n",
       "2        61528\n",
       "3       142600\n",
       "4        72294\n",
       "5       176110\n",
       "6       682116\n",
       "7       107948\n",
       "8       115613\n",
       "9        41492\n",
       "10       48883\n",
       "11      232867\n",
       "12       51888\n",
       "13      484606\n",
       "14      261622\n",
       "15           0\n",
       "16      397362\n",
       "17       51666\n",
       "18       97193\n",
       "19       48371\n",
       "20      193476\n",
       "21       44504\n",
       "22      159382\n",
       "23      254147\n",
       "24      240378\n",
       "25           0\n",
       "26      110090\n",
       "27      212661\n",
       "28       14545\n",
       "29       34087\n",
       "30      278528\n",
       "31      109615\n",
       "32       48796\n",
       "33     3210158\n",
       "34       39873\n",
       "35      226606\n",
       "36      156938\n",
       "37       84495\n",
       "38       27554\n",
       "39       67634\n",
       "40      429441\n",
       "41       73803\n",
       "42      174831\n",
       "43      135674\n",
       "44       44220\n",
       "45       87246\n",
       "46      185874\n",
       "47     2165340\n",
       "48      248814\n",
       "49       49377\n",
       "50      299713\n",
       "51      542708\n",
       "52      229928\n",
       "53       54864\n",
       "54      263867\n",
       "55      138862\n",
       "56       43423\n",
       "57      217232\n",
       "58       65703\n",
       "59      135695\n",
       "60       81643\n",
       "61       39319\n",
       "62      204016\n",
       "63      121714\n",
       "64      137941\n",
       "65      680864\n",
       "66      162708\n",
       "67      488579\n",
       "68       58894\n",
       "69      180599\n",
       "70     1632702\n",
       "71     3653616\n",
       "72     2703569\n",
       "73      848541\n",
       "74     2281557\n",
       "75      110135\n",
       "76       61498\n",
       "77       73491\n",
       "78      284280\n",
       "79      212852\n",
       "80       54056\n",
       "81       41885\n",
       "82      608440\n",
       "83       43646\n",
       "84      149594\n",
       "85      271097\n",
       "86      122095\n",
       "87       41554\n",
       "88      106285\n",
       "89      117762\n",
       "90       67453\n",
       "91     1827001\n",
       "92       84368\n",
       "93       80098\n",
       "94      232030\n",
       "95      128452\n",
       "96      145647\n",
       "97      212493\n",
       "98       66500\n",
       "99       63218\n",
       "100      55308\n",
       "101      48194\n",
       "102      45195\n",
       "103     138214\n",
       "104      22574\n",
       "105      43142\n",
       "106      15595\n",
       "107      64083\n",
       "108      73243\n",
       "109     190471\n",
       "110      64398\n",
       "111      26185\n",
       "112     112044\n",
       "113      60610\n",
       "114      54239\n",
       "115      22401\n",
       "116     157043\n",
       "117    2097824\n",
       "118     501547\n",
       "119     342525\n",
       "120     445879\n",
       "121      54160\n",
       "122     112306\n",
       "123     176686\n",
       "124      94733\n",
       "125     420951\n",
       "126     112807\n",
       "127      80421\n",
       "128      52281\n",
       "129      14145\n",
       "130     298014\n",
       "131      19780\n",
       "132      13753\n",
       "133      21413\n",
       "134      84561\n",
       "135     147411\n",
       "136      95840\n",
       "137     121957\n",
       "138      59953\n",
       "139      65499\n",
       "140     658208\n",
       "141      68662\n",
       "142      37719\n",
       "143     131619\n",
       "144      53353\n",
       "145      98287\n",
       "146      48685\n",
       "147      58400\n",
       "148     182580\n",
       "149      29031\n",
       "150      72413\n",
       "151      99382\n",
       "152     725153\n",
       "153      92896\n",
       "154     703690\n",
       "155     304779\n",
       "156     292131\n",
       "157      21196\n",
       "158     104350\n",
       "159      14944\n",
       "160     118472\n",
       "161      43160\n",
       "162      21037\n",
       "163      12161\n",
       "164          0\n",
       "165      20300\n",
       "166      17727\n",
       "167      35308\n",
       "168      36185\n",
       "169      17999\n",
       "170     213915\n",
       "171       6381\n",
       "172      33788\n",
       "173     101868\n",
       "174      23202\n",
       "175       4270\n",
       "176      47128\n",
       "177     101876\n",
       "178     496094\n",
       "179     449098\n",
       "180     446347\n",
       "181     871245\n",
       "182     708598\n",
       "183     761631\n",
       "184     841800\n",
       "185     792451\n",
       "186     479433\n",
       "187     128313\n",
       "188     473119\n",
       "189     363967\n",
       "190     661926\n",
       "191     141905\n",
       "192     832583\n",
       "193     401115\n",
       "194     550332\n",
       "195      70611\n",
       "196     845797\n",
       "197     520195\n",
       "198     403574\n",
       "199    1126141\n",
       "200     546196\n",
       "201     384389\n",
       "202     520830\n",
       "203     195143\n",
       "204          0\n",
       "205          0\n",
       "206     670004\n",
       "207     201565\n",
       "208      12619\n",
       "209     191098\n",
       "210      93501\n",
       "211     100970\n",
       "212      42312\n",
       "213      37819\n",
       "214      27623\n",
       "215     118935\n",
       "216          0\n",
       "217      69144\n",
       "218     136169\n",
       "219      90980\n",
       "220      26510\n",
       "221      32205\n",
       "222      62202\n",
       "223     488006\n",
       "224     116485\n",
       "225      35937\n",
       "226      24919\n",
       "227      47427\n",
       "228     196158\n",
       "229      73713\n",
       "230          0\n",
       "231      59388\n",
       "232      29042\n",
       "233     234133\n",
       "234      21000\n",
       "235      16805\n",
       "236      23315\n",
       "237       7484\n",
       "238      13142\n",
       "239      18512\n",
       "240          0\n",
       "241      58280\n",
       "242      11801\n",
       "243      39194\n",
       "244      12972\n",
       "245       9249\n",
       "246     182122\n",
       "247      62089\n",
       "248      38869\n",
       "249      76988\n",
       "250      95448\n",
       "251     105839\n",
       "252      27208\n",
       "253      50996\n",
       "254      93485\n",
       "255     191083\n",
       "256      56922\n",
       "257     152025\n",
       "258      93341\n",
       "259      51306\n",
       "260     279338\n",
       "261      65825\n",
       "262      86286\n",
       "263     124346\n",
       "264      30423\n",
       "265      75270\n",
       "266      44496\n",
       "267      43349\n",
       "268      93884\n",
       "269     231845\n",
       "270      95181\n",
       "271      85656\n",
       "272      93865\n",
       "273      38620\n",
       "274      94606\n",
       "275     276571\n",
       "276     100109\n",
       "277      85742\n",
       "278      26925\n",
       "279     231459\n",
       "280      21761\n",
       "281          0\n",
       "282          0\n",
       "283      12476\n",
       "284          0\n",
       "285          0\n",
       "286      36796\n",
       "287          0\n",
       "288      35597\n",
       "289      51388\n",
       "290          0\n",
       "291          0\n",
       "292          0\n",
       "293          0\n",
       "294     182444\n",
       "295          0\n",
       "296      33321\n",
       "297          0\n",
       "298          0\n",
       "299      22209\n",
       "300      37788\n",
       "301      24603\n",
       "302      12855\n",
       "303       7679\n",
       "304     177823\n",
       "305          0\n",
       "306          0\n",
       "307      29515\n",
       "308      29423\n",
       "309          0\n",
       "310          0\n",
       "311          0\n",
       "312      34997\n",
       "313          0\n",
       "314          0\n",
       "315          0\n",
       "316          0\n",
       "317      21835\n",
       "318      90201\n",
       "319      18268\n",
       "320      17753\n",
       "321      34557\n",
       "322          0\n",
       "323          0\n",
       "324      39846\n",
       "325          0\n",
       "326          0\n",
       "327     213831\n",
       "328          0\n",
       "329      48343\n",
       "330          0\n",
       "331          0\n",
       "332          0\n",
       "333      80411\n",
       "334          0\n",
       "335          0\n",
       "336      80958\n",
       "337      76753\n",
       "338       7815\n",
       "339          0\n",
       "340          0\n",
       "341          0\n",
       "342      16600\n",
       "343      15240\n",
       "344          0\n",
       "345      19140\n",
       "346          0\n",
       "347          0\n",
       "348          0\n",
       "349      96316\n",
       "350          0\n",
       "351          0\n",
       "352          0\n",
       "353      12867\n",
       "354          0\n",
       "355      16265\n",
       "356          0\n",
       "357          0\n",
       "358     123206\n",
       "359          0\n",
       "360          0\n",
       "361      26124\n",
       "362      46396\n",
       "363          0\n",
       "364      29402\n",
       "365      39997\n",
       "366      35547\n",
       "367      37850\n",
       "368          0\n",
       "369     999385\n",
       "370          0\n",
       "371          0\n",
       "372      27625\n",
       "373          0\n",
       "374          0\n",
       "375          0\n",
       "376          0\n",
       "377          0\n",
       "378      72740\n",
       "379      13303\n",
       "380          0\n",
       "381      11259\n",
       "382          0\n",
       "383          0\n",
       "384      17443\n",
       "385          0\n",
       "386          0\n",
       "387          0\n",
       "388          0\n",
       "389      64674\n",
       "390          0\n",
       "391       3392\n",
       "392      12201\n",
       "393          0\n",
       "394          0\n",
       "395      34865\n",
       "396          0\n",
       "397      28428\n",
       "398          0\n",
       "399      10042\n",
       "400      54849\n",
       "401          0\n",
       "402          0\n",
       "403          0\n",
       "404      14135\n",
       "405          0\n",
       "406          0\n",
       "407          0\n",
       "408          0\n",
       "409          0\n",
       "410      46164\n",
       "411      49948\n",
       "412          0\n",
       "413      59273\n",
       "414      29979\n",
       "415          0\n",
       "416     218018\n",
       "417      24753\n",
       "418      77566\n",
       "419      39881\n",
       "420      47064\n",
       "421     245670\n",
       "422      48315\n",
       "423          0\n",
       "424          0\n",
       "425          0\n",
       "426     133100\n",
       "427          0\n",
       "428     144898\n",
       "429          0\n",
       "430          0\n",
       "431          0\n",
       "432          0\n",
       "433          0\n",
       "434          0\n",
       "435          0\n",
       "436      48801\n",
       "437      53701\n",
       "438     228555\n",
       "439      41371\n",
       "440          0\n",
       "441      51086\n",
       "442          0\n",
       "443          0\n",
       "444     359024\n",
       "445      81198\n",
       "446      41319\n",
       "447      26214\n",
       "448     155405\n",
       "449      53026\n",
       "450     145801\n",
       "451      91490\n",
       "452      32913\n",
       "453      86122\n",
       "454      55370\n",
       "455    1969823\n",
       "456          0\n",
       "457          0\n",
       "458          0\n",
       "459          0\n",
       "460      49780\n",
       "461          0\n",
       "462          0\n",
       "463          0\n",
       "464          0\n",
       "465     331377\n",
       "466      94019\n",
       "467      61889\n",
       "468          0\n",
       "469     117973\n",
       "470      48016\n",
       "471      42547\n",
       "472          0\n",
       "473          0\n",
       "474          0\n",
       "475      40314\n",
       "476      44100\n",
       "477          0\n",
       "478          0\n",
       "479      67686\n",
       "480          0\n",
       "481      67686\n",
       "482          0\n",
       "483          0\n",
       "484          0\n",
       "485          0\n",
       "486          0\n",
       "487          0\n",
       "488          0\n",
       "489          0\n",
       "490          0\n",
       "491          0\n",
       "492          0\n",
       "493          0\n",
       "494          0\n",
       "495      63728\n",
       "496      33729\n",
       "497          0\n",
       "498      32543\n",
       "499       5502\n",
       "500          0\n",
       "501          0\n",
       "502          0\n",
       "503          0\n",
       "504          0\n",
       "505          0\n",
       "506          0\n",
       "507          0\n",
       "508          0\n",
       "509          0\n",
       "510          0\n",
       "511          0\n",
       "512       4364\n",
       "513          0\n",
       "514          0\n",
       "515          0\n",
       "516          0\n",
       "517          0\n",
       "518          0\n",
       "519          0\n",
       "520          0\n",
       "521          0\n",
       "522          0\n",
       "523          0\n",
       "524          0\n",
       "525          0\n",
       "526          0\n",
       "527          0\n",
       "Name: All_sex_age, dtype: int64"
      ]
     },
     "execution_count": 110,
     "metadata": {},
     "output_type": "execute_result"
    }
   ],
   "source": [
    "df.All_sex_age"
   ]
  },
  {
   "cell_type": "code",
   "execution_count": null,
   "id": "d4642f1e",
   "metadata": {},
   "outputs": [],
   "source": []
  }
 ],
 "metadata": {
  "kernelspec": {
   "display_name": "ydata_profiling",
   "language": "python",
   "name": "python3"
  },
  "language_info": {
   "codemirror_mode": {
    "name": "ipython",
    "version": 3
   },
   "file_extension": ".py",
   "mimetype": "text/x-python",
   "name": "python",
   "nbconvert_exporter": "python",
   "pygments_lexer": "ipython3",
   "version": "3.10.0"
  }
 },
 "nbformat": 4,
 "nbformat_minor": 5
}
