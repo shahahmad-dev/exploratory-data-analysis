{
 "cells": [
  {
   "cell_type": "markdown",
   "id": "e5c00b6b",
   "metadata": {},
   "source": [
    "# **Pakitan population analysis**"
   ]
  },
  {
   "cell_type": "markdown",
   "id": "2dd97d53",
   "metadata": {},
   "source": [
    "**Author Name**: Shah Ahmad Noorani\\\n",
    "**Gmail**: shah.ahmad.dev@gmail.com"
   ]
  },
  {
   "cell_type": "markdown",
   "id": "64fd1bdb",
   "metadata": {},
   "source": [
    "The Data was collected from the following [link](https://www.kaggle.com/datasets/mabdullahsajid/population-of-pakistan-dataset)\\\n",
    "**Years of Data**\n",
    "1. 2017\n",
    "2. 1998"
   ]
  },
  {
   "cell_type": "markdown",
   "id": "c4d7f76a",
   "metadata": {},
   "source": [
    "**Data Decription**"
   ]
  },
  {
   "cell_type": "markdown",
   "id": "956d005a",
   "metadata": {},
   "source": [
    "`Description`\n",
    "This dataset contains demographic information from the Pakistan Population Census conducted in 2017. It provides detailed population data at various administrative levels within Pakistan, including provinces, divisions, districts, and sub-divisions. The dataset also includes information on urban and rural populations, gender distribution, transgender individuals, sex ratios, population figures from the 1998 census, and annual growth rates.\n",
    "\n",
    "`Features`\n",
    "Province: The administrative provinces or regions of Pakistan where the census data was collected.\n",
    "\n",
    "`Division`: The divisions within each province. Divisions are the second level of administrative divisions in Pakistan.\n",
    "\n",
    "`District`: Districts within each division, representing larger administrative units.\n",
    "\n",
    "`Sub-Division`: Sub-divisions or tehsils within each district, providing more localized data.\n",
    "\n",
    "`Area`: The land area (in square kilometers) of each sub-division.\n",
    "\n",
    "`Urban Population 2017`: The population of urban areas within each sub-division for the year 2017.\n",
    "\n",
    "`Rural Population 2017`: The population of rural areas within each sub-division for the year 2017.\n",
    "\n",
    "`Male Population 2017`: The male population within each sub-division for the year 2017.\n",
    "\n",
    "`Female Population 2017`: The female population within each sub-division for the year 2017.\n",
    "\n",
    "`Transgender Population 2017`: The population of transgender individuals within each sub-division for the year 2017.\n",
    "\n",
    "`Sex Ratio 2017`: The sex ratio, calculated as the number of females per 1000 males, within each sub-division for the year 2017.\n",
    "\n",
    "`Population in 1998`: The total population of each sub-division as recorded in the 1998 census.\n",
    "\n",
    "`Annual Growth Rate`: The annual growth rate of the population in each sub-division, calculated as the percentage increase from 1998 to 2017.\n",
    "\n",
    "`Data Source`\n",
    "The data in this dataset was collected from official Pakistan Population Census reports and may include data from various government sources. It is essential to provide proper attribution and reference the original sources when using this dataset for analysis or research.\n",
    "\n",
    "`Data Usage`\n",
    "Researchers and analysts can use this dataset to explore demographic trends, population growth, urbanization rates, gender distribution, and more within Pakistan at different administrative levels. Ensure compliance with ethical and legal guidelines when using this data for research or public sharing.\n",
    "\n",
    "Please note that this description is a template, and you should adapt it based on the actual data sources and specific details of your dataset when creating it for Kaggle or any other platform."
   ]
  },
  {
   "cell_type": "code",
   "execution_count": 2,
   "id": "a6724d1a",
   "metadata": {},
   "outputs": [],
   "source": [
    "# import library\n",
    "import pandas as pd\n",
    "import numpy as np\n",
    "import matplotlib.pyplot as plt\n",
    "import seaborn as sns"
   ]
  },
  {
   "cell_type": "code",
   "execution_count": 3,
   "id": "b540e310",
   "metadata": {},
   "outputs": [],
   "source": [
    "# import dataset\n",
    "df = pd.read_csv(\"pak_pop.csv\")"
   ]
  },
  {
   "cell_type": "markdown",
   "id": "be7d11cb",
   "metadata": {},
   "source": [
    "# 1- Compsotion"
   ]
  },
  {
   "cell_type": "code",
   "execution_count": 6,
   "id": "c4c0976b",
   "metadata": {},
   "outputs": [
    {
     "name": "stdout",
     "output_type": "stream",
     "text": [
      "<class 'pandas.core.frame.DataFrame'>\n",
      "RangeIndex: 528 entries, 0 to 527\n",
      "Data columns (total 21 columns):\n",
      " #   Column                      Non-Null Count  Dtype  \n",
      "---  ------                      --------------  -----  \n",
      " 0   PROVINCE                    528 non-null    object \n",
      " 1   DIVISION                    528 non-null    object \n",
      " 2   DISTRICT                    528 non-null    object \n",
      " 3   SUB DIVISION                528 non-null    object \n",
      " 4   AREA (sq.km)                528 non-null    float64\n",
      " 5   ALL SEXES (RURAL)           528 non-null    int64  \n",
      " 6   MALE (RURAL)                528 non-null    int64  \n",
      " 7   FEMALE (RURAL)              528 non-null    int64  \n",
      " 8   TRANSGENDER (RURAL)         528 non-null    int64  \n",
      " 9   SEX RATIO (RURAL)           528 non-null    float64\n",
      " 10  AVG HOUSEHOLD SIZE (RURAL)  528 non-null    float64\n",
      " 11  POPULATION 1998 (RURAL)     528 non-null    int64  \n",
      " 12  ANNUAL GROWTH RATE (RURAL)  528 non-null    float64\n",
      " 13  ALL SEXES (URBAN)           528 non-null    int64  \n",
      " 14  MALE (URBAN)                528 non-null    int64  \n",
      " 15  FEMALE (URBAN)              528 non-null    int64  \n",
      " 16  TRANSGENDER (URBAN)         528 non-null    int64  \n",
      " 17  SEX RATIO (URBAN)           528 non-null    float64\n",
      " 18  AVG HOUSEHOLD SIZE (URBAN)  528 non-null    float64\n",
      " 19  POPULATION 1998 (URBAN)     528 non-null    int64  \n",
      " 20  ANNUAL GROWTH RATE (URBAN)  528 non-null    float64\n",
      "dtypes: float64(7), int64(10), object(4)\n",
      "memory usage: 86.8+ KB\n"
     ]
    }
   ],
   "source": [
    "# Explore the data (compsotion)\n",
    "df.info()"
   ]
  },
  {
   "cell_type": "code",
   "execution_count": 7,
   "id": "dd812234",
   "metadata": {},
   "outputs": [
    {
     "data": {
      "application/vnd.microsoft.datawrangler.viewer.v0+json": {
       "columns": [
        {
         "name": "index",
         "rawType": "int64",
         "type": "integer"
        },
        {
         "name": "PROVINCE",
         "rawType": "object",
         "type": "string"
        },
        {
         "name": "DIVISION",
         "rawType": "object",
         "type": "string"
        },
        {
         "name": "DISTRICT",
         "rawType": "object",
         "type": "string"
        },
        {
         "name": "SUB DIVISION",
         "rawType": "object",
         "type": "string"
        },
        {
         "name": "AREA (sq.km)",
         "rawType": "float64",
         "type": "float"
        },
        {
         "name": "ALL SEXES (RURAL)",
         "rawType": "int64",
         "type": "integer"
        },
        {
         "name": "MALE (RURAL)",
         "rawType": "int64",
         "type": "integer"
        },
        {
         "name": "FEMALE (RURAL)",
         "rawType": "int64",
         "type": "integer"
        },
        {
         "name": "TRANSGENDER (RURAL)",
         "rawType": "int64",
         "type": "integer"
        },
        {
         "name": "SEX RATIO (RURAL)",
         "rawType": "float64",
         "type": "float"
        },
        {
         "name": "AVG HOUSEHOLD SIZE (RURAL)",
         "rawType": "float64",
         "type": "float"
        },
        {
         "name": "POPULATION 1998 (RURAL)",
         "rawType": "int64",
         "type": "integer"
        },
        {
         "name": "ANNUAL GROWTH RATE (RURAL)",
         "rawType": "float64",
         "type": "float"
        },
        {
         "name": "ALL SEXES (URBAN)",
         "rawType": "int64",
         "type": "integer"
        },
        {
         "name": "MALE (URBAN)",
         "rawType": "int64",
         "type": "integer"
        },
        {
         "name": "FEMALE (URBAN)",
         "rawType": "int64",
         "type": "integer"
        },
        {
         "name": "TRANSGENDER (URBAN)",
         "rawType": "int64",
         "type": "integer"
        },
        {
         "name": "SEX RATIO (URBAN)",
         "rawType": "float64",
         "type": "float"
        },
        {
         "name": "AVG HOUSEHOLD SIZE (URBAN)",
         "rawType": "float64",
         "type": "float"
        },
        {
         "name": "POPULATION 1998 (URBAN)",
         "rawType": "int64",
         "type": "integer"
        },
        {
         "name": "ANNUAL GROWTH RATE (URBAN)",
         "rawType": "float64",
         "type": "float"
        }
       ],
       "ref": "6edd9fd5-8c4a-4709-bebf-cb170b657f4c",
       "rows": [
        [
         "0",
         "PUNJAB",
         "BAHAWALPUR DIVISION",
         "BAHAWALNAGAR DISTRICT",
         "BAHAWALNAGAR TEHSIL",
         "1729.0",
         "619550",
         "316864",
         "302644",
         "42",
         "104.7",
         "6.1",
         "407768",
         "2.22",
         "193840",
         "98391",
         "95402",
         "47",
         "103.13",
         "6.02",
         "133785",
         "1.97"
        ],
        [
         "1",
         "PUNJAB",
         "BAHAWALPUR DIVISION",
         "BAHAWALNAGAR DISTRICT",
         "CHISHTIAN TEHSIL",
         "1500.0",
         "540342",
         "273788",
         "266500",
         "54",
         "102.73",
         "6.15",
         "395983",
         "1.65",
         "149424",
         "75546",
         "73851",
         "27",
         "102.3",
         "6.01",
         "102287",
         "2.01"
        ],
        [
         "2",
         "PUNJAB",
         "BAHAWALPUR DIVISION",
         "BAHAWALNAGAR DISTRICT",
         "FORT ABBAS TEHSIL",
         "2536.0",
         "361240",
         "182655",
         "178541",
         "44",
         "102.3",
         "6.32",
         "250959",
         "1.93",
         "61528",
         "31360",
         "30150",
         "18",
         "104.01",
         "6.0",
         "34637",
         "3.06"
        ],
        [
         "3",
         "PUNJAB",
         "BAHAWALPUR DIVISION",
         "BAHAWALNAGAR DISTRICT",
         "HAROONABAD TEHSIL",
         "1295.0",
         "382115",
         "192278",
         "189808",
         "29",
         "101.3",
         "6.15",
         "297343",
         "1.33",
         "142600",
         "71345",
         "71236",
         "19",
         "100.15",
         "6.02",
         "84424",
         "2.79"
        ],
        [
         "4",
         "PUNJAB",
         "BAHAWALPUR DIVISION",
         "BAHAWALNAGAR DISTRICT",
         "MINCHINABAD TEHSIL",
         "1818.0",
         "452723",
         "231506",
         "221178",
         "39",
         "104.67",
         "6.29",
         "316593",
         "1.9",
         "72294",
         "36694",
         "35590",
         "10",
         "103.1",
         "6.34",
         "37668",
         "3.48"
        ]
       ],
       "shape": {
        "columns": 21,
        "rows": 5
       }
      },
      "text/html": [
       "<div>\n",
       "<style scoped>\n",
       "    .dataframe tbody tr th:only-of-type {\n",
       "        vertical-align: middle;\n",
       "    }\n",
       "\n",
       "    .dataframe tbody tr th {\n",
       "        vertical-align: top;\n",
       "    }\n",
       "\n",
       "    .dataframe thead th {\n",
       "        text-align: right;\n",
       "    }\n",
       "</style>\n",
       "<table border=\"1\" class=\"dataframe\">\n",
       "  <thead>\n",
       "    <tr style=\"text-align: right;\">\n",
       "      <th></th>\n",
       "      <th>PROVINCE</th>\n",
       "      <th>DIVISION</th>\n",
       "      <th>DISTRICT</th>\n",
       "      <th>SUB DIVISION</th>\n",
       "      <th>AREA (sq.km)</th>\n",
       "      <th>ALL SEXES (RURAL)</th>\n",
       "      <th>MALE (RURAL)</th>\n",
       "      <th>FEMALE (RURAL)</th>\n",
       "      <th>TRANSGENDER (RURAL)</th>\n",
       "      <th>SEX RATIO (RURAL)</th>\n",
       "      <th>...</th>\n",
       "      <th>POPULATION 1998 (RURAL)</th>\n",
       "      <th>ANNUAL GROWTH RATE (RURAL)</th>\n",
       "      <th>ALL SEXES (URBAN)</th>\n",
       "      <th>MALE (URBAN)</th>\n",
       "      <th>FEMALE (URBAN)</th>\n",
       "      <th>TRANSGENDER (URBAN)</th>\n",
       "      <th>SEX RATIO (URBAN)</th>\n",
       "      <th>AVG HOUSEHOLD SIZE (URBAN)</th>\n",
       "      <th>POPULATION 1998 (URBAN)</th>\n",
       "      <th>ANNUAL GROWTH RATE (URBAN)</th>\n",
       "    </tr>\n",
       "  </thead>\n",
       "  <tbody>\n",
       "    <tr>\n",
       "      <th>0</th>\n",
       "      <td>PUNJAB</td>\n",
       "      <td>BAHAWALPUR DIVISION</td>\n",
       "      <td>BAHAWALNAGAR DISTRICT</td>\n",
       "      <td>BAHAWALNAGAR TEHSIL</td>\n",
       "      <td>1729.0</td>\n",
       "      <td>619550</td>\n",
       "      <td>316864</td>\n",
       "      <td>302644</td>\n",
       "      <td>42</td>\n",
       "      <td>104.70</td>\n",
       "      <td>...</td>\n",
       "      <td>407768</td>\n",
       "      <td>2.22</td>\n",
       "      <td>193840</td>\n",
       "      <td>98391</td>\n",
       "      <td>95402</td>\n",
       "      <td>47</td>\n",
       "      <td>103.13</td>\n",
       "      <td>6.02</td>\n",
       "      <td>133785</td>\n",
       "      <td>1.97</td>\n",
       "    </tr>\n",
       "    <tr>\n",
       "      <th>1</th>\n",
       "      <td>PUNJAB</td>\n",
       "      <td>BAHAWALPUR DIVISION</td>\n",
       "      <td>BAHAWALNAGAR DISTRICT</td>\n",
       "      <td>CHISHTIAN TEHSIL</td>\n",
       "      <td>1500.0</td>\n",
       "      <td>540342</td>\n",
       "      <td>273788</td>\n",
       "      <td>266500</td>\n",
       "      <td>54</td>\n",
       "      <td>102.73</td>\n",
       "      <td>...</td>\n",
       "      <td>395983</td>\n",
       "      <td>1.65</td>\n",
       "      <td>149424</td>\n",
       "      <td>75546</td>\n",
       "      <td>73851</td>\n",
       "      <td>27</td>\n",
       "      <td>102.30</td>\n",
       "      <td>6.01</td>\n",
       "      <td>102287</td>\n",
       "      <td>2.01</td>\n",
       "    </tr>\n",
       "    <tr>\n",
       "      <th>2</th>\n",
       "      <td>PUNJAB</td>\n",
       "      <td>BAHAWALPUR DIVISION</td>\n",
       "      <td>BAHAWALNAGAR DISTRICT</td>\n",
       "      <td>FORT ABBAS TEHSIL</td>\n",
       "      <td>2536.0</td>\n",
       "      <td>361240</td>\n",
       "      <td>182655</td>\n",
       "      <td>178541</td>\n",
       "      <td>44</td>\n",
       "      <td>102.30</td>\n",
       "      <td>...</td>\n",
       "      <td>250959</td>\n",
       "      <td>1.93</td>\n",
       "      <td>61528</td>\n",
       "      <td>31360</td>\n",
       "      <td>30150</td>\n",
       "      <td>18</td>\n",
       "      <td>104.01</td>\n",
       "      <td>6.00</td>\n",
       "      <td>34637</td>\n",
       "      <td>3.06</td>\n",
       "    </tr>\n",
       "    <tr>\n",
       "      <th>3</th>\n",
       "      <td>PUNJAB</td>\n",
       "      <td>BAHAWALPUR DIVISION</td>\n",
       "      <td>BAHAWALNAGAR DISTRICT</td>\n",
       "      <td>HAROONABAD TEHSIL</td>\n",
       "      <td>1295.0</td>\n",
       "      <td>382115</td>\n",
       "      <td>192278</td>\n",
       "      <td>189808</td>\n",
       "      <td>29</td>\n",
       "      <td>101.30</td>\n",
       "      <td>...</td>\n",
       "      <td>297343</td>\n",
       "      <td>1.33</td>\n",
       "      <td>142600</td>\n",
       "      <td>71345</td>\n",
       "      <td>71236</td>\n",
       "      <td>19</td>\n",
       "      <td>100.15</td>\n",
       "      <td>6.02</td>\n",
       "      <td>84424</td>\n",
       "      <td>2.79</td>\n",
       "    </tr>\n",
       "    <tr>\n",
       "      <th>4</th>\n",
       "      <td>PUNJAB</td>\n",
       "      <td>BAHAWALPUR DIVISION</td>\n",
       "      <td>BAHAWALNAGAR DISTRICT</td>\n",
       "      <td>MINCHINABAD TEHSIL</td>\n",
       "      <td>1818.0</td>\n",
       "      <td>452723</td>\n",
       "      <td>231506</td>\n",
       "      <td>221178</td>\n",
       "      <td>39</td>\n",
       "      <td>104.67</td>\n",
       "      <td>...</td>\n",
       "      <td>316593</td>\n",
       "      <td>1.90</td>\n",
       "      <td>72294</td>\n",
       "      <td>36694</td>\n",
       "      <td>35590</td>\n",
       "      <td>10</td>\n",
       "      <td>103.10</td>\n",
       "      <td>6.34</td>\n",
       "      <td>37668</td>\n",
       "      <td>3.48</td>\n",
       "    </tr>\n",
       "  </tbody>\n",
       "</table>\n",
       "<p>5 rows × 21 columns</p>\n",
       "</div>"
      ],
      "text/plain": [
       "  PROVINCE             DIVISION               DISTRICT         SUB DIVISION  \\\n",
       "0   PUNJAB  BAHAWALPUR DIVISION  BAHAWALNAGAR DISTRICT  BAHAWALNAGAR TEHSIL   \n",
       "1   PUNJAB  BAHAWALPUR DIVISION  BAHAWALNAGAR DISTRICT     CHISHTIAN TEHSIL   \n",
       "2   PUNJAB  BAHAWALPUR DIVISION  BAHAWALNAGAR DISTRICT    FORT ABBAS TEHSIL   \n",
       "3   PUNJAB  BAHAWALPUR DIVISION  BAHAWALNAGAR DISTRICT    HAROONABAD TEHSIL   \n",
       "4   PUNJAB  BAHAWALPUR DIVISION  BAHAWALNAGAR DISTRICT   MINCHINABAD TEHSIL   \n",
       "\n",
       "   AREA (sq.km)  ALL SEXES (RURAL)  MALE (RURAL)  FEMALE (RURAL)  \\\n",
       "0        1729.0             619550        316864          302644   \n",
       "1        1500.0             540342        273788          266500   \n",
       "2        2536.0             361240        182655          178541   \n",
       "3        1295.0             382115        192278          189808   \n",
       "4        1818.0             452723        231506          221178   \n",
       "\n",
       "   TRANSGENDER (RURAL)  SEX RATIO (RURAL)  ...  POPULATION 1998 (RURAL)  \\\n",
       "0                   42             104.70  ...                   407768   \n",
       "1                   54             102.73  ...                   395983   \n",
       "2                   44             102.30  ...                   250959   \n",
       "3                   29             101.30  ...                   297343   \n",
       "4                   39             104.67  ...                   316593   \n",
       "\n",
       "   ANNUAL GROWTH RATE (RURAL)  ALL SEXES (URBAN)  MALE (URBAN)  \\\n",
       "0                        2.22             193840         98391   \n",
       "1                        1.65             149424         75546   \n",
       "2                        1.93              61528         31360   \n",
       "3                        1.33             142600         71345   \n",
       "4                        1.90              72294         36694   \n",
       "\n",
       "   FEMALE (URBAN)  TRANSGENDER (URBAN)  SEX RATIO (URBAN)  \\\n",
       "0           95402                   47             103.13   \n",
       "1           73851                   27             102.30   \n",
       "2           30150                   18             104.01   \n",
       "3           71236                   19             100.15   \n",
       "4           35590                   10             103.10   \n",
       "\n",
       "   AVG HOUSEHOLD SIZE (URBAN)  POPULATION 1998 (URBAN)  \\\n",
       "0                        6.02                   133785   \n",
       "1                        6.01                   102287   \n",
       "2                        6.00                    34637   \n",
       "3                        6.02                    84424   \n",
       "4                        6.34                    37668   \n",
       "\n",
       "   ANNUAL GROWTH RATE (URBAN)  \n",
       "0                        1.97  \n",
       "1                        2.01  \n",
       "2                        3.06  \n",
       "3                        2.79  \n",
       "4                        3.48  \n",
       "\n",
       "[5 rows x 21 columns]"
      ]
     },
     "execution_count": 7,
     "metadata": {},
     "output_type": "execute_result"
    }
   ],
   "source": [
    "df.head()"
   ]
  },
  {
   "cell_type": "code",
   "execution_count": 8,
   "id": "1a20e254",
   "metadata": {},
   "outputs": [],
   "source": [
    "# max columns printing option\n",
    "pd.set_option('display.max_columns', None)"
   ]
  },
  {
   "cell_type": "code",
   "execution_count": null,
   "id": "222ede70",
   "metadata": {},
   "outputs": [],
   "source": []
  }
 ],
 "metadata": {
  "kernelspec": {
   "display_name": "python_eda",
   "language": "python",
   "name": "python3"
  },
  "language_info": {
   "codemirror_mode": {
    "name": "ipython",
    "version": 3
   },
   "file_extension": ".py",
   "mimetype": "text/x-python",
   "name": "python",
   "nbconvert_exporter": "python",
   "pygments_lexer": "ipython3",
   "version": "3.13.5"
  }
 },
 "nbformat": 4,
 "nbformat_minor": 5
}
