{
 "cells": [
  {
   "cell_type": "markdown",
   "id": "9bfc1028",
   "metadata": {},
   "source": [
    "# Automatic EDA using `ydata_profiling`"
   ]
  },
  {
   "cell_type": "code",
   "execution_count": 1,
   "id": "59a9d65e",
   "metadata": {},
   "outputs": [],
   "source": [
    "\n",
    "# pip install pandas seaborn ydata_profiling numpy skimpy\n"
   ]
  },
  {
   "cell_type": "code",
   "execution_count": 2,
   "id": "ccfc9863",
   "metadata": {},
   "outputs": [],
   "source": [
    "# pip install numpy==1.24.4\n"
   ]
  },
  {
   "cell_type": "markdown",
   "id": "67d6ab0a",
   "metadata": {},
   "source": [
    "np.version"
   ]
  },
  {
   "cell_type": "code",
   "execution_count": 3,
   "id": "077d5997",
   "metadata": {},
   "outputs": [],
   "source": [
    "# import pandas as pd\n",
    "# import seaborn as sns\n",
    "# import ydata_profiling as yd\n"
   ]
  },
  {
   "cell_type": "code",
   "execution_count": 4,
   "id": "3be058f8",
   "metadata": {},
   "outputs": [],
   "source": [
    "# df = sns.load_dataset('titanic')\n",
    "# df = pd.read_csv('pak_pop.csv')"
   ]
  },
  {
   "cell_type": "markdown",
   "id": "268f6c40",
   "metadata": {},
   "source": [
    "#   Automatic data analysic on titanic"
   ]
  },
  {
   "cell_type": "code",
   "execution_count": 5,
   "id": "daeb920f",
   "metadata": {},
   "outputs": [],
   "source": [
    "# ydata profiling report\n",
    "# profile = yd.ProfileReport(df)\n",
    "# profile.to_file(output_file='(03_ydata_titanic.html')"
   ]
  },
  {
   "cell_type": "markdown",
   "id": "cb603aec",
   "metadata": {},
   "source": [
    "#  Automatic data analysic on pakistan population"
   ]
  },
  {
   "cell_type": "code",
   "execution_count": 6,
   "id": "f9261798",
   "metadata": {},
   "outputs": [],
   "source": [
    "\n",
    "# profile = yd.ProfileReport(df)\n",
    "# profile.to_file(output_file='\\(03_ydata_pak_pop.html')"
   ]
  },
  {
   "cell_type": "markdown",
   "id": "b055b3fa",
   "metadata": {},
   "source": [
    "# How to do Skimig to the Data?"
   ]
  },
  {
   "cell_type": "code",
   "execution_count": 7,
   "id": "c803455d",
   "metadata": {},
   "outputs": [],
   "source": [
    "# impote library \n",
    "import pandas as pd\n",
    "# import seaborn as sns\n",
    "from skimpy import skim\n"
   ]
  },
  {
   "cell_type": "code",
   "execution_count": 8,
   "id": "462ccf57",
   "metadata": {},
   "outputs": [],
   "source": [
    "df = pd.read_csv('pak_pop.csv')"
   ]
  },
  {
   "cell_type": "code",
   "execution_count": 9,
   "id": "44c5855d",
   "metadata": {},
   "outputs": [
    {
     "name": "stdout",
     "output_type": "stream",
     "text": [
      "0.0.18\n"
     ]
    }
   ],
   "source": [
    "import skimpy\n",
    "print(skimpy.__version__)"
   ]
  },
  {
   "cell_type": "code",
   "execution_count": 10,
   "id": "335ca216",
   "metadata": {},
   "outputs": [
    {
     "data": {
      "text/html": [
       "<pre style=\"white-space:pre;overflow-x:auto;line-height:normal;font-family:Menlo,'DejaVu Sans Mono',consolas,'Courier New',monospace\">╭──────────────────────────────────────────────── skimpy summary ─────────────────────────────────────────────────╮\n",
       "│ <span style=\"font-style: italic\">         Data Summary         </span> <span style=\"font-style: italic\">      Data Types       </span>                                                          │\n",
       "│ ┏━━━━━━━━━━━━━━━━━━━┳━━━━━━━━┓ ┏━━━━━━━━━━━━━┳━━━━━━━┓                                                          │\n",
       "│ ┃<span style=\"color: #008080; text-decoration-color: #008080; font-weight: bold\"> Dataframe         </span>┃<span style=\"color: #008080; text-decoration-color: #008080; font-weight: bold\"> Values </span>┃ ┃<span style=\"color: #008080; text-decoration-color: #008080; font-weight: bold\"> Column Type </span>┃<span style=\"color: #008080; text-decoration-color: #008080; font-weight: bold\"> Count </span>┃                                                          │\n",
       "│ ┡━━━━━━━━━━━━━━━━━━━╇━━━━━━━━┩ ┡━━━━━━━━━━━━━╇━━━━━━━┩                                                          │\n",
       "│ │ Number of rows    │ 528    │ │ int64       │ 10    │                                                          │\n",
       "│ │ Number of columns │ 21     │ │ float64     │ 7     │                                                          │\n",
       "│ └───────────────────┴────────┘ │ string      │ 4     │                                                          │\n",
       "│                                └─────────────┴───────┘                                                          │\n",
       "│ <span style=\"font-style: italic\">                                                    number                                                    </span>  │\n",
       "│ ┏━━━━━━━━━━━━━━━━━━━━━━━━┳━━━━━┳━━━━━━━┳━━━━━━━━━┳━━━━━━━━━┳━━━━┳━━━━━━━┳━━━━━━━━┳━━━━━━━━┳━━━━━━━━━┳━━━━━━━━┓  │\n",
       "│ ┃<span style=\"font-weight: bold\"> column                 </span>┃<span style=\"font-weight: bold\"> NA  </span>┃<span style=\"font-weight: bold\"> NA %  </span>┃<span style=\"font-weight: bold\"> mean    </span>┃<span style=\"font-weight: bold\"> sd      </span>┃<span style=\"font-weight: bold\"> p0 </span>┃<span style=\"font-weight: bold\"> p25   </span>┃<span style=\"font-weight: bold\"> p50    </span>┃<span style=\"font-weight: bold\"> p75    </span>┃<span style=\"font-weight: bold\"> p100    </span>┃<span style=\"font-weight: bold\"> hist   </span>┃  │\n",
       "│ ┡━━━━━━━━━━━━━━━━━━━━━━━━╇━━━━━╇━━━━━━━╇━━━━━━━━━╇━━━━━━━━━╇━━━━╇━━━━━━━╇━━━━━━━━╇━━━━━━━━╇━━━━━━━━━╇━━━━━━━━┩  │\n",
       "│ │ <span style=\"color: #af87ff; text-decoration-color: #af87ff\">AREA (sq.km)          </span> │ <span style=\"color: #008080; text-decoration-color: #008080\">  0</span> │ <span style=\"color: #008080; text-decoration-color: #008080\">    0</span> │ <span style=\"color: #008080; text-decoration-color: #008080\">   1492</span> │ <span style=\"color: #008080; text-decoration-color: #008080\">   2039</span> │ <span style=\"color: #008080; text-decoration-color: #008080\"> 0</span> │ <span style=\"color: #008080; text-decoration-color: #008080\">  425</span> │ <span style=\"color: #008080; text-decoration-color: #008080\">   882</span> │ <span style=\"color: #008080; text-decoration-color: #008080\">  1734</span> │ <span style=\"color: #008080; text-decoration-color: #008080\">  18370</span> │ <span style=\"color: #008000; text-decoration-color: #008000\">  █▁  </span> │  │\n",
       "│ │ <span style=\"color: #af87ff; text-decoration-color: #af87ff\">ALL SEXES (RURAL)     </span> │ <span style=\"color: #008080; text-decoration-color: #008080\">  0</span> │ <span style=\"color: #008080; text-decoration-color: #008080\">    0</span> │ <span style=\"color: #008080; text-decoration-color: #008080\"> 246300</span> │ <span style=\"color: #008080; text-decoration-color: #008080\"> 271200</span> │ <span style=\"color: #008080; text-decoration-color: #008080\"> 0</span> │ <span style=\"color: #008080; text-decoration-color: #008080\">50930</span> │ <span style=\"color: #008080; text-decoration-color: #008080\">165200</span> │ <span style=\"color: #008080; text-decoration-color: #008080\">312900</span> │ <span style=\"color: #008080; text-decoration-color: #008080\">2297000</span> │ <span style=\"color: #008000; text-decoration-color: #008000\">  █▁  </span> │  │\n",
       "│ │ <span style=\"color: #af87ff; text-decoration-color: #af87ff\">MALE (RURAL)          </span> │ <span style=\"color: #008080; text-decoration-color: #008080\">  0</span> │ <span style=\"color: #008080; text-decoration-color: #008080\">    0</span> │ <span style=\"color: #008080; text-decoration-color: #008080\"> 125300</span> │ <span style=\"color: #008080; text-decoration-color: #008080\"> 137600</span> │ <span style=\"color: #008080; text-decoration-color: #008080\"> 0</span> │ <span style=\"color: #008080; text-decoration-color: #008080\">27130</span> │ <span style=\"color: #008080; text-decoration-color: #008080\"> 84130</span> │ <span style=\"color: #008080; text-decoration-color: #008080\">160500</span> │ <span style=\"color: #008080; text-decoration-color: #008080\">1173000</span> │ <span style=\"color: #008000; text-decoration-color: #008000\">  █▁  </span> │  │\n",
       "│ │ <span style=\"color: #af87ff; text-decoration-color: #af87ff\">FEMALE (RURAL)        </span> │ <span style=\"color: #008080; text-decoration-color: #008080\">  0</span> │ <span style=\"color: #008080; text-decoration-color: #008080\">    0</span> │ <span style=\"color: #008080; text-decoration-color: #008080\"> 121000</span> │ <span style=\"color: #008080; text-decoration-color: #008080\"> 133700</span> │ <span style=\"color: #008080; text-decoration-color: #008080\"> 0</span> │ <span style=\"color: #008080; text-decoration-color: #008080\">23980</span> │ <span style=\"color: #008080; text-decoration-color: #008080\"> 82040</span> │ <span style=\"color: #008080; text-decoration-color: #008080\">152200</span> │ <span style=\"color: #008080; text-decoration-color: #008080\">1124000</span> │ <span style=\"color: #008000; text-decoration-color: #008000\">  █▁  </span> │  │\n",
       "│ │ <span style=\"color: #af87ff; text-decoration-color: #af87ff\">TRANSGENDER (RURAL)   </span> │ <span style=\"color: #008080; text-decoration-color: #008080\">  0</span> │ <span style=\"color: #008080; text-decoration-color: #008080\">    0</span> │ <span style=\"color: #008080; text-decoration-color: #008080\">  18.17</span> │ <span style=\"color: #008080; text-decoration-color: #008080\">  25.52</span> │ <span style=\"color: #008080; text-decoration-color: #008080\"> 0</span> │ <span style=\"color: #008080; text-decoration-color: #008080\">    1</span> │ <span style=\"color: #008080; text-decoration-color: #008080\">    10</span> │ <span style=\"color: #008080; text-decoration-color: #008080\">    25</span> │ <span style=\"color: #008080; text-decoration-color: #008080\">    213</span> │ <span style=\"color: #008000; text-decoration-color: #008000\">  █▁  </span> │  │\n",
       "│ │ <span style=\"color: #af87ff; text-decoration-color: #af87ff\">SEX RATIO (RURAL)     </span> │ <span style=\"color: #008080; text-decoration-color: #008080\">  0</span> │ <span style=\"color: #008080; text-decoration-color: #008080\">    0</span> │ <span style=\"color: #008080; text-decoration-color: #008080\">  98.98</span> │ <span style=\"color: #008080; text-decoration-color: #008080\">  26.81</span> │ <span style=\"color: #008080; text-decoration-color: #008080\"> 0</span> │ <span style=\"color: #008080; text-decoration-color: #008080\">101.1</span> │ <span style=\"color: #008080; text-decoration-color: #008080\"> 105.3</span> │ <span style=\"color: #008080; text-decoration-color: #008080\"> 108.3</span> │ <span style=\"color: #008080; text-decoration-color: #008080\">  139.4</span> │ <span style=\"color: #008000; text-decoration-color: #008000\">▁   █▁</span> │  │\n",
       "│ │ <span style=\"color: #af87ff; text-decoration-color: #af87ff\">AVG HOUSEHOLD SIZE    </span> │ <span style=\"color: #008080; text-decoration-color: #008080\">  0</span> │ <span style=\"color: #008080; text-decoration-color: #008080\">    0</span> │ <span style=\"color: #008080; text-decoration-color: #008080\">  6.277</span> │ <span style=\"color: #008080; text-decoration-color: #008080\">  2.075</span> │ <span style=\"color: #008080; text-decoration-color: #008080\"> 0</span> │ <span style=\"color: #008080; text-decoration-color: #008080\">  5.7</span> │ <span style=\"color: #008080; text-decoration-color: #008080\">  6.31</span> │ <span style=\"color: #008080; text-decoration-color: #008080\">   7.2</span> │ <span style=\"color: #008080; text-decoration-color: #008080\">  12.43</span> │ <span style=\"color: #008000; text-decoration-color: #008000\">▁ ▇█▂ </span> │  │\n",
       "│ │ <span style=\"color: #af87ff; text-decoration-color: #af87ff\">(RURAL)               </span> │     │       │         │         │    │       │        │        │         │        │  │\n",
       "│ │ <span style=\"color: #af87ff; text-decoration-color: #af87ff\">POPULATION 1998       </span> │ <span style=\"color: #008080; text-decoration-color: #008080\">  0</span> │ <span style=\"color: #008080; text-decoration-color: #008080\">    0</span> │ <span style=\"color: #008080; text-decoration-color: #008080\"> 167400</span> │ <span style=\"color: #008080; text-decoration-color: #008080\"> 178400</span> │ <span style=\"color: #008080; text-decoration-color: #008080\"> 0</span> │ <span style=\"color: #008080; text-decoration-color: #008080\">35270</span> │ <span style=\"color: #008080; text-decoration-color: #008080\">117200</span> │ <span style=\"color: #008080; text-decoration-color: #008080\">213100</span> │ <span style=\"color: #008080; text-decoration-color: #008080\">1044000</span> │ <span style=\"color: #008000; text-decoration-color: #008000\"> █▃▁▁ </span> │  │\n",
       "│ │ <span style=\"color: #af87ff; text-decoration-color: #af87ff\">(RURAL)               </span> │     │       │         │         │    │       │        │        │         │        │  │\n",
       "│ │ <span style=\"color: #af87ff; text-decoration-color: #af87ff\">ANNUAL GROWTH RATE    </span> │ <span style=\"color: #008080; text-decoration-color: #008080\">  0</span> │ <span style=\"color: #008080; text-decoration-color: #008080\">    0</span> │ <span style=\"color: #008080; text-decoration-color: #008080\">  3.125</span> │ <span style=\"color: #008080; text-decoration-color: #008080\">  9.578</span> │ <span style=\"color: #008080; text-decoration-color: #008080\"> 0</span> │ <span style=\"color: #008080; text-decoration-color: #008080\"> 1.44</span> │ <span style=\"color: #008080; text-decoration-color: #008080\">  2.03</span> │ <span style=\"color: #008080; text-decoration-color: #008080\"> 2.812</span> │ <span style=\"color: #008080; text-decoration-color: #008080\">    100</span> │ <span style=\"color: #008000; text-decoration-color: #008000\">  █   </span> │  │\n",
       "│ │ <span style=\"color: #af87ff; text-decoration-color: #af87ff\">(RURAL)               </span> │     │       │         │         │    │       │        │        │         │        │  │\n",
       "│ │ <span style=\"color: #af87ff; text-decoration-color: #af87ff\">ALL SEXES (URBAN)     </span> │ <span style=\"color: #008080; text-decoration-color: #008080\">  0</span> │ <span style=\"color: #008080; text-decoration-color: #008080\">    0</span> │ <span style=\"color: #008080; text-decoration-color: #008080\"> 140900</span> │ <span style=\"color: #008080; text-decoration-color: #008080\"> 351200</span> │ <span style=\"color: #008080; text-decoration-color: #008080\"> 0</span> │ <span style=\"color: #008080; text-decoration-color: #008080\">    0</span> │ <span style=\"color: #008080; text-decoration-color: #008080\"> 43250</span> │ <span style=\"color: #008080; text-decoration-color: #008080\">117800</span> │ <span style=\"color: #008080; text-decoration-color: #008080\">3654000</span> │ <span style=\"color: #008000; text-decoration-color: #008000\">  █   </span> │  │\n",
       "│ │ <span style=\"color: #af87ff; text-decoration-color: #af87ff\">MALE (URBAN)          </span> │ <span style=\"color: #008080; text-decoration-color: #008080\">  0</span> │ <span style=\"color: #008080; text-decoration-color: #008080\">    0</span> │ <span style=\"color: #008080; text-decoration-color: #008080\">  72840</span> │ <span style=\"color: #008080; text-decoration-color: #008080\"> 182300</span> │ <span style=\"color: #008080; text-decoration-color: #008080\"> 0</span> │ <span style=\"color: #008080; text-decoration-color: #008080\">    0</span> │ <span style=\"color: #008080; text-decoration-color: #008080\"> 21980</span> │ <span style=\"color: #008080; text-decoration-color: #008080\"> 60300</span> │ <span style=\"color: #008080; text-decoration-color: #008080\">1906000</span> │ <span style=\"color: #008000; text-decoration-color: #008000\">  █   </span> │  │\n",
       "│ │ <span style=\"color: #af87ff; text-decoration-color: #af87ff\">FEMALE (URBAN)        </span> │ <span style=\"color: #008080; text-decoration-color: #008080\">  0</span> │ <span style=\"color: #008080; text-decoration-color: #008080\">    0</span> │ <span style=\"color: #008080; text-decoration-color: #008080\">  68000</span> │ <span style=\"color: #008080; text-decoration-color: #008080\"> 168900</span> │ <span style=\"color: #008080; text-decoration-color: #008080\"> 0</span> │ <span style=\"color: #008080; text-decoration-color: #008080\">    0</span> │ <span style=\"color: #008080; text-decoration-color: #008080\"> 21000</span> │ <span style=\"color: #008080; text-decoration-color: #008080\"> 57470</span> │ <span style=\"color: #008080; text-decoration-color: #008080\">1747000</span> │ <span style=\"color: #008000; text-decoration-color: #008000\">  █   </span> │  │\n",
       "│ │ <span style=\"color: #af87ff; text-decoration-color: #af87ff\">TRANSGENDER (URBAN)   </span> │ <span style=\"color: #008080; text-decoration-color: #008080\">  0</span> │ <span style=\"color: #008080; text-decoration-color: #008080\">    0</span> │ <span style=\"color: #008080; text-decoration-color: #008080\">  22.28</span> │ <span style=\"color: #008080; text-decoration-color: #008080\">  66.07</span> │ <span style=\"color: #008080; text-decoration-color: #008080\"> 0</span> │ <span style=\"color: #008080; text-decoration-color: #008080\">    0</span> │ <span style=\"color: #008080; text-decoration-color: #008080\">     3</span> │ <span style=\"color: #008080; text-decoration-color: #008080\">    19</span> │ <span style=\"color: #008080; text-decoration-color: #008080\">    795</span> │ <span style=\"color: #008000; text-decoration-color: #008000\">  █   </span> │  │\n",
       "│ │ <span style=\"color: #af87ff; text-decoration-color: #af87ff\">SEX RATIO (URBAN)     </span> │ <span style=\"color: #008080; text-decoration-color: #008080\">  0</span> │ <span style=\"color: #008080; text-decoration-color: #008080\">    0</span> │ <span style=\"color: #008080; text-decoration-color: #008080\">  75.41</span> │ <span style=\"color: #008080; text-decoration-color: #008080\">  49.69</span> │ <span style=\"color: #008080; text-decoration-color: #008080\"> 0</span> │ <span style=\"color: #008080; text-decoration-color: #008080\">    0</span> │ <span style=\"color: #008080; text-decoration-color: #008080\"> 103.2</span> │ <span style=\"color: #008080; text-decoration-color: #008080\">   107</span> │ <span style=\"color: #008080; text-decoration-color: #008080\">  297.8</span> │ <span style=\"color: #008000; text-decoration-color: #008000\"> ▄▁█  </span> │  │\n",
       "│ │ <span style=\"color: #af87ff; text-decoration-color: #af87ff\">AVG HOUSEHOLD SIZE    </span> │ <span style=\"color: #008080; text-decoration-color: #008080\">  0</span> │ <span style=\"color: #008080; text-decoration-color: #008080\">    0</span> │ <span style=\"color: #008080; text-decoration-color: #008080\">  4.406</span> │ <span style=\"color: #008080; text-decoration-color: #008080\">  2.948</span> │ <span style=\"color: #008080; text-decoration-color: #008080\"> 0</span> │ <span style=\"color: #008080; text-decoration-color: #008080\">    0</span> │ <span style=\"color: #008080; text-decoration-color: #008080\"> 5.755</span> │ <span style=\"color: #008080; text-decoration-color: #008080\">  6.34</span> │ <span style=\"color: #008080; text-decoration-color: #008080\">  10.06</span> │ <span style=\"color: #008000; text-decoration-color: #008000\">▅ ▁█▂ </span> │  │\n",
       "│ │ <span style=\"color: #af87ff; text-decoration-color: #af87ff\">(URBAN)               </span> │     │       │         │         │    │       │        │        │         │        │  │\n",
       "│ │ <span style=\"color: #af87ff; text-decoration-color: #af87ff\">POPULATION 1998       </span> │ <span style=\"color: #008080; text-decoration-color: #008080\">  0</span> │ <span style=\"color: #008080; text-decoration-color: #008080\">    0</span> │ <span style=\"color: #008080; text-decoration-color: #008080\">  80140</span> │ <span style=\"color: #008080; text-decoration-color: #008080\"> 202300</span> │ <span style=\"color: #008080; text-decoration-color: #008080\"> 0</span> │ <span style=\"color: #008080; text-decoration-color: #008080\">    0</span> │ <span style=\"color: #008080; text-decoration-color: #008080\"> 21300</span> │ <span style=\"color: #008080; text-decoration-color: #008080\"> 65420</span> │ <span style=\"color: #008080; text-decoration-color: #008080\">2076000</span> │ <span style=\"color: #008000; text-decoration-color: #008000\">  █   </span> │  │\n",
       "│ │ <span style=\"color: #af87ff; text-decoration-color: #af87ff\">(URBAN)               </span> │     │       │         │         │    │       │        │        │         │        │  │\n",
       "│ │ <span style=\"color: #af87ff; text-decoration-color: #af87ff\">ANNUAL GROWTH RATE    </span> │ <span style=\"color: #008080; text-decoration-color: #008080\">  0</span> │ <span style=\"color: #008080; text-decoration-color: #008080\">    0</span> │ <span style=\"color: #008080; text-decoration-color: #008080\">  1.921</span> │ <span style=\"color: #008080; text-decoration-color: #008080\">  2.099</span> │ <span style=\"color: #008080; text-decoration-color: #008080\"> 0</span> │ <span style=\"color: #008080; text-decoration-color: #008080\">    0</span> │ <span style=\"color: #008080; text-decoration-color: #008080\"> 1.855</span> │ <span style=\"color: #008080; text-decoration-color: #008080\"> 2.985</span> │ <span style=\"color: #008080; text-decoration-color: #008080\">  19.78</span> │ <span style=\"color: #008000; text-decoration-color: #008000\">  █▂  </span> │  │\n",
       "│ │ <span style=\"color: #af87ff; text-decoration-color: #af87ff\">(URBAN)               </span> │     │       │         │         │    │       │        │        │         │        │  │\n",
       "│ └────────────────────────┴─────┴───────┴─────────┴─────────┴────┴───────┴────────┴────────┴─────────┴────────┘  │\n",
       "│ <span style=\"font-style: italic\">                                                    string                                                    </span>  │\n",
       "│ ┏━━━━━━━━━━━┳━━━━┳━━━━━━┳━━━━━━━━━━━┳━━━━━━━━━━━┳━━━━━━━━━━━┳━━━━━━━━━━━┳━━━━━━━━━━━┳━━━━━━━━━━━┳━━━━━━━━━━━━┓  │\n",
       "│ ┃<span style=\"font-weight: bold\">           </span>┃<span style=\"font-weight: bold\">    </span>┃<span style=\"font-weight: bold\">      </span>┃<span style=\"font-weight: bold\">           </span>┃<span style=\"font-weight: bold\">           </span>┃<span style=\"font-weight: bold\">           </span>┃<span style=\"font-weight: bold\">           </span>┃<span style=\"font-weight: bold\"> chars per </span>┃<span style=\"font-weight: bold\"> words per </span>┃<span style=\"font-weight: bold\"> total      </span>┃  │\n",
       "│ ┃<span style=\"font-weight: bold\"> column    </span>┃<span style=\"font-weight: bold\"> NA </span>┃<span style=\"font-weight: bold\"> NA % </span>┃<span style=\"font-weight: bold\"> shortest  </span>┃<span style=\"font-weight: bold\"> longest   </span>┃<span style=\"font-weight: bold\"> min       </span>┃<span style=\"font-weight: bold\"> max       </span>┃<span style=\"font-weight: bold\"> row       </span>┃<span style=\"font-weight: bold\"> row       </span>┃<span style=\"font-weight: bold\"> words      </span>┃  │\n",
       "│ ┡━━━━━━━━━━━╇━━━━╇━━━━━━╇━━━━━━━━━━━╇━━━━━━━━━━━╇━━━━━━━━━━━╇━━━━━━━━━━━╇━━━━━━━━━━━╇━━━━━━━━━━━╇━━━━━━━━━━━━┩  │\n",
       "│ │ <span style=\"color: #af87ff; text-decoration-color: #af87ff\">PROVINCE </span> │ <span style=\"color: #008080; text-decoration-color: #008080\"> 0</span> │ <span style=\"color: #008080; text-decoration-color: #008080\">   0</span> │ <span style=\"color: #af87ff; text-decoration-color: #af87ff\">KPK      </span> │ <span style=\"color: #af87ff; text-decoration-color: #af87ff\">BALOCHIST</span> │ <span style=\"color: #af87ff; text-decoration-color: #af87ff\">BALOCHIST</span> │ <span style=\"color: #af87ff; text-decoration-color: #af87ff\">SINDH    </span> │ <span style=\"color: #008080; text-decoration-color: #008080\">     6.75</span> │ <span style=\"color: #008080; text-decoration-color: #008080\">        1</span> │ <span style=\"color: #008080; text-decoration-color: #008080\">       528</span> │  │\n",
       "│ │           │    │      │           │ <span style=\"color: #af87ff; text-decoration-color: #af87ff\">AN       </span> │ <span style=\"color: #af87ff; text-decoration-color: #af87ff\">AN       </span> │           │           │           │            │  │\n",
       "│ │ <span style=\"color: #af87ff; text-decoration-color: #af87ff\">DIVISION </span> │ <span style=\"color: #008080; text-decoration-color: #008080\"> 0</span> │ <span style=\"color: #008080; text-decoration-color: #008080\">   0</span> │ <span style=\"color: #af87ff; text-decoration-color: #af87ff\">Zhob     </span> │ <span style=\"color: #af87ff; text-decoration-color: #af87ff\">Shaheed  </span> │ <span style=\"color: #af87ff; text-decoration-color: #af87ff\">BAHAWALPU</span> │ <span style=\"color: #af87ff; text-decoration-color: #af87ff\">Zhob     </span> │ <span style=\"color: #008080; text-decoration-color: #008080\">     16.9</span> │ <span style=\"color: #008080; text-decoration-color: #008080\">      2.1</span> │ <span style=\"color: #008080; text-decoration-color: #008080\">      1101</span> │  │\n",
       "│ │           │    │      │ <span style=\"color: #af87ff; text-decoration-color: #af87ff\">Division </span> │ <span style=\"color: #af87ff; text-decoration-color: #af87ff\">Benazirab</span> │ <span style=\"color: #af87ff; text-decoration-color: #af87ff\">R        </span> │ <span style=\"color: #af87ff; text-decoration-color: #af87ff\">Division </span> │           │           │            │  │\n",
       "│ │           │    │      │           │ <span style=\"color: #af87ff; text-decoration-color: #af87ff\">ad       </span> │ <span style=\"color: #af87ff; text-decoration-color: #af87ff\">DIVISION </span> │           │           │           │            │  │\n",
       "│ │           │    │      │           │ <span style=\"color: #af87ff; text-decoration-color: #af87ff\">Division </span> │           │           │           │           │            │  │\n",
       "│ │ <span style=\"color: #af87ff; text-decoration-color: #af87ff\">DISTRICT </span> │ <span style=\"color: #008080; text-decoration-color: #008080\"> 0</span> │ <span style=\"color: #008080; text-decoration-color: #008080\">   0</span> │ <span style=\"color: #af87ff; text-decoration-color: #af87ff\">DADU     </span> │ <span style=\"color: #af87ff; text-decoration-color: #af87ff\">TANDO    </span> │ <span style=\"color: #af87ff; text-decoration-color: #af87ff\">ABBOTTABA</span> │ <span style=\"color: #af87ff; text-decoration-color: #af87ff\">ZIARAT   </span> │ <span style=\"color: #008080; text-decoration-color: #008080\">     17.6</span> │ <span style=\"color: #008080; text-decoration-color: #008080\">      2.3</span> │ <span style=\"color: #008080; text-decoration-color: #008080\">      1216</span> │  │\n",
       "│ │           │    │      │ <span style=\"color: #af87ff; text-decoration-color: #af87ff\">DISTRICT </span> │ <span style=\"color: #af87ff; text-decoration-color: #af87ff\">MUHAMMAD </span> │ <span style=\"color: #af87ff; text-decoration-color: #af87ff\">D        </span> │ <span style=\"color: #af87ff; text-decoration-color: #af87ff\">DISTRICT </span> │           │           │            │  │\n",
       "│ │           │    │      │           │ <span style=\"color: #af87ff; text-decoration-color: #af87ff\">KHAN     </span> │ <span style=\"color: #af87ff; text-decoration-color: #af87ff\">DISTRICT </span> │           │           │           │            │  │\n",
       "│ │           │    │      │           │ <span style=\"color: #af87ff; text-decoration-color: #af87ff\">DISTRICT </span> │           │           │           │           │            │  │\n",
       "│ │ <span style=\"color: #af87ff; text-decoration-color: #af87ff\">SUB      </span> │ <span style=\"color: #008080; text-decoration-color: #008080\"> 0</span> │ <span style=\"color: #008080; text-decoration-color: #008080\">   0</span> │ <span style=\"color: #af87ff; text-decoration-color: #af87ff\">FR BANNU </span> │ <span style=\"color: #af87ff; text-decoration-color: #af87ff\">KHAIRPUR </span> │ <span style=\"color: #af87ff; text-decoration-color: #af87ff\">18-HAZARI</span> │ <span style=\"color: #af87ff; text-decoration-color: #af87ff\">ZIARAT   </span> │ <span style=\"color: #008080; text-decoration-color: #008080\">     15.7</span> │ <span style=\"color: #008080; text-decoration-color: #008080\">      2.3</span> │ <span style=\"color: #008080; text-decoration-color: #008080\">      1232</span> │  │\n",
       "│ │ <span style=\"color: #af87ff; text-decoration-color: #af87ff\">DIVISION </span> │    │      │           │ <span style=\"color: #af87ff; text-decoration-color: #af87ff\">NATHAN   </span> │ <span style=\"color: #af87ff; text-decoration-color: #af87ff\">TEHSIL   </span> │ <span style=\"color: #af87ff; text-decoration-color: #af87ff\">TEHSIL   </span> │           │           │            │  │\n",
       "│ │           │    │      │           │ <span style=\"color: #af87ff; text-decoration-color: #af87ff\">SHAH     </span> │           │           │           │           │            │  │\n",
       "│ │           │    │      │           │ <span style=\"color: #af87ff; text-decoration-color: #af87ff\">TALUKA   </span> │           │           │           │           │            │  │\n",
       "│ └───────────┴────┴──────┴───────────┴───────────┴───────────┴───────────┴───────────┴───────────┴────────────┘  │\n",
       "╰────────────────────────────────────────────────────── End ──────────────────────────────────────────────────────╯\n",
       "</pre>\n"
      ],
      "text/plain": [
       "╭──────────────────────────────────────────────── skimpy summary ─────────────────────────────────────────────────╮\n",
       "│ \u001b[3m         Data Summary         \u001b[0m \u001b[3m      Data Types       \u001b[0m                                                          │\n",
       "│ ┏━━━━━━━━━━━━━━━━━━━┳━━━━━━━━┓ ┏━━━━━━━━━━━━━┳━━━━━━━┓                                                          │\n",
       "│ ┃\u001b[1;36m \u001b[0m\u001b[1;36mDataframe        \u001b[0m\u001b[1;36m \u001b[0m┃\u001b[1;36m \u001b[0m\u001b[1;36mValues\u001b[0m\u001b[1;36m \u001b[0m┃ ┃\u001b[1;36m \u001b[0m\u001b[1;36mColumn Type\u001b[0m\u001b[1;36m \u001b[0m┃\u001b[1;36m \u001b[0m\u001b[1;36mCount\u001b[0m\u001b[1;36m \u001b[0m┃                                                          │\n",
       "│ ┡━━━━━━━━━━━━━━━━━━━╇━━━━━━━━┩ ┡━━━━━━━━━━━━━╇━━━━━━━┩                                                          │\n",
       "│ │ Number of rows    │ 528    │ │ int64       │ 10    │                                                          │\n",
       "│ │ Number of columns │ 21     │ │ float64     │ 7     │                                                          │\n",
       "│ └───────────────────┴────────┘ │ string      │ 4     │                                                          │\n",
       "│                                └─────────────┴───────┘                                                          │\n",
       "│ \u001b[3m                                                    number                                                    \u001b[0m  │\n",
       "│ ┏━━━━━━━━━━━━━━━━━━━━━━━━┳━━━━━┳━━━━━━━┳━━━━━━━━━┳━━━━━━━━━┳━━━━┳━━━━━━━┳━━━━━━━━┳━━━━━━━━┳━━━━━━━━━┳━━━━━━━━┓  │\n",
       "│ ┃\u001b[1m \u001b[0m\u001b[1mcolumn                \u001b[0m\u001b[1m \u001b[0m┃\u001b[1m \u001b[0m\u001b[1mNA \u001b[0m\u001b[1m \u001b[0m┃\u001b[1m \u001b[0m\u001b[1mNA % \u001b[0m\u001b[1m \u001b[0m┃\u001b[1m \u001b[0m\u001b[1mmean   \u001b[0m\u001b[1m \u001b[0m┃\u001b[1m \u001b[0m\u001b[1msd     \u001b[0m\u001b[1m \u001b[0m┃\u001b[1m \u001b[0m\u001b[1mp0\u001b[0m\u001b[1m \u001b[0m┃\u001b[1m \u001b[0m\u001b[1mp25  \u001b[0m\u001b[1m \u001b[0m┃\u001b[1m \u001b[0m\u001b[1mp50   \u001b[0m\u001b[1m \u001b[0m┃\u001b[1m \u001b[0m\u001b[1mp75   \u001b[0m\u001b[1m \u001b[0m┃\u001b[1m \u001b[0m\u001b[1mp100   \u001b[0m\u001b[1m \u001b[0m┃\u001b[1m \u001b[0m\u001b[1mhist  \u001b[0m\u001b[1m \u001b[0m┃  │\n",
       "│ ┡━━━━━━━━━━━━━━━━━━━━━━━━╇━━━━━╇━━━━━━━╇━━━━━━━━━╇━━━━━━━━━╇━━━━╇━━━━━━━╇━━━━━━━━╇━━━━━━━━╇━━━━━━━━━╇━━━━━━━━┩  │\n",
       "│ │ \u001b[38;5;141mAREA (sq.km)          \u001b[0m │ \u001b[36m  0\u001b[0m │ \u001b[36m    0\u001b[0m │ \u001b[36m   1492\u001b[0m │ \u001b[36m   2039\u001b[0m │ \u001b[36m 0\u001b[0m │ \u001b[36m  425\u001b[0m │ \u001b[36m   882\u001b[0m │ \u001b[36m  1734\u001b[0m │ \u001b[36m  18370\u001b[0m │ \u001b[32m  █▁  \u001b[0m │  │\n",
       "│ │ \u001b[38;5;141mALL SEXES (RURAL)     \u001b[0m │ \u001b[36m  0\u001b[0m │ \u001b[36m    0\u001b[0m │ \u001b[36m 246300\u001b[0m │ \u001b[36m 271200\u001b[0m │ \u001b[36m 0\u001b[0m │ \u001b[36m50930\u001b[0m │ \u001b[36m165200\u001b[0m │ \u001b[36m312900\u001b[0m │ \u001b[36m2297000\u001b[0m │ \u001b[32m  █▁  \u001b[0m │  │\n",
       "│ │ \u001b[38;5;141mMALE (RURAL)          \u001b[0m │ \u001b[36m  0\u001b[0m │ \u001b[36m    0\u001b[0m │ \u001b[36m 125300\u001b[0m │ \u001b[36m 137600\u001b[0m │ \u001b[36m 0\u001b[0m │ \u001b[36m27130\u001b[0m │ \u001b[36m 84130\u001b[0m │ \u001b[36m160500\u001b[0m │ \u001b[36m1173000\u001b[0m │ \u001b[32m  █▁  \u001b[0m │  │\n",
       "│ │ \u001b[38;5;141mFEMALE (RURAL)        \u001b[0m │ \u001b[36m  0\u001b[0m │ \u001b[36m    0\u001b[0m │ \u001b[36m 121000\u001b[0m │ \u001b[36m 133700\u001b[0m │ \u001b[36m 0\u001b[0m │ \u001b[36m23980\u001b[0m │ \u001b[36m 82040\u001b[0m │ \u001b[36m152200\u001b[0m │ \u001b[36m1124000\u001b[0m │ \u001b[32m  █▁  \u001b[0m │  │\n",
       "│ │ \u001b[38;5;141mTRANSGENDER (RURAL)   \u001b[0m │ \u001b[36m  0\u001b[0m │ \u001b[36m    0\u001b[0m │ \u001b[36m  18.17\u001b[0m │ \u001b[36m  25.52\u001b[0m │ \u001b[36m 0\u001b[0m │ \u001b[36m    1\u001b[0m │ \u001b[36m    10\u001b[0m │ \u001b[36m    25\u001b[0m │ \u001b[36m    213\u001b[0m │ \u001b[32m  █▁  \u001b[0m │  │\n",
       "│ │ \u001b[38;5;141mSEX RATIO (RURAL)     \u001b[0m │ \u001b[36m  0\u001b[0m │ \u001b[36m    0\u001b[0m │ \u001b[36m  98.98\u001b[0m │ \u001b[36m  26.81\u001b[0m │ \u001b[36m 0\u001b[0m │ \u001b[36m101.1\u001b[0m │ \u001b[36m 105.3\u001b[0m │ \u001b[36m 108.3\u001b[0m │ \u001b[36m  139.4\u001b[0m │ \u001b[32m▁   █▁\u001b[0m │  │\n",
       "│ │ \u001b[38;5;141mAVG HOUSEHOLD SIZE    \u001b[0m │ \u001b[36m  0\u001b[0m │ \u001b[36m    0\u001b[0m │ \u001b[36m  6.277\u001b[0m │ \u001b[36m  2.075\u001b[0m │ \u001b[36m 0\u001b[0m │ \u001b[36m  5.7\u001b[0m │ \u001b[36m  6.31\u001b[0m │ \u001b[36m   7.2\u001b[0m │ \u001b[36m  12.43\u001b[0m │ \u001b[32m▁ ▇█▂ \u001b[0m │  │\n",
       "│ │ \u001b[38;5;141m(RURAL)               \u001b[0m │     │       │         │         │    │       │        │        │         │        │  │\n",
       "│ │ \u001b[38;5;141mPOPULATION 1998       \u001b[0m │ \u001b[36m  0\u001b[0m │ \u001b[36m    0\u001b[0m │ \u001b[36m 167400\u001b[0m │ \u001b[36m 178400\u001b[0m │ \u001b[36m 0\u001b[0m │ \u001b[36m35270\u001b[0m │ \u001b[36m117200\u001b[0m │ \u001b[36m213100\u001b[0m │ \u001b[36m1044000\u001b[0m │ \u001b[32m █▃▁▁ \u001b[0m │  │\n",
       "│ │ \u001b[38;5;141m(RURAL)               \u001b[0m │     │       │         │         │    │       │        │        │         │        │  │\n",
       "│ │ \u001b[38;5;141mANNUAL GROWTH RATE    \u001b[0m │ \u001b[36m  0\u001b[0m │ \u001b[36m    0\u001b[0m │ \u001b[36m  3.125\u001b[0m │ \u001b[36m  9.578\u001b[0m │ \u001b[36m 0\u001b[0m │ \u001b[36m 1.44\u001b[0m │ \u001b[36m  2.03\u001b[0m │ \u001b[36m 2.812\u001b[0m │ \u001b[36m    100\u001b[0m │ \u001b[32m  █   \u001b[0m │  │\n",
       "│ │ \u001b[38;5;141m(RURAL)               \u001b[0m │     │       │         │         │    │       │        │        │         │        │  │\n",
       "│ │ \u001b[38;5;141mALL SEXES (URBAN)     \u001b[0m │ \u001b[36m  0\u001b[0m │ \u001b[36m    0\u001b[0m │ \u001b[36m 140900\u001b[0m │ \u001b[36m 351200\u001b[0m │ \u001b[36m 0\u001b[0m │ \u001b[36m    0\u001b[0m │ \u001b[36m 43250\u001b[0m │ \u001b[36m117800\u001b[0m │ \u001b[36m3654000\u001b[0m │ \u001b[32m  █   \u001b[0m │  │\n",
       "│ │ \u001b[38;5;141mMALE (URBAN)          \u001b[0m │ \u001b[36m  0\u001b[0m │ \u001b[36m    0\u001b[0m │ \u001b[36m  72840\u001b[0m │ \u001b[36m 182300\u001b[0m │ \u001b[36m 0\u001b[0m │ \u001b[36m    0\u001b[0m │ \u001b[36m 21980\u001b[0m │ \u001b[36m 60300\u001b[0m │ \u001b[36m1906000\u001b[0m │ \u001b[32m  █   \u001b[0m │  │\n",
       "│ │ \u001b[38;5;141mFEMALE (URBAN)        \u001b[0m │ \u001b[36m  0\u001b[0m │ \u001b[36m    0\u001b[0m │ \u001b[36m  68000\u001b[0m │ \u001b[36m 168900\u001b[0m │ \u001b[36m 0\u001b[0m │ \u001b[36m    0\u001b[0m │ \u001b[36m 21000\u001b[0m │ \u001b[36m 57470\u001b[0m │ \u001b[36m1747000\u001b[0m │ \u001b[32m  █   \u001b[0m │  │\n",
       "│ │ \u001b[38;5;141mTRANSGENDER (URBAN)   \u001b[0m │ \u001b[36m  0\u001b[0m │ \u001b[36m    0\u001b[0m │ \u001b[36m  22.28\u001b[0m │ \u001b[36m  66.07\u001b[0m │ \u001b[36m 0\u001b[0m │ \u001b[36m    0\u001b[0m │ \u001b[36m     3\u001b[0m │ \u001b[36m    19\u001b[0m │ \u001b[36m    795\u001b[0m │ \u001b[32m  █   \u001b[0m │  │\n",
       "│ │ \u001b[38;5;141mSEX RATIO (URBAN)     \u001b[0m │ \u001b[36m  0\u001b[0m │ \u001b[36m    0\u001b[0m │ \u001b[36m  75.41\u001b[0m │ \u001b[36m  49.69\u001b[0m │ \u001b[36m 0\u001b[0m │ \u001b[36m    0\u001b[0m │ \u001b[36m 103.2\u001b[0m │ \u001b[36m   107\u001b[0m │ \u001b[36m  297.8\u001b[0m │ \u001b[32m ▄▁█  \u001b[0m │  │\n",
       "│ │ \u001b[38;5;141mAVG HOUSEHOLD SIZE    \u001b[0m │ \u001b[36m  0\u001b[0m │ \u001b[36m    0\u001b[0m │ \u001b[36m  4.406\u001b[0m │ \u001b[36m  2.948\u001b[0m │ \u001b[36m 0\u001b[0m │ \u001b[36m    0\u001b[0m │ \u001b[36m 5.755\u001b[0m │ \u001b[36m  6.34\u001b[0m │ \u001b[36m  10.06\u001b[0m │ \u001b[32m▅ ▁█▂ \u001b[0m │  │\n",
       "│ │ \u001b[38;5;141m(URBAN)               \u001b[0m │     │       │         │         │    │       │        │        │         │        │  │\n",
       "│ │ \u001b[38;5;141mPOPULATION 1998       \u001b[0m │ \u001b[36m  0\u001b[0m │ \u001b[36m    0\u001b[0m │ \u001b[36m  80140\u001b[0m │ \u001b[36m 202300\u001b[0m │ \u001b[36m 0\u001b[0m │ \u001b[36m    0\u001b[0m │ \u001b[36m 21300\u001b[0m │ \u001b[36m 65420\u001b[0m │ \u001b[36m2076000\u001b[0m │ \u001b[32m  █   \u001b[0m │  │\n",
       "│ │ \u001b[38;5;141m(URBAN)               \u001b[0m │     │       │         │         │    │       │        │        │         │        │  │\n",
       "│ │ \u001b[38;5;141mANNUAL GROWTH RATE    \u001b[0m │ \u001b[36m  0\u001b[0m │ \u001b[36m    0\u001b[0m │ \u001b[36m  1.921\u001b[0m │ \u001b[36m  2.099\u001b[0m │ \u001b[36m 0\u001b[0m │ \u001b[36m    0\u001b[0m │ \u001b[36m 1.855\u001b[0m │ \u001b[36m 2.985\u001b[0m │ \u001b[36m  19.78\u001b[0m │ \u001b[32m  █▂  \u001b[0m │  │\n",
       "│ │ \u001b[38;5;141m(URBAN)               \u001b[0m │     │       │         │         │    │       │        │        │         │        │  │\n",
       "│ └────────────────────────┴─────┴───────┴─────────┴─────────┴────┴───────┴────────┴────────┴─────────┴────────┘  │\n",
       "│ \u001b[3m                                                    string                                                    \u001b[0m  │\n",
       "│ ┏━━━━━━━━━━━┳━━━━┳━━━━━━┳━━━━━━━━━━━┳━━━━━━━━━━━┳━━━━━━━━━━━┳━━━━━━━━━━━┳━━━━━━━━━━━┳━━━━━━━━━━━┳━━━━━━━━━━━━┓  │\n",
       "│ ┃\u001b[1m           \u001b[0m┃\u001b[1m    \u001b[0m┃\u001b[1m      \u001b[0m┃\u001b[1m           \u001b[0m┃\u001b[1m           \u001b[0m┃\u001b[1m           \u001b[0m┃\u001b[1m           \u001b[0m┃\u001b[1m \u001b[0m\u001b[1mchars per\u001b[0m\u001b[1m \u001b[0m┃\u001b[1m \u001b[0m\u001b[1mwords per\u001b[0m\u001b[1m \u001b[0m┃\u001b[1m \u001b[0m\u001b[1mtotal     \u001b[0m\u001b[1m \u001b[0m┃  │\n",
       "│ ┃\u001b[1m \u001b[0m\u001b[1mcolumn   \u001b[0m\u001b[1m \u001b[0m┃\u001b[1m \u001b[0m\u001b[1mNA\u001b[0m\u001b[1m \u001b[0m┃\u001b[1m \u001b[0m\u001b[1mNA %\u001b[0m\u001b[1m \u001b[0m┃\u001b[1m \u001b[0m\u001b[1mshortest \u001b[0m\u001b[1m \u001b[0m┃\u001b[1m \u001b[0m\u001b[1mlongest  \u001b[0m\u001b[1m \u001b[0m┃\u001b[1m \u001b[0m\u001b[1mmin      \u001b[0m\u001b[1m \u001b[0m┃\u001b[1m \u001b[0m\u001b[1mmax      \u001b[0m\u001b[1m \u001b[0m┃\u001b[1m \u001b[0m\u001b[1mrow      \u001b[0m\u001b[1m \u001b[0m┃\u001b[1m \u001b[0m\u001b[1mrow      \u001b[0m\u001b[1m \u001b[0m┃\u001b[1m \u001b[0m\u001b[1mwords     \u001b[0m\u001b[1m \u001b[0m┃  │\n",
       "│ ┡━━━━━━━━━━━╇━━━━╇━━━━━━╇━━━━━━━━━━━╇━━━━━━━━━━━╇━━━━━━━━━━━╇━━━━━━━━━━━╇━━━━━━━━━━━╇━━━━━━━━━━━╇━━━━━━━━━━━━┩  │\n",
       "│ │ \u001b[38;5;141mPROVINCE \u001b[0m │ \u001b[36m 0\u001b[0m │ \u001b[36m   0\u001b[0m │ \u001b[38;5;141mKPK      \u001b[0m │ \u001b[38;5;141mBALOCHIST\u001b[0m │ \u001b[38;5;141mBALOCHIST\u001b[0m │ \u001b[38;5;141mSINDH    \u001b[0m │ \u001b[36m     6.75\u001b[0m │ \u001b[36m        1\u001b[0m │ \u001b[36m       528\u001b[0m │  │\n",
       "│ │           │    │      │           │ \u001b[38;5;141mAN       \u001b[0m │ \u001b[38;5;141mAN       \u001b[0m │           │           │           │            │  │\n",
       "│ │ \u001b[38;5;141mDIVISION \u001b[0m │ \u001b[36m 0\u001b[0m │ \u001b[36m   0\u001b[0m │ \u001b[38;5;141mZhob     \u001b[0m │ \u001b[38;5;141mShaheed  \u001b[0m │ \u001b[38;5;141mBAHAWALPU\u001b[0m │ \u001b[38;5;141mZhob     \u001b[0m │ \u001b[36m     16.9\u001b[0m │ \u001b[36m      2.1\u001b[0m │ \u001b[36m      1101\u001b[0m │  │\n",
       "│ │           │    │      │ \u001b[38;5;141mDivision \u001b[0m │ \u001b[38;5;141mBenazirab\u001b[0m │ \u001b[38;5;141mR        \u001b[0m │ \u001b[38;5;141mDivision \u001b[0m │           │           │            │  │\n",
       "│ │           │    │      │           │ \u001b[38;5;141mad       \u001b[0m │ \u001b[38;5;141mDIVISION \u001b[0m │           │           │           │            │  │\n",
       "│ │           │    │      │           │ \u001b[38;5;141mDivision \u001b[0m │           │           │           │           │            │  │\n",
       "│ │ \u001b[38;5;141mDISTRICT \u001b[0m │ \u001b[36m 0\u001b[0m │ \u001b[36m   0\u001b[0m │ \u001b[38;5;141mDADU     \u001b[0m │ \u001b[38;5;141mTANDO    \u001b[0m │ \u001b[38;5;141mABBOTTABA\u001b[0m │ \u001b[38;5;141mZIARAT   \u001b[0m │ \u001b[36m     17.6\u001b[0m │ \u001b[36m      2.3\u001b[0m │ \u001b[36m      1216\u001b[0m │  │\n",
       "│ │           │    │      │ \u001b[38;5;141mDISTRICT \u001b[0m │ \u001b[38;5;141mMUHAMMAD \u001b[0m │ \u001b[38;5;141mD        \u001b[0m │ \u001b[38;5;141mDISTRICT \u001b[0m │           │           │            │  │\n",
       "│ │           │    │      │           │ \u001b[38;5;141mKHAN     \u001b[0m │ \u001b[38;5;141mDISTRICT \u001b[0m │           │           │           │            │  │\n",
       "│ │           │    │      │           │ \u001b[38;5;141mDISTRICT \u001b[0m │           │           │           │           │            │  │\n",
       "│ │ \u001b[38;5;141mSUB      \u001b[0m │ \u001b[36m 0\u001b[0m │ \u001b[36m   0\u001b[0m │ \u001b[38;5;141mFR BANNU \u001b[0m │ \u001b[38;5;141mKHAIRPUR \u001b[0m │ \u001b[38;5;141m18-HAZARI\u001b[0m │ \u001b[38;5;141mZIARAT   \u001b[0m │ \u001b[36m     15.7\u001b[0m │ \u001b[36m      2.3\u001b[0m │ \u001b[36m      1232\u001b[0m │  │\n",
       "│ │ \u001b[38;5;141mDIVISION \u001b[0m │    │      │           │ \u001b[38;5;141mNATHAN   \u001b[0m │ \u001b[38;5;141mTEHSIL   \u001b[0m │ \u001b[38;5;141mTEHSIL   \u001b[0m │           │           │            │  │\n",
       "│ │           │    │      │           │ \u001b[38;5;141mSHAH     \u001b[0m │           │           │           │           │            │  │\n",
       "│ │           │    │      │           │ \u001b[38;5;141mTALUKA   \u001b[0m │           │           │           │           │            │  │\n",
       "│ └───────────┴────┴──────┴───────────┴───────────┴───────────┴───────────┴───────────┴───────────┴────────────┘  │\n",
       "╰────────────────────────────────────────────────────── End ──────────────────────────────────────────────────────╯\n"
      ]
     },
     "metadata": {},
     "output_type": "display_data"
    }
   ],
   "source": [
    "from skimpy import skim\n",
    "\n",
    "skim(df)\n"
   ]
  },
  {
   "cell_type": "code",
   "execution_count": null,
   "id": "e7a89d65",
   "metadata": {},
   "outputs": [],
   "source": []
  }
 ],
 "metadata": {
  "kernelspec": {
   "display_name": "skimpy",
   "language": "python",
   "name": "python3"
  },
  "language_info": {
   "codemirror_mode": {
    "name": "ipython",
    "version": 3
   },
   "file_extension": ".py",
   "mimetype": "text/x-python",
   "name": "python",
   "nbconvert_exporter": "python",
   "pygments_lexer": "ipython3",
   "version": "3.11.13"
  }
 },
 "nbformat": 4,
 "nbformat_minor": 5
}
