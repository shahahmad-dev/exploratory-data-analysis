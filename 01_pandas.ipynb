{
 "cells": [
  {
   "cell_type": "markdown",
   "id": "b337a0f9",
   "metadata": {},
   "source": [
    "Pandas (Day-1)\n"
   ]
  },
  {
   "cell_type": "code",
   "execution_count": null,
   "id": "3402de43",
   "metadata": {},
   "outputs": [],
   "source": [
    "# pip install pandas"
   ]
  },
  {
   "cell_type": "code",
   "execution_count": null,
   "id": "b869dfb0",
   "metadata": {},
   "outputs": [],
   "source": [
    "# pip install seaborn"
   ]
  },
  {
   "cell_type": "code",
   "execution_count": null,
   "id": "4ef69d83",
   "metadata": {},
   "outputs": [],
   "source": [
    "# pip install matplotlib"
   ]
  },
  {
   "cell_type": "code",
   "execution_count": null,
   "id": "18c52d29",
   "metadata": {},
   "outputs": [],
   "source": [
    "import pandas as pd\n",
    "import numpy as np\n",
    "import seaborn as sns\n",
    "import matplotlib.pyplot as plt"
   ]
  },
  {
   "cell_type": "code",
   "execution_count": null,
   "id": "65531919",
   "metadata": {},
   "outputs": [],
   "source": [
    "# load the dataset\n",
    "df = sns.load_dataset('titanic')\n",
    "df.head()"
   ]
  },
  {
   "cell_type": "code",
   "execution_count": null,
   "id": "014ed5d1",
   "metadata": {},
   "outputs": [],
   "source": [
    "df.to_csv(\"titanic.xlsx\")"
   ]
  },
  {
   "cell_type": "markdown",
   "id": "f9c7851a",
   "metadata": {},
   "source": [
    "# Find a missing values/null values/NaNA"
   ]
  },
  {
   "cell_type": "code",
   "execution_count": null,
   "id": "80150e51",
   "metadata": {},
   "outputs": [],
   "source": [
    "df.isnull().sum() #sum of the missing values\n",
    "df.isnull().sum() / len(df) * 100 # missing values in percentage"
   ]
  },
  {
   "cell_type": "markdown",
   "id": "311997f9",
   "metadata": {},
   "source": []
  },
  {
   "cell_type": "code",
   "execution_count": null,
   "id": "2668a3a3",
   "metadata": {},
   "outputs": [],
   "source": [
    "sns.heatmap(df.isnull())"
   ]
  },
  {
   "cell_type": "markdown",
   "id": "d0e4f887",
   "metadata": {},
   "source": [
    "# Select unique values"
   ]
  },
  {
   "cell_type": "code",
   "execution_count": null,
   "id": "a6a24338",
   "metadata": {},
   "outputs": [],
   "source": [
    "df['sex'].unique() # selcet 1D array in numpy / in pandas is a series"
   ]
  },
  {
   "cell_type": "code",
   "execution_count": null,
   "id": "95aa24c9",
   "metadata": {},
   "outputs": [],
   "source": [
    "df[['sex', 'age', 'alone']].nunique() #Gives count of unique values in DataFrame\n"
   ]
  },
  {
   "cell_type": "code",
   "execution_count": null,
   "id": "af1e3a8a",
   "metadata": {},
   "outputs": [],
   "source": [
    "# Both are same thing\n",
    "df['sex'].unique()\n",
    "df.sex.unique()\n",
    "df.sex.nunique()"
   ]
  },
  {
   "cell_type": "code",
   "execution_count": null,
   "id": "d29de21f",
   "metadata": {},
   "outputs": [],
   "source": [
    "# To find the uniber of unique values in columns\n",
    "df.nunique()"
   ]
  },
  {
   "cell_type": "code",
   "execution_count": null,
   "id": "fa6552aa",
   "metadata": {},
   "outputs": [],
   "source": [
    "# to show all columns\n",
    "df.columns"
   ]
  },
  {
   "cell_type": "code",
   "execution_count": null,
   "id": "d3720cd7",
   "metadata": {},
   "outputs": [],
   "source": [
    "# show the unique value in 1 columns\n",
    "df[\"embark_town\"].unique()"
   ]
  },
  {
   "cell_type": "code",
   "execution_count": null,
   "id": "9411aa21",
   "metadata": {},
   "outputs": [],
   "source": [
    "# value counts \n",
    "df['embark_town'].value_counts()"
   ]
  },
  {
   "cell_type": "code",
   "execution_count": null,
   "id": "22c77d84",
   "metadata": {},
   "outputs": [],
   "source": [
    "# df = df.dropna(subset=['embark_town'])\n"
   ]
  },
  {
   "cell_type": "code",
   "execution_count": null,
   "id": "a1c38a04",
   "metadata": {},
   "outputs": [],
   "source": [
    "# df = df.dropna(subset=['age', 'deck' ])"
   ]
  },
  {
   "cell_type": "code",
   "execution_count": null,
   "id": "838d1b7a",
   "metadata": {},
   "outputs": [],
   "source": [
    "sns.heatmap(df.isnull())"
   ]
  },
  {
   "cell_type": "code",
   "execution_count": null,
   "id": "85f5f310",
   "metadata": {},
   "outputs": [],
   "source": [
    "df.head()"
   ]
  },
  {
   "cell_type": "code",
   "execution_count": null,
   "id": "d7bd85c7",
   "metadata": {},
   "outputs": [],
   "source": [
    "df['embark_town'].unique()"
   ]
  },
  {
   "cell_type": "code",
   "execution_count": null,
   "id": "0529e896",
   "metadata": {},
   "outputs": [],
   "source": [
    "# To find the survived fare by using groupby\n",
    "df.groupby('survived')['fare'].mean()\n"
   ]
  },
  {
   "cell_type": "code",
   "execution_count": null,
   "id": "6bbda7df",
   "metadata": {},
   "outputs": [],
   "source": [
    "df.groupby(['survived', 'sex'])['fare'].mean()"
   ]
  },
  {
   "cell_type": "code",
   "execution_count": null,
   "id": "f053a747",
   "metadata": {},
   "outputs": [],
   "source": [
    "df.groupby(['survived', 'who']).size()"
   ]
  },
  {
   "cell_type": "code",
   "execution_count": null,
   "id": "77c2c25e",
   "metadata": {},
   "outputs": [],
   "source": [
    "# corrlation matrix\n",
    "corrleation_df = df[['fare', 'age', 'sibsp']].corr()"
   ]
  },
  {
   "cell_type": "code",
   "execution_count": null,
   "id": "aee0e153",
   "metadata": {},
   "outputs": [],
   "source": [
    "sns.heatmap(corrleation_df)"
   ]
  },
  {
   "cell_type": "code",
   "execution_count": null,
   "id": "67e13501",
   "metadata": {},
   "outputs": [],
   "source": [
    "sns.pairplot(corrleation_df)"
   ]
  },
  {
   "cell_type": "code",
   "execution_count": null,
   "id": "bae834d3",
   "metadata": {},
   "outputs": [],
   "source": [
    "df.groupby('survived') ['fare'].mean()"
   ]
  },
  {
   "cell_type": "code",
   "execution_count": null,
   "id": "935b0e7d",
   "metadata": {},
   "outputs": [],
   "source": [
    "df.info()"
   ]
  },
  {
   "cell_type": "code",
   "execution_count": null,
   "id": "e30550a3",
   "metadata": {},
   "outputs": [],
   "source": [
    "# checking the null values in columns\n",
    "df.info()"
   ]
  },
  {
   "cell_type": "code",
   "execution_count": null,
   "id": "67106f73",
   "metadata": {},
   "outputs": [],
   "source": [
    "# droped the deck column because it have null values more than 70% \n",
    "df.drop('deck', axis=1, inplace=True)"
   ]
  },
  {
   "cell_type": "code",
   "execution_count": null,
   "id": "50c725b3",
   "metadata": {},
   "outputs": [],
   "source": [
    "# now ckeck it \n",
    "df.columns"
   ]
  },
  {
   "cell_type": "code",
   "execution_count": null,
   "id": "3000b9a7",
   "metadata": {},
   "outputs": [],
   "source": [
    "df.isnull().sum() / len(df) * 100\n"
   ]
  },
  {
   "cell_type": "code",
   "execution_count": null,
   "id": "9aa5fdc8",
   "metadata": {},
   "outputs": [],
   "source": [
    "\n",
    "df.isnull().sum()"
   ]
  },
  {
   "cell_type": "markdown",
   "id": "91eaa3c4",
   "metadata": {},
   "source": [
    "# Filling the null value"
   ]
  },
  {
   "cell_type": "code",
   "execution_count": null,
   "id": "6c9970d9",
   "metadata": {},
   "outputs": [],
   "source": [
    "# filling the null values of age by using the mean\n",
    "df['age'] = df['age'].fillna(df['age'].mean())"
   ]
  },
  {
   "cell_type": "code",
   "execution_count": null,
   "id": "919b93f3",
   "metadata": {},
   "outputs": [],
   "source": [
    "df.isnull().sum()"
   ]
  },
  {
   "cell_type": "code",
   "execution_count": null,
   "id": "f9e90b8c",
   "metadata": {},
   "outputs": [],
   "source": [
    "# Fill the  null value whit Peshawar\n",
    "df['embark_town'].fillna(df['embark_town'].mode()[0])"
   ]
  },
  {
   "cell_type": "code",
   "execution_count": null,
   "id": "b125d1f0",
   "metadata": {},
   "outputs": [],
   "source": [
    "df.embark_town.unique()"
   ]
  },
  {
   "cell_type": "code",
   "execution_count": null,
   "id": "faa77455",
   "metadata": {},
   "outputs": [],
   "source": [
    "sns.heatmap(df.isnull())"
   ]
  },
  {
   "cell_type": "code",
   "execution_count": null,
   "id": "390b4be8",
   "metadata": {},
   "outputs": [],
   "source": [
    "df['embarked'].fillna(df['embarked'].mode()[0], inplace=True)"
   ]
  },
  {
   "cell_type": "code",
   "execution_count": null,
   "id": "b5390d8e",
   "metadata": {},
   "outputs": [],
   "source": [
    "sns.histplot(df['age'])"
   ]
  },
  {
   "cell_type": "markdown",
   "id": "880a4937",
   "metadata": {},
   "source": [
    "# **Binning**"
   ]
  },
  {
   "cell_type": "markdown",
   "id": "9e2f54c2",
   "metadata": {},
   "source": []
  },
  {
   "cell_type": "code",
   "execution_count": null,
   "id": "fbcc7dbe",
   "metadata": {},
   "outputs": [],
   "source": [
    "bins = [0, 10, 20, 30, 40, 50, 60, 70, 80, 90, 100]\n",
    "labels = ['kids', 'teenagers', 'young adults', 'adults', 'middle aged',\n",
    "           'seniors', 'elderly', 'very elderly', 'super elderly', 'centenarians']\n",
    "pd.cut(df['age'], bins=bins, labels=labels)\n"
   ]
  },
  {
   "cell_type": "code",
   "execution_count": null,
   "id": "4b91db19",
   "metadata": {},
   "outputs": [],
   "source": [
    "df.age.info()"
   ]
  },
  {
   "cell_type": "markdown",
   "id": "3a241a2a",
   "metadata": {},
   "source": [
    "# Feature engineering"
   ]
  },
  {
   "cell_type": "code",
   "execution_count": null,
   "id": "52ef3956",
   "metadata": {},
   "outputs": [],
   "source": [
    "bins = [0, 10, 20, 30, 40, 50, 60, 70, 80, 90, 100]\n",
    "labels = ['kids', 'teenagers', 'young adults', 'adults', 'middle aged',\n",
    "           'seniors', 'elderly', 'very elderly', 'super elderly', 'centenarians']\n",
    "\n",
    "# converting bins into columns\n",
    "\n",
    "df['binned_age'] = pd.cut(df['age'], bins=bins, labels=labels)\n"
   ]
  },
  {
   "cell_type": "code",
   "execution_count": null,
   "id": "82a545c9",
   "metadata": {},
   "outputs": [],
   "source": [
    "df.head()"
   ]
  },
  {
   "cell_type": "code",
   "execution_count": null,
   "id": "9e4050a7",
   "metadata": {},
   "outputs": [],
   "source": [
    "df['binned_age'].value_counts()"
   ]
  },
  {
   "cell_type": "code",
   "execution_count": null,
   "id": "64d45ff7",
   "metadata": {},
   "outputs": [],
   "source": [
    "# change a columns name \n",
    "df.rename(columns={'binned_age': 'age_group'}, inplace=True)\n"
   ]
  },
  {
   "cell_type": "code",
   "execution_count": null,
   "id": "750a6111",
   "metadata": {},
   "outputs": [],
   "source": [
    "df.head()"
   ]
  },
  {
   "cell_type": "code",
   "execution_count": null,
   "id": "e43cb43c",
   "metadata": {},
   "outputs": [],
   "source": [
    "df.head()"
   ]
  },
  {
   "cell_type": "code",
   "execution_count": null,
   "id": "dbf1a13a",
   "metadata": {},
   "outputs": [],
   "source": [
    "df.groupby('age_group').value_counts()"
   ]
  },
  {
   "cell_type": "code",
   "execution_count": null,
   "id": "8c65eb54",
   "metadata": {},
   "outputs": [],
   "source": [
    "df."
   ]
  }
 ],
 "metadata": {
  "kernelspec": {
   "display_name": "python_eda",
   "language": "python",
   "name": "python3"
  },
  "language_info": {
   "codemirror_mode": {
    "name": "ipython",
    "version": 3
   },
   "file_extension": ".py",
   "mimetype": "text/x-python",
   "name": "python",
   "nbconvert_exporter": "python",
   "pygments_lexer": "ipython3",
   "version": "3.13.5"
  }
 },
 "nbformat": 4,
 "nbformat_minor": 5
}
